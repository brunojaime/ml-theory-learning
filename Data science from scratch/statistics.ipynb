{
 "cells": [
  {
   "cell_type": "markdown",
   "metadata": {},
   "source": [
    "Statistics refer to the mathematics and techniques with which we unsderstand data"
   ]
  },
  {
   "cell_type": "code",
   "execution_count": 74,
   "metadata": {},
   "outputs": [],
   "source": [
    "# One obvius description of any dataset is simply the data itself\n",
    "num_friends = [100,4,2,9,5,5,45,5,3,7,2,5,9,2,5,3]*3"
   ]
  },
  {
   "cell_type": "markdown",
   "metadata": {},
   "source": [
    "For larger dataset we use statistics to communicate relevant features out of the data"
   ]
  },
  {
   "cell_type": "code",
   "execution_count": 75,
   "metadata": {},
   "outputs": [
    {
     "data": {
      "image/png": "[encoded data removed]",
      "text/plain": [
       "<Figure size 640x480 with 1 Axes>"
      ]
     },
     "metadata": {},
     "output_type": "display_data"
    }
   ],
   "source": [
    "from collections import Counter\n",
    "import matplotlib.pyplot as plt\n",
    "friends_count = Counter(num_friends)\n",
    "xs = range(101) # largest values is 100\n",
    "ys = [friends_count[x] for x in xs]\n",
    "plt.bar(xs,ys)\n",
    "plt.axis([0,101,0,25])\n",
    "plt.title(\"Hisogram of Friend Counts\")\n",
    "plt.xlabel(\"# of friends\")\n",
    "plt.ylabel(\"# of people\")\n",
    "plt.show()"
   ]
  },
  {
   "cell_type": "code",
   "execution_count": 76,
   "metadata": {},
   "outputs": [],
   "source": [
    "num_points = len(num_friends)\n",
    "larger_value = max(num_friends)\n",
    "smallest_value = min(num_friends)"
   ]
  },
  {
   "cell_type": "code",
   "execution_count": 77,
   "metadata": {},
   "outputs": [
    {
     "name": "stdout",
     "output_type": "stream",
     "text": [
      "100\n",
      "2\n"
     ]
    }
   ],
   "source": [
    "print(larger_value)\n",
    "print(smallest_value)"
   ]
  },
  {
   "cell_type": "code",
   "execution_count": 78,
   "metadata": {},
   "outputs": [],
   "source": [
    "sorted_values = set(num_friends)\n",
    "list_friends = sorted(list(sorted_values))\n",
    "smallest_value = list_friends[0]\n",
    "second_smallest = list_friends[1]"
   ]
  },
  {
   "cell_type": "code",
   "execution_count": 79,
   "metadata": {},
   "outputs": [
    {
     "name": "stdout",
     "output_type": "stream",
     "text": [
      "2\n",
      "3\n"
     ]
    }
   ],
   "source": [
    "print(smallest_value)\n",
    "print(second_smallest)"
   ]
  },
  {
   "cell_type": "markdown",
   "metadata": {},
   "source": [
    "### Central Tendencies\n",
    "Usually we'll want some notion of where our data is centered. Most commonly we use the average (mean)"
   ]
  },
  {
   "cell_type": "code",
   "execution_count": 80,
   "metadata": {},
   "outputs": [],
   "source": [
    "def mean(friends):\n",
    "    return sum(friends)/len(friends)"
   ]
  },
  {
   "cell_type": "code",
   "execution_count": 81,
   "metadata": {},
   "outputs": [
    {
     "data": {
      "text/plain": [
       "13.1875"
      ]
     },
     "execution_count": 81,
     "metadata": {},
     "output_type": "execute_result"
    }
   ],
   "source": [
    "mean(num_friends)"
   ]
  },
  {
   "cell_type": "code",
   "execution_count": 95,
   "metadata": {},
   "outputs": [],
   "source": [
    "# Median -> Is the middle-most value (if the number of data points is odd) o the average of the middle-most values (if the number of data points is even)\n",
    "\n",
    "def median(friends):\n",
    "    sorted_friends = sorted(friends)\n",
    "    high_middle = len(sorted_friends) // 2\n",
    "    if (len(friends) % 2):\n",
    "        return sorted_friends[high_middle]\n",
    "    else:\n",
    "        return (sorted_friends[high_middle -1 ] + sorted_friends[high_middle] ) / 2\n",
    "\n"
   ]
  },
  {
   "cell_type": "code",
   "execution_count": 98,
   "metadata": {},
   "outputs": [],
   "source": [
    "assert median([1,10,2,9,5]) == 5\n",
    "assert median([1,9,2,10]) == (2+9)/2"
   ]
  },
  {
   "cell_type": "code",
   "execution_count": 99,
   "metadata": {},
   "outputs": [
    {
     "name": "stdout",
     "output_type": "stream",
     "text": [
      "5.0\n"
     ]
    }
   ],
   "source": [
    "print(median(num_friends))"
   ]
  },
  {
   "cell_type": "markdown",
   "metadata": {},
   "source": [
    "A generalization of the median is the quantile which represents the value under which a certain perfcentile of the daa lies. (The median represents the value under which 50% of the data lies)"
   ]
  },
  {
   "cell_type": "code",
   "execution_count": 103,
   "metadata": {},
   "outputs": [
    {
     "name": "stdout",
     "output_type": "stream",
     "text": [
      "2\n",
      "3\n",
      "9\n",
      "45\n"
     ]
    }
   ],
   "source": [
    "# p -> Represents the pth- percentile value chosen\n",
    "def quantile(xs, p) -> float:\n",
    "    p_index = int(p * len(xs))\n",
    "    return sorted(xs)[p_index]\n",
    "print(quantile(num_friends,0.10))\n",
    "print(quantile(num_friends,0.25))\n",
    "print(quantile(num_friends,0.75))\n",
    "print(quantile(num_friends,0.90))\n"
   ]
  },
  {
   "cell_type": "code",
   "execution_count": 114,
   "metadata": {},
   "outputs": [
    {
     "data": {
      "text/plain": [
       "[5]"
      ]
     },
     "execution_count": 114,
     "metadata": {},
     "output_type": "execute_result"
    }
   ],
   "source": [
    "def mode(x):\n",
    "    counts = Counter(x)\n",
    "    max_count = max(counts.values())\n",
    "    return [x_i for x_i,count in counts.items() if count==max_count]\n",
    "\n",
    "\n",
    "mode(num_friends)"
   ]
  },
  {
   "cell_type": "markdown",
   "metadata": {},
   "source": [
    "### Dispersion\n",
    "It refers to measures of how spread our data is. If our value is near 0 then is almost not spread at all.\n",
    "And which large values (whatever that means) it represents very spread out values."
   ]
  },
  {
   "cell_type": "code",
   "execution_count": 116,
   "metadata": {},
   "outputs": [
    {
     "data": {
      "text/plain": [
       "98"
      ]
     },
     "execution_count": 116,
     "metadata": {},
     "output_type": "execute_result"
    }
   ],
   "source": [
    "# Range. The range doesn't really depende on the whole dataset. Only in the extrems\n",
    "def data_range(xs):\n",
    "    return max(xs) - min(xs)\n",
    "\n",
    "data_range(num_friends)"
   ]
  },
  {
   "cell_type": "code",
   "execution_count": 147,
   "metadata": {},
   "outputs": [],
   "source": [
    "# Variance\n",
    "import numpy as np\n",
    "\n",
    "def demean(xs):\n",
    "    x_bar = mean(xs)\n",
    "    return [x_i - x_bar for x_i in xs]\n",
    "\n",
    "def variance(xs):\n",
    "    n = len(xs)\n",
    "    deviations = demean(xs)\n",
    "    return ((np.array(deviations) **2).sum()) /(n-1)\n",
    "    "
   ]
  },
  {
   "cell_type": "code",
   "execution_count": 149,
   "metadata": {},
   "outputs": [
    {
     "data": {
      "text/plain": [
       "614.3257978723404"
      ]
     },
     "execution_count": 149,
     "metadata": {},
     "output_type": "execute_result"
    }
   ],
   "source": [
    "variance(num_friends)\n"
   ]
  },
  {
   "cell_type": "code",
   "execution_count": 150,
   "metadata": {},
   "outputs": [
    {
     "data": {
      "text/plain": [
       "array([10.        ,  2.        ,  1.41421356,  3.        ,  2.23606798,\n",
       "        2.23606798,  6.70820393,  2.23606798,  1.73205081,  2.64575131,\n",
       "        1.41421356,  2.23606798,  3.        ,  1.41421356,  2.23606798,\n",
       "        1.73205081, 10.        ,  2.        ,  1.41421356,  3.        ,\n",
       "        2.23606798,  2.23606798,  6.70820393,  2.23606798,  1.73205081,\n",
       "        2.64575131,  1.41421356,  2.23606798,  3.        ,  1.41421356,\n",
       "        2.23606798,  1.73205081, 10.        ,  2.        ,  1.41421356,\n",
       "        3.        ,  2.23606798,  2.23606798,  6.70820393,  2.23606798,\n",
       "        1.73205081,  2.64575131,  1.41421356,  2.23606798,  3.        ,\n",
       "        1.41421356,  2.23606798,  1.73205081])"
      ]
     },
     "execution_count": 150,
     "metadata": {},
     "output_type": "execute_result"
    }
   ],
   "source": [
    "# standard deviation. Is the root squared of the variance\n",
    "def standard_deviation(xs):\n",
    "    array = np.array(xs)\n",
    "    return np.sqrt(array)\n",
    "\n",
    "standard_deviation(num_friends)"
   ]
  },
  {
   "cell_type": "markdown",
   "metadata": {},
   "source": [
    "### Correlation \n",
    "Firts -> covariance. Variance measures how a single variable deviates from its mean, covariance measures how two variables vary in tandem from the mean"
   ]
  },
  {
   "cell_type": "code",
   "execution_count": 155,
   "metadata": {},
   "outputs": [],
   "source": [
    "def covariance(xs,ys):\n",
    "    return np.dot(xs,ys)/len(xs)-1\n"
   ]
  },
  {
   "cell_type": "markdown",
   "metadata": {},
   "source": [
    "### Simpson's paradox\n",
    "Correlations can be misleading when confounding variables are ignored. The only real way to avoid this is by knowing your data."
   ]
  },
  {
   "cell_type": "markdown",
   "metadata": {},
   "source": [
    "\n"
   ]
  },
  {
   "cell_type": "code",
   "execution_count": 156,
   "metadata": {},
   "outputs": [],
   "source": []
  }
 ],
 "metadata": {
  "kernelspec": {
   "display_name": "mlenv",
   "language": "python",
   "name": "python3"
  },
  "language_info": {
   "codemirror_mode": {
    "name": "ipython",
    "version": 3
   },
   "file_extension": ".py",
   "mimetype": "text/x-python",
   "name": "python",
   "nbconvert_exporter": "python",
   "pygments_lexer": "ipython3",
   "version": "3.11.5"
  }
 },
 "nbformat": 4,
 "nbformat_minor": 2
}
