{
 "cells": [
  {
   "cell_type": "markdown",
   "metadata": {},
   "source": [
    "Probability is a way of quantifying the uncertinty associated with events chosen from some universe of events.\n",
    "P(E) -> The probability of the event E.\n",
    "We'll use probability theory to build and evaluate models"
   ]
  },
  {
   "cell_type": "markdown",
   "metadata": {},
   "source": [
    "### Dependence and independence \n",
    "Two events E and F are dependent if knowing something about whether E happens, gives us information about whether F happens (and viceversa). Otherwise, the are independent."
   ]
  },
  {
   "cell_type": "code",
   "execution_count": 1,
   "metadata": {},
   "outputs": [],
   "source": [
    "# Two events are independent if the probability that they both happen is the product of the probabilities that each one happens\n",
    "# P(E,F) = P(E) * P(F)"
   ]
  },
  {
   "cell_type": "markdown",
   "metadata": {},
   "source": [
    "### Conditional probability\n",
    "If E and F are not independent (and the probability of F is not zero), the nwe define the probability of E \"conditional on F\" as"
   ]
  },
  {
   "cell_type": "code",
   "execution_count": 2,
   "metadata": {},
   "outputs": [],
   "source": [
    "# P(E|F) = P(E,F)/P(F) -> probability that E happens, given that we know that F happens\n",
    "# P(E,F) = P(E/F) * P(F)"
   ]
  },
  {
   "cell_type": "code",
   "execution_count": 3,
   "metadata": {},
   "outputs": [],
   "source": [
    "import enum,random\n",
    "class Kid(enum.Enum):\n",
    "    BOY = 0\n",
    "    GIRL = 1\n"
   ]
  },
  {
   "cell_type": "code",
   "execution_count": 4,
   "metadata": {},
   "outputs": [],
   "source": [
    "def random_kid() -> Kid:\n",
    "    return random.choice([Kid.BOY, Kid.GIRL])"
   ]
  },
  {
   "cell_type": "code",
   "execution_count": 5,
   "metadata": {},
   "outputs": [
    {
     "name": "stdout",
     "output_type": "stream",
     "text": [
      "P(both | older): 0.5007089325501317\n",
      "P(bith | either): 0.3311897106109325\n"
     ]
    }
   ],
   "source": [
    "both_girls = 0\n",
    "older_girl = 0\n",
    "either_girl = 0\n",
    "\n",
    "random.seed(0)\n",
    "\n",
    "for _ in range(10000):\n",
    "    younger= random_kid()\n",
    "    older = random_kid()\n",
    "    if older==Kid.GIRL:\n",
    "        older_girl += 1\n",
    "    if older == Kid.GIRL and younger == Kid.GIRL: \n",
    "        both_girls+=1\n",
    "    if older == Kid.GIRL or younger == Kid.GIRL:\n",
    "        either_girl+=1\n",
    "\n",
    "print(\"P(both | older):\", both_girls/older_girl)\n",
    "print(\"P(bith | either):\", both_girls/either_girl)\n"
   ]
  },
  {
   "cell_type": "markdown",
   "metadata": {},
   "source": [
    "### Baye's Theorem\n",
    "It's a way of reversing conditional probabilities.\n",
    "Let's say we need to know the probability of some event E conditional on some other event F occurring.\n",
    "But we only have information about the probability of F conditional on E occurring.\n",
    "We can use the definition of conditional probability twice:"
   ]
  },
  {
   "cell_type": "code",
   "execution_count": 6,
   "metadata": {},
   "outputs": [],
   "source": [
    "# P(E|F) = P(E,F)/ P(F) = P(F|E)P(E)/P(F)\n",
    "# P(F) = P(F,E) + P(F,~E)\n",
    "# so -> P(E|F) = P(F|E)P(E)/[P(F|E)P(E) + P(F|~E)P(~E)] -> Bayes's theorem"
   ]
  },
  {
   "cell_type": "markdown",
   "metadata": {},
   "source": [
    "### Random variable\n",
    "A random variable is a variable whose possible values have an associated probability distribution"
   ]
  }
 ],
 "metadata": {
  "kernelspec": {
   "display_name": "mlenv",
   "language": "python",
   "name": "python3"
  },
  "language_info": {
   "codemirror_mode": {
    "name": "ipython",
    "version": 3
   },
   "file_extension": ".py",
   "mimetype": "text/x-python",
   "name": "python",
   "nbconvert_exporter": "python",
   "pygments_lexer": "ipython3",
   "version": "3.11.5"
  }
 },
 "nbformat": 4,
 "nbformat_minor": 2
}
