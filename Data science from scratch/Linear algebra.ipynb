{
 "cells": [
  {
   "cell_type": "code",
   "execution_count": 7,
   "metadata": {},
   "outputs": [
    {
     "data": {
      "text/plain": [
       "[3, 7, 11]"
      ]
     },
     "execution_count": 7,
     "metadata": {},
     "output_type": "execute_result"
    }
   ],
   "source": [
    "from typing import List\n",
    "Vector = List[float]\n",
    "\n",
    "def add(v: Vector, w:Vector) -> Vector:\n",
    "    return [v_i + w_i for v_i,w_i in zip(v,w)]\n",
    "vec1 =[1,2,3]\n",
    "vec2 =[2,5,8]\n",
    "\n",
    "add(vec1,vec2)\n",
    "\n"
   ]
  },
  {
   "cell_type": "code",
   "execution_count": 10,
   "metadata": {},
   "outputs": [],
   "source": [
    "def substract(v,w):\n",
    "    return [v_i-w_i for v_i,w_i in zip(v,w)]\n",
    "\n",
    "assert substract([4,5,6,2],[1,4,3,0]) == [3,1,3,2]"
   ]
  },
  {
   "cell_type": "code",
   "execution_count": null,
   "metadata": {},
   "outputs": [],
   "source": []
  }
 ],
 "metadata": {
  "kernelspec": {
   "display_name": "mlenv",
   "language": "python",
   "name": "python3"
  },
  "language_info": {
   "codemirror_mode": {
    "name": "ipython",
    "version": 3
   },
   "file_extension": ".py",
   "mimetype": "text/x-python",
   "name": "python",
   "nbconvert_exporter": "python",
   "pygments_lexer": "ipython3",
   "version": "3.11.5"
  }
 },
 "nbformat": 4,
 "nbformat_minor": 2
}
