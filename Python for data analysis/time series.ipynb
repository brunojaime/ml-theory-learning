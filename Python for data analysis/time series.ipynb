{
 "cells": [
  {
   "cell_type": "markdown",
   "metadata": {},
   "source": [
    "Series Data is an important form of structured data.\n",
    "Is everything that is recorded repeatedly at many points. \n",
    "Fixed frequency -> Data points occur at regular intervals.\n",
    "It could be irregular respect to time.\n",
    "### Ways to mark and refer to time series Data\n",
    "- Timestamps -> Specific instant of time\n",
    "- Fixed periods -> The whole month of January, the whole year 2020\n",
    "- Intervals of time -> Indicated by a start and end timestamp. Periods are special cases of intervals\n",
    "- Experiment or elapsed time -> Each timestamp is a measure of time relative to a particular start time, starting from 0"
   ]
  },
  {
   "cell_type": "code",
   "execution_count": 1,
   "metadata": {},
   "outputs": [],
   "source": [
    "import numpy as np\n",
    "import pandas as pd\n",
    "from datetime import datetime, date"
   ]
  },
  {
   "cell_type": "markdown",
   "metadata": {},
   "source": [
    "### Date and Time Data Types and Tools\n",
    "datetime, time and calendar modules\n"
   ]
  },
  {
   "cell_type": "code",
   "execution_count": 2,
   "metadata": {},
   "outputs": [
    {
     "data": {
      "text/plain": [
       "datetime.datetime(2024, 3, 6, 11, 49, 47, 96857)"
      ]
     },
     "execution_count": 2,
     "metadata": {},
     "output_type": "execute_result"
    }
   ],
   "source": [
    "now = datetime.now()\n",
    "now"
   ]
  },
  {
   "cell_type": "code",
   "execution_count": 3,
   "metadata": {},
   "outputs": [
    {
     "data": {
      "text/plain": [
       "(2024, 3, 6)"
      ]
     },
     "execution_count": 3,
     "metadata": {},
     "output_type": "execute_result"
    }
   ],
   "source": [
    "now.year ,now.month, now.day"
   ]
  },
  {
   "cell_type": "code",
   "execution_count": 4,
   "metadata": {},
   "outputs": [
    {
     "data": {
      "text/plain": [
       "datetime.timedelta(days=926, seconds=56700)"
      ]
     },
     "execution_count": 4,
     "metadata": {},
     "output_type": "execute_result"
    }
   ],
   "source": [
    "delta = datetime(2011,1,7) - datetime(2008,6,24,8,15)\n",
    "delta"
   ]
  },
  {
   "cell_type": "code",
   "execution_count": 5,
   "metadata": {},
   "outputs": [
    {
     "data": {
      "text/plain": [
       "(926, 56700)"
      ]
     },
     "execution_count": 5,
     "metadata": {},
     "output_type": "execute_result"
    }
   ],
   "source": [
    "delta.days,delta.seconds"
   ]
  },
  {
   "cell_type": "code",
   "execution_count": 6,
   "metadata": {},
   "outputs": [
    {
     "data": {
      "text/plain": [
       "datetime.datetime(2023, 4, 23, 0, 0)"
      ]
     },
     "execution_count": 6,
     "metadata": {},
     "output_type": "execute_result"
    }
   ],
   "source": [
    "from datetime import timedelta\n",
    "start = datetime(2023,4,21)\n",
    "start + timedelta(2)"
   ]
  },
  {
   "cell_type": "code",
   "execution_count": 7,
   "metadata": {},
   "outputs": [
    {
     "data": {
      "text/plain": [
       "datetime.datetime(2023, 3, 28, 0, 0)"
      ]
     },
     "execution_count": 7,
     "metadata": {},
     "output_type": "execute_result"
    }
   ],
   "source": [
    "start - 2 * timedelta(12)"
   ]
  },
  {
   "cell_type": "code",
   "execution_count": 8,
   "metadata": {},
   "outputs": [
    {
     "data": {
      "text/plain": [
       "datetime.date(2022, 12, 2)"
      ]
     },
     "execution_count": 8,
     "metadata": {},
     "output_type": "execute_result"
    }
   ],
   "source": [
    "date(2022,12,2)"
   ]
  },
  {
   "cell_type": "markdown",
   "metadata": {},
   "source": [
    "### Converting between String and Datetime\n",
    "You can format datetime objects and pandas Timestamp objects as string using str or strftime method. "
   ]
  },
  {
   "cell_type": "markdown",
   "metadata": {},
   "source": [
    "Converting date to string"
   ]
  },
  {
   "cell_type": "code",
   "execution_count": 9,
   "metadata": {},
   "outputs": [
    {
     "data": {
      "text/plain": [
       "'2022-12-02 10:00:10'"
      ]
     },
     "execution_count": 9,
     "metadata": {},
     "output_type": "execute_result"
    }
   ],
   "source": [
    "stamp = datetime(2022,12,2,10,00,10)\n",
    "str(stamp)"
   ]
  },
  {
   "cell_type": "code",
   "execution_count": 10,
   "metadata": {},
   "outputs": [
    {
     "data": {
      "text/plain": [
       "'02---12---22///5'"
      ]
     },
     "execution_count": 10,
     "metadata": {},
     "output_type": "execute_result"
    }
   ],
   "source": [
    "stamp.strftime(\"%d---%m---%y///%w\")"
   ]
  },
  {
   "cell_type": "markdown",
   "metadata": {},
   "source": [
    "Converting string to date"
   ]
  },
  {
   "cell_type": "code",
   "execution_count": 11,
   "metadata": {},
   "outputs": [
    {
     "data": {
      "text/plain": [
       "datetime.datetime(2011, 1, 6, 0, 0)"
      ]
     },
     "execution_count": 11,
     "metadata": {},
     "output_type": "execute_result"
    }
   ],
   "source": [
    "datestr = '2011-01-06'\n",
    "datetime.strptime(datestr,\"%Y-%m-%d\")"
   ]
  },
  {
   "cell_type": "markdown",
   "metadata": {},
   "source": [
    "Pandas usually uses arrays of dates.\n",
    "To parse many different kind of data representations -> pandas.to_datetime"
   ]
  },
  {
   "cell_type": "code",
   "execution_count": 12,
   "metadata": {},
   "outputs": [
    {
     "data": {
      "text/plain": [
       "DatetimeIndex(['2011-04-04 12:00:00', '2011-08-04 16:10:00'], dtype='datetime64[ns]', freq=None)"
      ]
     },
     "execution_count": 12,
     "metadata": {},
     "output_type": "execute_result"
    }
   ],
   "source": [
    "datestrs = ['2011-04-04 12:00:00','2011-08-04 16:10:00']\n",
    "pd.to_datetime(datestrs) "
   ]
  },
  {
   "cell_type": "code",
   "execution_count": 13,
   "metadata": {},
   "outputs": [
    {
     "data": {
      "text/plain": [
       "DatetimeIndex(['2011-04-06 12:00:00', '2012-12-23 17:35:20', 'NaT'], dtype='datetime64[ns]', freq=None)"
      ]
     },
     "execution_count": 13,
     "metadata": {},
     "output_type": "execute_result"
    }
   ],
   "source": [
    "#Evaluating with null values (None, empty,etc)\n",
    "idx= pd.to_datetime(['2011-04-06 12:00:00','2012-12-23 17:35:20',None]) # NaT -> Not a Time\n",
    "idx"
   ]
  },
  {
   "cell_type": "code",
   "execution_count": 14,
   "metadata": {},
   "outputs": [
    {
     "data": {
      "text/plain": [
       "array([False, False,  True])"
      ]
     },
     "execution_count": 14,
     "metadata": {},
     "output_type": "execute_result"
    }
   ],
   "source": [
    "pd.isna(idx)"
   ]
  },
  {
   "cell_type": "markdown",
   "metadata": {},
   "source": [
    "### Time Series Basics\n",
    "Basic kind of time series object in pandas is Series indexed by timestamps."
   ]
  },
  {
   "cell_type": "code",
   "execution_count": 15,
   "metadata": {},
   "outputs": [],
   "source": [
    "cant_valores = 2000\n",
    "dates= []\n",
    "for i in range(cant_valores):\n",
    "    anio = np.random.randint(2000,2024)\n",
    "    mes = np.random.randint(1,12)\n",
    "    dia = np.random.randint(1,29)\n",
    "    dates.append(datetime(anio,mes,dia))"
   ]
  },
  {
   "cell_type": "code",
   "execution_count": 16,
   "metadata": {},
   "outputs": [
    {
     "data": {
      "text/plain": [
       "2020-10-24   -0.266615\n",
       "2014-02-13   -0.492832\n",
       "2002-11-21   -0.875787\n",
       "2015-08-01    0.263407\n",
       "2021-03-09   -0.693588\n",
       "                ...   \n",
       "2011-08-05   -0.367949\n",
       "2022-01-08   -1.388875\n",
       "2018-08-16   -1.846368\n",
       "2018-01-13   -1.726898\n",
       "2022-01-18   -0.672891\n",
       "Length: 2000, dtype: float64"
      ]
     },
     "execution_count": 16,
     "metadata": {},
     "output_type": "execute_result"
    }
   ],
   "source": [
    "ts = pd.Series(np.random.standard_normal(cant_valores),index = dates)\n",
    "ts"
   ]
  },
  {
   "cell_type": "code",
   "execution_count": 17,
   "metadata": {},
   "outputs": [
    {
     "data": {
      "text/plain": [
       "DatetimeIndex(['2020-10-24', '2014-02-13', '2002-11-21', '2015-08-01',\n",
       "               '2021-03-09', '2019-01-08', '2000-03-19', '2021-06-10',\n",
       "               '2011-06-23', '2021-06-03',\n",
       "               ...\n",
       "               '2000-02-09', '2012-04-27', '2007-08-19', '2014-09-10',\n",
       "               '2000-11-13', '2011-08-05', '2022-01-08', '2018-08-16',\n",
       "               '2018-01-13', '2022-01-18'],\n",
       "              dtype='datetime64[ns]', length=2000, freq=None)"
      ]
     },
     "execution_count": 17,
     "metadata": {},
     "output_type": "execute_result"
    }
   ],
   "source": [
    "# Under the hood, the dateimte have been put in a Datetime Index\n",
    "ts.index"
   ]
  },
  {
   "cell_type": "code",
   "execution_count": 18,
   "metadata": {},
   "outputs": [
    {
     "data": {
      "text/plain": [
       "2000-01-15         NaN\n",
       "2000-01-16         NaN\n",
       "2000-01-18         NaN\n",
       "2000-01-28   -1.327169\n",
       "2000-02-02         NaN\n",
       "                ...   \n",
       "2023-10-24         NaN\n",
       "2023-10-25   -0.052337\n",
       "2023-11-14         NaN\n",
       "2023-11-15         NaN\n",
       "2023-11-23         NaN\n",
       "Length: 2138, dtype: float64"
      ]
     },
     "execution_count": 18,
     "metadata": {},
     "output_type": "execute_result"
    }
   ],
   "source": [
    "ts + ts[::2]"
   ]
  },
  {
   "cell_type": "code",
   "execution_count": 19,
   "metadata": {},
   "outputs": [
    {
     "data": {
      "text/plain": [
       "dtype('<M8[ns]')"
      ]
     },
     "execution_count": 19,
     "metadata": {},
     "output_type": "execute_result"
    }
   ],
   "source": [
    "# Pandas stores timestamps using np datetime64 data type at nanosecond resolution\n",
    "ts.index.dtype"
   ]
  },
  {
   "cell_type": "code",
   "execution_count": 20,
   "metadata": {},
   "outputs": [
    {
     "data": {
      "text/plain": [
       "Timestamp('2014-01-07 00:00:00')"
      ]
     },
     "execution_count": 20,
     "metadata": {},
     "output_type": "execute_result"
    }
   ],
   "source": [
    "#Scalar values a DatetimeIndx are pandas Timestamp objects\n",
    "stamp = ts.index[19]\n",
    "stamp\n",
    "#datetime to TimeStamp is possible, the reverse can´t be done because TimeStamp has nanosecond resolution"
   ]
  },
  {
   "cell_type": "markdown",
   "metadata": {},
   "source": [
    "### Indexing, selection, Subsetting\n",
    "It behaves like any other Series"
   ]
  },
  {
   "cell_type": "code",
   "execution_count": 21,
   "metadata": {},
   "outputs": [
    {
     "data": {
      "text/plain": [
       "-0.8757865501545752"
      ]
     },
     "execution_count": 21,
     "metadata": {},
     "output_type": "execute_result"
    }
   ],
   "source": [
    "stamps = ts.index[2]\n",
    "ts[stamps]"
   ]
  },
  {
   "cell_type": "code",
   "execution_count": 22,
   "metadata": {},
   "outputs": [
    {
     "ename": "KeyError",
     "evalue": "'2023-10-21'",
     "output_type": "error",
     "traceback": [
      "\u001b[1;31m---------------------------------------------------------------------------\u001b[0m",
      "\u001b[1;31mKeyError\u001b[0m                                  Traceback (most recent call last)",
      "File \u001b[1;32mc:\\Users\\bruno\\OneDrive\\Escritorio\\Bruno\\OneDrive\\Machine learning\\mlenv\\Lib\\site-packages\\pandas\\core\\indexes\\base.py:3805\u001b[0m, in \u001b[0;36mIndex.get_loc\u001b[1;34m(self, key)\u001b[0m\n\u001b[0;32m   3804\u001b[0m \u001b[38;5;28;01mtry\u001b[39;00m:\n\u001b[1;32m-> 3805\u001b[0m     \u001b[38;5;28;01mreturn\u001b[39;00m \u001b[38;5;28;43mself\u001b[39;49m\u001b[38;5;241;43m.\u001b[39;49m\u001b[43m_engine\u001b[49m\u001b[38;5;241;43m.\u001b[39;49m\u001b[43mget_loc\u001b[49m\u001b[43m(\u001b[49m\u001b[43mcasted_key\u001b[49m\u001b[43m)\u001b[49m\n\u001b[0;32m   3806\u001b[0m \u001b[38;5;28;01mexcept\u001b[39;00m \u001b[38;5;167;01mKeyError\u001b[39;00m \u001b[38;5;28;01mas\u001b[39;00m err:\n",
      "File \u001b[1;32mindex.pyx:577\u001b[0m, in \u001b[0;36mpandas._libs.index.DatetimeEngine.get_loc\u001b[1;34m()\u001b[0m\n",
      "File \u001b[1;32mindex.pyx:606\u001b[0m, in \u001b[0;36mpandas._libs.index.DatetimeEngine.get_loc\u001b[1;34m()\u001b[0m\n",
      "File \u001b[1;32mindex.pyx:234\u001b[0m, in \u001b[0;36mpandas._libs.index.IndexEngine._get_loc_duplicates\u001b[1;34m()\u001b[0m\n",
      "File \u001b[1;32mindex.pyx:242\u001b[0m, in \u001b[0;36mpandas._libs.index.IndexEngine._maybe_get_bool_indexer\u001b[1;34m()\u001b[0m\n",
      "File \u001b[1;32mindex.pyx:134\u001b[0m, in \u001b[0;36mpandas._libs.index._unpack_bool_indexer\u001b[1;34m()\u001b[0m\n",
      "\u001b[1;31mKeyError\u001b[0m: 1697846400000000000",
      "\nThe above exception was the direct cause of the following exception:\n",
      "\u001b[1;31mKeyError\u001b[0m                                  Traceback (most recent call last)",
      "File \u001b[1;32mc:\\Users\\bruno\\OneDrive\\Escritorio\\Bruno\\OneDrive\\Machine learning\\mlenv\\Lib\\site-packages\\pandas\\core\\indexes\\datetimes.py:630\u001b[0m, in \u001b[0;36mDatetimeIndex.get_loc\u001b[1;34m(self, key)\u001b[0m\n\u001b[0;32m    629\u001b[0m \u001b[38;5;28;01mtry\u001b[39;00m:\n\u001b[1;32m--> 630\u001b[0m     \u001b[38;5;28;01mreturn\u001b[39;00m \u001b[43mIndex\u001b[49m\u001b[38;5;241;43m.\u001b[39;49m\u001b[43mget_loc\u001b[49m\u001b[43m(\u001b[49m\u001b[38;5;28;43mself\u001b[39;49m\u001b[43m,\u001b[49m\u001b[43m \u001b[49m\u001b[43mkey\u001b[49m\u001b[43m)\u001b[49m\n\u001b[0;32m    631\u001b[0m \u001b[38;5;28;01mexcept\u001b[39;00m \u001b[38;5;167;01mKeyError\u001b[39;00m \u001b[38;5;28;01mas\u001b[39;00m err:\n",
      "File \u001b[1;32mc:\\Users\\bruno\\OneDrive\\Escritorio\\Bruno\\OneDrive\\Machine learning\\mlenv\\Lib\\site-packages\\pandas\\core\\indexes\\base.py:3812\u001b[0m, in \u001b[0;36mIndex.get_loc\u001b[1;34m(self, key)\u001b[0m\n\u001b[0;32m   3811\u001b[0m         \u001b[38;5;28;01mraise\u001b[39;00m InvalidIndexError(key)\n\u001b[1;32m-> 3812\u001b[0m     \u001b[38;5;28;01mraise\u001b[39;00m \u001b[38;5;167;01mKeyError\u001b[39;00m(key) \u001b[38;5;28;01mfrom\u001b[39;00m \u001b[38;5;21;01merr\u001b[39;00m\n\u001b[0;32m   3813\u001b[0m \u001b[38;5;28;01mexcept\u001b[39;00m \u001b[38;5;167;01mTypeError\u001b[39;00m:\n\u001b[0;32m   3814\u001b[0m     \u001b[38;5;66;03m# If we have a listlike key, _check_indexing_error will raise\u001b[39;00m\n\u001b[0;32m   3815\u001b[0m     \u001b[38;5;66;03m#  InvalidIndexError. Otherwise we fall through and re-raise\u001b[39;00m\n\u001b[0;32m   3816\u001b[0m     \u001b[38;5;66;03m#  the TypeError.\u001b[39;00m\n",
      "\u001b[1;31mKeyError\u001b[0m: Timestamp('2023-10-21 00:00:00')",
      "\nThe above exception was the direct cause of the following exception:\n",
      "\u001b[1;31mKeyError\u001b[0m                                  Traceback (most recent call last)",
      "Cell \u001b[1;32mIn[22], line 2\u001b[0m\n\u001b[0;32m      1\u001b[0m \u001b[38;5;66;03m# passing the datetime as string\u001b[39;00m\n\u001b[1;32m----> 2\u001b[0m \u001b[43mts\u001b[49m\u001b[43m[\u001b[49m\u001b[38;5;124;43m\"\u001b[39;49m\u001b[38;5;124;43m2023-10-21\u001b[39;49m\u001b[38;5;124;43m\"\u001b[39;49m\u001b[43m]\u001b[49m\n",
      "File \u001b[1;32mc:\\Users\\bruno\\OneDrive\\Escritorio\\Bruno\\OneDrive\\Machine learning\\mlenv\\Lib\\site-packages\\pandas\\core\\series.py:1112\u001b[0m, in \u001b[0;36mSeries.__getitem__\u001b[1;34m(self, key)\u001b[0m\n\u001b[0;32m   1109\u001b[0m     \u001b[38;5;28;01mreturn\u001b[39;00m \u001b[38;5;28mself\u001b[39m\u001b[38;5;241m.\u001b[39m_values[key]\n\u001b[0;32m   1111\u001b[0m \u001b[38;5;28;01melif\u001b[39;00m key_is_scalar:\n\u001b[1;32m-> 1112\u001b[0m     \u001b[38;5;28;01mreturn\u001b[39;00m \u001b[38;5;28;43mself\u001b[39;49m\u001b[38;5;241;43m.\u001b[39;49m\u001b[43m_get_value\u001b[49m\u001b[43m(\u001b[49m\u001b[43mkey\u001b[49m\u001b[43m)\u001b[49m\n\u001b[0;32m   1114\u001b[0m \u001b[38;5;66;03m# Convert generator to list before going through hashable part\u001b[39;00m\n\u001b[0;32m   1115\u001b[0m \u001b[38;5;66;03m# (We will iterate through the generator there to check for slices)\u001b[39;00m\n\u001b[0;32m   1116\u001b[0m \u001b[38;5;28;01mif\u001b[39;00m is_iterator(key):\n",
      "File \u001b[1;32mc:\\Users\\bruno\\OneDrive\\Escritorio\\Bruno\\OneDrive\\Machine learning\\mlenv\\Lib\\site-packages\\pandas\\core\\series.py:1228\u001b[0m, in \u001b[0;36mSeries._get_value\u001b[1;34m(self, label, takeable)\u001b[0m\n\u001b[0;32m   1225\u001b[0m     \u001b[38;5;28;01mreturn\u001b[39;00m \u001b[38;5;28mself\u001b[39m\u001b[38;5;241m.\u001b[39m_values[label]\n\u001b[0;32m   1227\u001b[0m \u001b[38;5;66;03m# Similar to Index.get_value, but we do not fall back to positional\u001b[39;00m\n\u001b[1;32m-> 1228\u001b[0m loc \u001b[38;5;241m=\u001b[39m \u001b[38;5;28;43mself\u001b[39;49m\u001b[38;5;241;43m.\u001b[39;49m\u001b[43mindex\u001b[49m\u001b[38;5;241;43m.\u001b[39;49m\u001b[43mget_loc\u001b[49m\u001b[43m(\u001b[49m\u001b[43mlabel\u001b[49m\u001b[43m)\u001b[49m\n\u001b[0;32m   1230\u001b[0m \u001b[38;5;28;01mif\u001b[39;00m is_integer(loc):\n\u001b[0;32m   1231\u001b[0m     \u001b[38;5;28;01mreturn\u001b[39;00m \u001b[38;5;28mself\u001b[39m\u001b[38;5;241m.\u001b[39m_values[loc]\n",
      "File \u001b[1;32mc:\\Users\\bruno\\OneDrive\\Escritorio\\Bruno\\OneDrive\\Machine learning\\mlenv\\Lib\\site-packages\\pandas\\core\\indexes\\datetimes.py:632\u001b[0m, in \u001b[0;36mDatetimeIndex.get_loc\u001b[1;34m(self, key)\u001b[0m\n\u001b[0;32m    630\u001b[0m     \u001b[38;5;28;01mreturn\u001b[39;00m Index\u001b[38;5;241m.\u001b[39mget_loc(\u001b[38;5;28mself\u001b[39m, key)\n\u001b[0;32m    631\u001b[0m \u001b[38;5;28;01mexcept\u001b[39;00m \u001b[38;5;167;01mKeyError\u001b[39;00m \u001b[38;5;28;01mas\u001b[39;00m err:\n\u001b[1;32m--> 632\u001b[0m     \u001b[38;5;28;01mraise\u001b[39;00m \u001b[38;5;167;01mKeyError\u001b[39;00m(orig_key) \u001b[38;5;28;01mfrom\u001b[39;00m \u001b[38;5;21;01merr\u001b[39;00m\n",
      "\u001b[1;31mKeyError\u001b[0m: '2023-10-21'"
     ]
    }
   ],
   "source": [
    "# passing the datetime as string\n",
    "ts[\"2023-10-21\"]"
   ]
  },
  {
   "cell_type": "code",
   "execution_count": null,
   "metadata": {},
   "outputs": [
    {
     "data": {
      "text/plain": [
       "2012-10-25   -0.539872\n",
       "2012-05-20   -0.406968\n",
       "2012-11-18    0.700766\n",
       "2012-09-22    0.096256\n",
       "2012-08-18   -1.808650\n",
       "                ...   \n",
       "2012-09-22    0.502252\n",
       "2012-03-17   -0.171005\n",
       "2012-11-24   -0.576308\n",
       "2012-11-19    0.976699\n",
       "2012-11-13    0.689605\n",
       "Length: 93, dtype: float64"
      ]
     },
     "execution_count": 23,
     "metadata": {},
     "output_type": "execute_result"
    }
   ],
   "source": [
    "ts['2012']"
   ]
  },
  {
   "cell_type": "code",
   "execution_count": null,
   "metadata": {},
   "outputs": [
    {
     "data": {
      "text/plain": [
       "2009-06-06   -0.513876\n",
       "2009-06-28   -0.779704\n",
       "2009-06-05   -0.102042\n",
       "2009-06-28    0.930869\n",
       "2009-06-09   -0.883572\n",
       "2009-06-22    1.409019\n",
       "2009-06-14   -0.512740\n",
       "2009-06-28   -0.857682\n",
       "2009-06-02    2.895874\n",
       "2009-06-08   -0.339620\n",
       "2009-06-18   -0.298440\n",
       "2009-06-10   -0.227081\n",
       "2009-06-14    2.044585\n",
       "dtype: float64"
      ]
     },
     "execution_count": 24,
     "metadata": {},
     "output_type": "execute_result"
    }
   ],
   "source": [
    "ts['2009-06']"
   ]
  },
  {
   "cell_type": "code",
   "execution_count": null,
   "metadata": {},
   "outputs": [
    {
     "data": {
      "text/plain": [
       "2009-07-27    0.519202\n",
       "2009-07-24    0.718345\n",
       "2009-08-02    0.051677\n",
       "2009-04-20    0.369590\n",
       "2009-11-20    0.244438\n",
       "                ...   \n",
       "2009-06-10   -0.227081\n",
       "2009-01-04   -0.367019\n",
       "2009-04-27    0.804367\n",
       "2009-09-18    0.800959\n",
       "2009-06-14    2.044585\n",
       "Length: 92, dtype: float64"
      ]
     },
     "execution_count": 25,
     "metadata": {},
     "output_type": "execute_result"
    }
   ],
   "source": [
    "ts[f\"{datetime(2009,10,12).year}\"]"
   ]
  },
  {
   "cell_type": "code",
   "execution_count": null,
   "metadata": {},
   "outputs": [],
   "source": [
    "cant_valores = 2000\n",
    "dates_order= []\n",
    "time_inicial = datetime(2010,1,1)\n",
    "for i in range(cant_valores):\n",
    "    \n",
    "    time_inicial = time_inicial + timedelta(2)\n",
    "    \n",
    "    dates_order.append(time_inicial)\n",
    "    \n",
    "\n"
   ]
  },
  {
   "cell_type": "code",
   "execution_count": null,
   "metadata": {},
   "outputs": [],
   "source": [
    "dates_order\n",
    "df_dates_order = pd.Series(np.random.standard_normal(cant_valores),index =dates_order)"
   ]
  },
  {
   "cell_type": "code",
   "execution_count": null,
   "metadata": {},
   "outputs": [
    {
     "data": {
      "text/plain": [
       "2010-01-03   -1.707199\n",
       "2010-01-05   -0.229068\n",
       "2010-01-07   -1.262733\n",
       "2010-01-09    0.250963\n",
       "2010-01-11    0.244032\n",
       "                ...   \n",
       "2020-12-06    1.657929\n",
       "2020-12-08    0.532510\n",
       "2020-12-10   -0.197188\n",
       "2020-12-12   -0.294816\n",
       "2020-12-14   -1.113642\n",
       "Length: 2000, dtype: float64"
      ]
     },
     "execution_count": 28,
     "metadata": {},
     "output_type": "execute_result"
    }
   ],
   "source": [
    "df_dates_order"
   ]
  },
  {
   "cell_type": "code",
   "execution_count": null,
   "metadata": {},
   "outputs": [
    {
     "data": {
      "text/plain": [
       "2010-01-03   -1.707199\n",
       "2010-01-05   -0.229068\n",
       "2010-01-07   -1.262733\n",
       "2010-01-09    0.250963\n",
       "2010-01-11    0.244032\n",
       "                ...   \n",
       "2012-12-24   -0.383410\n",
       "2012-12-26   -1.124439\n",
       "2012-12-28   -0.057711\n",
       "2012-12-30   -0.552704\n",
       "2013-01-01   -1.207644\n",
       "Length: 548, dtype: float64"
      ]
     },
     "execution_count": 29,
     "metadata": {},
     "output_type": "execute_result"
    }
   ],
   "source": [
    "df_dates_order.truncate(after='2013')"
   ]
  },
  {
   "cell_type": "code",
   "execution_count": null,
   "metadata": {},
   "outputs": [
    {
     "data": {
      "text/plain": [
       "2011-04-06    0.880651\n",
       "2011-04-08   -0.762355\n",
       "2011-04-10   -0.956297\n",
       "2011-04-12   -1.037614\n",
       "2011-04-14   -0.553805\n",
       "                ...   \n",
       "2020-12-06    1.657929\n",
       "2020-12-08    0.532510\n",
       "2020-12-10   -0.197188\n",
       "2020-12-12   -0.294816\n",
       "2020-12-14   -1.113642\n",
       "Length: 1771, dtype: float64"
      ]
     },
     "execution_count": 30,
     "metadata": {},
     "output_type": "execute_result"
    }
   ],
   "source": [
    "df_dates_order[datetime(2011,4,5):]"
   ]
  },
  {
   "cell_type": "code",
   "execution_count": null,
   "metadata": {},
   "outputs": [
    {
     "data": {
      "text/plain": [
       "2012-01-01    0.930477\n",
       "2012-01-03   -0.255456\n",
       "2012-01-05   -0.236914\n",
       "2012-01-07    0.129057\n",
       "2012-01-09    0.615081\n",
       "                ...   \n",
       "2012-07-23    0.871294\n",
       "2012-07-25   -1.033324\n",
       "2012-07-27    0.124317\n",
       "2012-07-29   -0.064275\n",
       "2012-07-31    0.009502\n",
       "Length: 107, dtype: float64"
      ]
     },
     "execution_count": 31,
     "metadata": {},
     "output_type": "execute_result"
    }
   ],
   "source": [
    "df_dates_order['2012-01-01':'2012-08-01']"
   ]
  },
  {
   "cell_type": "markdown",
   "metadata": {},
   "source": [
    "### Time Series with Duplicate Indices\n",
    "There may be multiple data observations falling on a particular timestamp"
   ]
  },
  {
   "cell_type": "code",
   "execution_count": null,
   "metadata": {},
   "outputs": [],
   "source": [
    "dates = pd.DatetimeIndex([\"2000-01-01\",\"2000-01-02\",\"2000-01-02\",\"2000-01-02\",\"2000-01-03\"])\n"
   ]
  },
  {
   "cell_type": "code",
   "execution_count": null,
   "metadata": {},
   "outputs": [
    {
     "data": {
      "text/plain": [
       "2000-01-01    0\n",
       "2000-01-02    1\n",
       "2000-01-02    2\n",
       "2000-01-02    3\n",
       "2000-01-03    4\n",
       "dtype: int32"
      ]
     },
     "execution_count": 33,
     "metadata": {},
     "output_type": "execute_result"
    }
   ],
   "source": [
    "dup_ts = pd.Series(np.arange(5),index=dates)\n",
    "dup_ts"
   ]
  },
  {
   "cell_type": "code",
   "execution_count": null,
   "metadata": {},
   "outputs": [
    {
     "data": {
      "text/plain": [
       "False"
      ]
     },
     "execution_count": 34,
     "metadata": {},
     "output_type": "execute_result"
    }
   ],
   "source": [
    "# Checking if the index is unique\n",
    "dup_ts.index.is_unique"
   ]
  },
  {
   "cell_type": "code",
   "execution_count": null,
   "metadata": {},
   "outputs": [
    {
     "data": {
      "text/plain": [
       "2000-01-02    1\n",
       "2000-01-02    2\n",
       "2000-01-02    3\n",
       "dtype: int32"
      ]
     },
     "execution_count": 35,
     "metadata": {},
     "output_type": "execute_result"
    }
   ],
   "source": [
    "dup_ts['2000-01-02'] #Duplicated"
   ]
  },
  {
   "cell_type": "code",
   "execution_count": null,
   "metadata": {},
   "outputs": [
    {
     "data": {
      "text/plain": [
       "4"
      ]
     },
     "execution_count": 36,
     "metadata": {},
     "output_type": "execute_result"
    }
   ],
   "source": [
    "dup_ts['2000-01-03'] #Not duplicated"
   ]
  },
  {
   "cell_type": "code",
   "execution_count": null,
   "metadata": {},
   "outputs": [
    {
     "data": {
      "text/plain": [
       "2000-01-01    0.0\n",
       "2000-01-02    2.0\n",
       "2000-01-03    4.0\n",
       "dtype: float64"
      ]
     },
     "execution_count": 37,
     "metadata": {},
     "output_type": "execute_result"
    }
   ],
   "source": [
    "#If we want to have unique values, we can do it by groupby and level=0\n",
    "grouped = dup_ts.groupby(level=0)\n",
    "grouped.mean()"
   ]
  },
  {
   "cell_type": "code",
   "execution_count": null,
   "metadata": {},
   "outputs": [
    {
     "data": {
      "text/plain": [
       "2000-01-01    1\n",
       "2000-01-02    3\n",
       "2000-01-03    1\n",
       "dtype: int64"
      ]
     },
     "execution_count": 38,
     "metadata": {},
     "output_type": "execute_result"
    }
   ],
   "source": [
    "grouped.count()"
   ]
  },
  {
   "cell_type": "markdown",
   "metadata": {},
   "source": [
    "Date Ranges, Frquencies, and Shifting\n",
    "Generic time series in pandas are assumed to be irregular, they have no fixed frequency. It's often desirable to work with a fixed frequency. (daily, monthly, 15 minutes,etc).\n",
    "Pandas has a full suite of standard time series frequencies and tools for resampling, inferring frequencies, and generating fixed-frequency date ranges.\n",
    "\n"
   ]
  },
  {
   "cell_type": "code",
   "execution_count": null,
   "metadata": {},
   "outputs": [
    {
     "data": {
      "text/plain": [
       "<pandas.core.resample.DatetimeIndexResampler object at 0x000001B46D9EA890>"
      ]
     },
     "execution_count": 39,
     "metadata": {},
     "output_type": "execute_result"
    }
   ],
   "source": [
    "resampler = df_dates_order.resample(\"D\")\n",
    "resampler"
   ]
  },
  {
   "cell_type": "markdown",
   "metadata": {},
   "source": [
    "### Generating Data Ranges\n",
    "pandas.data_range is responsible for generating a DatetimeIndex with an indicated length according to a particular frequency"
   ]
  },
  {
   "cell_type": "code",
   "execution_count": null,
   "metadata": {},
   "outputs": [
    {
     "data": {
      "text/plain": [
       "DatetimeIndex(['2020-04-01', '2020-04-02', '2020-04-03', '2020-04-04',\n",
       "               '2020-04-05', '2020-04-06', '2020-04-07', '2020-04-08',\n",
       "               '2020-04-09', '2020-04-10',\n",
       "               ...\n",
       "               '2022-03-23', '2022-03-24', '2022-03-25', '2022-03-26',\n",
       "               '2022-03-27', '2022-03-28', '2022-03-29', '2022-03-30',\n",
       "               '2022-03-31', '2022-04-01'],\n",
       "              dtype='datetime64[ns]', length=731, freq='D')"
      ]
     },
     "execution_count": 40,
     "metadata": {},
     "output_type": "execute_result"
    }
   ],
   "source": [
    "index = pd.date_range(\"2020-04-01\",\"2022-04-01\") #It generates daily stamps by default\n",
    "index"
   ]
  },
  {
   "cell_type": "code",
   "execution_count": null,
   "metadata": {},
   "outputs": [
    {
     "data": {
      "text/plain": [
       "DatetimeIndex(['2019-01-01', '2019-01-02', '2019-01-03', '2019-01-04',\n",
       "               '2019-01-05', '2019-01-06', '2019-01-07', '2019-01-08',\n",
       "               '2019-01-09', '2019-01-10', '2019-01-11', '2019-01-12',\n",
       "               '2019-01-13', '2019-01-14', '2019-01-15', '2019-01-16',\n",
       "               '2019-01-17', '2019-01-18', '2019-01-19', '2019-01-20',\n",
       "               '2019-01-21', '2019-01-22', '2019-01-23', '2019-01-24',\n",
       "               '2019-01-25', '2019-01-26', '2019-01-27', '2019-01-28',\n",
       "               '2019-01-29', '2019-01-30', '2019-01-31', '2019-02-01',\n",
       "               '2019-02-02', '2019-02-03', '2019-02-04', '2019-02-05',\n",
       "               '2019-02-06', '2019-02-07', '2019-02-08', '2019-02-09',\n",
       "               '2019-02-10', '2019-02-11', '2019-02-12', '2019-02-13',\n",
       "               '2019-02-14', '2019-02-15', '2019-02-16', '2019-02-17',\n",
       "               '2019-02-18', '2019-02-19', '2019-02-20', '2019-02-21',\n",
       "               '2019-02-22', '2019-02-23', '2019-02-24', '2019-02-25',\n",
       "               '2019-02-26', '2019-02-27', '2019-02-28', '2019-03-01'],\n",
       "              dtype='datetime64[ns]', freq='D')"
      ]
     },
     "execution_count": 41,
     "metadata": {},
     "output_type": "execute_result"
    }
   ],
   "source": [
    "pd.date_range(start=\"2019-01-01\", periods=60)"
   ]
  },
  {
   "cell_type": "code",
   "execution_count": null,
   "metadata": {},
   "outputs": [
    {
     "data": {
      "text/plain": [
       "DatetimeIndex(['2018-12-12', '2018-12-13', '2018-12-14', '2018-12-15',\n",
       "               '2018-12-16', '2018-12-17', '2018-12-18', '2018-12-19',\n",
       "               '2018-12-20', '2018-12-21', '2018-12-22', '2018-12-23',\n",
       "               '2018-12-24', '2018-12-25', '2018-12-26', '2018-12-27',\n",
       "               '2018-12-28', '2018-12-29', '2018-12-30', '2018-12-31'],\n",
       "              dtype='datetime64[ns]', freq='D')"
      ]
     },
     "execution_count": 42,
     "metadata": {},
     "output_type": "execute_result"
    }
   ],
   "source": [
    "pd.date_range(end=\"2018-12-31\",periods=20)"
   ]
  },
  {
   "cell_type": "code",
   "execution_count": null,
   "metadata": {},
   "outputs": [
    {
     "name": "stderr",
     "output_type": "stream",
     "text": [
      "C:\\Users\\bruno\\AppData\\Local\\Temp\\ipykernel_1244\\822852206.py:2: FutureWarning: 'BM' is deprecated and will be removed in a future version, please use 'BME' instead.\n",
      "  pd.date_range(\"2019-01-01\",\"2020-05-01\",freq=\"BM\")\n"
     ]
    },
    {
     "data": {
      "text/plain": [
       "DatetimeIndex(['2019-01-31', '2019-02-28', '2019-03-29', '2019-04-30',\n",
       "               '2019-05-31', '2019-06-28', '2019-07-31', '2019-08-30',\n",
       "               '2019-09-30', '2019-10-31', '2019-11-29', '2019-12-31',\n",
       "               '2020-01-31', '2020-02-28', '2020-03-31', '2020-04-30'],\n",
       "              dtype='datetime64[ns]', freq='BME')"
      ]
     },
     "execution_count": 43,
     "metadata": {},
     "output_type": "execute_result"
    }
   ],
   "source": [
    "#BM -> Business end of month\n",
    "pd.date_range(\"2019-01-01\",\"2020-05-01\",freq=\"BM\")"
   ]
  },
  {
   "cell_type": "code",
   "execution_count": null,
   "metadata": {},
   "outputs": [
    {
     "data": {
      "text/plain": [
       "DatetimeIndex(['2012-05-02 15:00:04', '2012-05-03 15:00:04',\n",
       "               '2012-05-04 15:00:04', '2012-05-05 15:00:04',\n",
       "               '2012-05-06 15:00:04', '2012-05-07 15:00:04',\n",
       "               '2012-05-08 15:00:04', '2012-05-09 15:00:04',\n",
       "               '2012-05-10 15:00:04', '2012-05-11 15:00:04'],\n",
       "              dtype='datetime64[ns]', freq='D')"
      ]
     },
     "execution_count": 44,
     "metadata": {},
     "output_type": "execute_result"
    }
   ],
   "source": [
    "pd.date_range(\"2012-05-02 15:00:04\",periods=10)"
   ]
  },
  {
   "cell_type": "code",
   "execution_count": null,
   "metadata": {},
   "outputs": [
    {
     "data": {
      "text/plain": [
       "DatetimeIndex(['2022-03-01', '2022-03-02', '2022-03-03', '2022-03-04',\n",
       "               '2022-03-05', '2022-03-06', '2022-03-07', '2022-03-08',\n",
       "               '2022-03-09', '2022-03-10',\n",
       "               ...\n",
       "               '2022-06-22', '2022-06-23', '2022-06-24', '2022-06-25',\n",
       "               '2022-06-26', '2022-06-27', '2022-06-28', '2022-06-29',\n",
       "               '2022-06-30', '2022-07-01'],\n",
       "              dtype='datetime64[ns]', length=123, freq='D')"
      ]
     },
     "execution_count": 45,
     "metadata": {},
     "output_type": "execute_result"
    }
   ],
   "source": [
    "#normalize option -> sets timestamps to midnight as a convention\n",
    "pd.date_range(\"2022-03-01 12:12:03\",\"2022-07-01 12:14:31\",normalize=True)"
   ]
  },
  {
   "cell_type": "markdown",
   "metadata": {},
   "source": [
    "### Frequencies and Date Offsets\n",
    "Frequencies are composed of a base frequency and a multiplier. \n",
    "Base frequency referred to by a string alias -> \"M\" (month),\"H\" (hour).\n",
    "For each base frequency, there is an object referred to as a date offset\n"
   ]
  },
  {
   "cell_type": "code",
   "execution_count": null,
   "metadata": {},
   "outputs": [
    {
     "data": {
      "text/plain": [
       "<Hour>"
      ]
     },
     "execution_count": 46,
     "metadata": {},
     "output_type": "execute_result"
    }
   ],
   "source": [
    "from pandas.tseries.offsets import Hour,Minute,Second\n",
    "hour = Hour()\n",
    "hour\n"
   ]
  },
  {
   "cell_type": "code",
   "execution_count": null,
   "metadata": {},
   "outputs": [
    {
     "data": {
      "text/plain": [
       "<4 * Hours>"
      ]
     },
     "execution_count": 47,
     "metadata": {},
     "output_type": "execute_result"
    }
   ],
   "source": [
    "four_hours = Hour(4)\n",
    "four_hours"
   ]
  },
  {
   "cell_type": "code",
   "execution_count": null,
   "metadata": {},
   "outputs": [
    {
     "data": {
      "text/plain": [
       "<2 * Seconds>"
      ]
     },
     "execution_count": 48,
     "metadata": {},
     "output_type": "execute_result"
    }
   ],
   "source": [
    "two_seconds = Second(2)\n",
    "two_seconds"
   ]
  },
  {
   "cell_type": "code",
   "execution_count": null,
   "metadata": {},
   "outputs": [
    {
     "name": "stderr",
     "output_type": "stream",
     "text": [
      "C:\\Users\\bruno\\AppData\\Local\\Temp\\ipykernel_1244\\3108522672.py:1: FutureWarning: 'H' is deprecated and will be removed in a future version, please use 'h' instead.\n",
      "  pd.date_range(\"2015-01-01\",\"2015-01-03\",freq=\"2H\")\n"
     ]
    },
    {
     "data": {
      "text/plain": [
       "DatetimeIndex(['2015-01-01 00:00:00', '2015-01-01 02:00:00',\n",
       "               '2015-01-01 04:00:00', '2015-01-01 06:00:00',\n",
       "               '2015-01-01 08:00:00', '2015-01-01 10:00:00',\n",
       "               '2015-01-01 12:00:00', '2015-01-01 14:00:00',\n",
       "               '2015-01-01 16:00:00', '2015-01-01 18:00:00',\n",
       "               '2015-01-01 20:00:00', '2015-01-01 22:00:00',\n",
       "               '2015-01-02 00:00:00', '2015-01-02 02:00:00',\n",
       "               '2015-01-02 04:00:00', '2015-01-02 06:00:00',\n",
       "               '2015-01-02 08:00:00', '2015-01-02 10:00:00',\n",
       "               '2015-01-02 12:00:00', '2015-01-02 14:00:00',\n",
       "               '2015-01-02 16:00:00', '2015-01-02 18:00:00',\n",
       "               '2015-01-02 20:00:00', '2015-01-02 22:00:00',\n",
       "               '2015-01-03 00:00:00'],\n",
       "              dtype='datetime64[ns]', freq='2h')"
      ]
     },
     "execution_count": 49,
     "metadata": {},
     "output_type": "execute_result"
    }
   ],
   "source": [
    "pd.date_range(\"2015-01-01\",\"2015-01-03\",freq=\"2H\")"
   ]
  },
  {
   "cell_type": "code",
   "execution_count": null,
   "metadata": {},
   "outputs": [
    {
     "data": {
      "text/plain": [
       "<7830 * Seconds>"
      ]
     },
     "execution_count": 50,
     "metadata": {},
     "output_type": "execute_result"
    }
   ],
   "source": [
    "Hour(2)+ Second(30) + Minute(10)"
   ]
  },
  {
   "cell_type": "code",
   "execution_count": null,
   "metadata": {},
   "outputs": [
    {
     "data": {
      "text/plain": [
       "DatetimeIndex(['2015-01-01 00:00:00', '2015-01-01 01:50:00',\n",
       "               '2015-01-01 03:40:00', '2015-01-01 05:30:00',\n",
       "               '2015-01-01 07:20:00', '2015-01-01 09:10:00',\n",
       "               '2015-01-01 11:00:00', '2015-01-01 12:50:00',\n",
       "               '2015-01-01 14:40:00', '2015-01-01 16:30:00'],\n",
       "              dtype='datetime64[ns]', freq='110min')"
      ]
     },
     "execution_count": 51,
     "metadata": {},
     "output_type": "execute_result"
    }
   ],
   "source": [
    "pd.date_range(\"2015-01-01\",periods=10,freq=\"1h50min\")"
   ]
  },
  {
   "cell_type": "markdown",
   "metadata": {},
   "source": [
    "### Week of month dates\n",
    "Enables to get dates like the third Friday of each month. Has to start with \"WOK\""
   ]
  },
  {
   "cell_type": "code",
   "execution_count": null,
   "metadata": {},
   "outputs": [
    {
     "data": {
      "text/plain": [
       "DatetimeIndex(['2020-01-10', '2020-02-14', '2020-03-13', '2020-04-10',\n",
       "               '2020-05-08', '2020-06-12', '2020-07-10', '2020-08-14',\n",
       "               '2020-09-11'],\n",
       "              dtype='datetime64[ns]', freq='WOM-2FRI')"
      ]
     },
     "execution_count": 52,
     "metadata": {},
     "output_type": "execute_result"
    }
   ],
   "source": [
    "monthly_dates = pd.date_range(\"2020-01-01\",\"2020-10-04\",freq=\"WOM-2FRI\")\n",
    "monthly_dates"
   ]
  },
  {
   "cell_type": "markdown",
   "metadata": {},
   "source": [
    "### Shifting (Leading and Lagging) Data\n",
    "Shifting -> Moving data backward and forward through time.\n",
    "Series and Dataframe have a shift method for doing naive shifts forward or backward. leaving the index unmodified"
   ]
  },
  {
   "cell_type": "code",
   "execution_count": null,
   "metadata": {},
   "outputs": [],
   "source": [
    "ts = pd.Series(np.random.standard_normal(4),index = pd.date_range(\"2000-01-01\",periods=4,freq=\"MS\"))   "
   ]
  },
  {
   "cell_type": "code",
   "execution_count": null,
   "metadata": {},
   "outputs": [
    {
     "data": {
      "text/plain": [
       "2000-01-01    1.470773\n",
       "2000-02-01   -0.881609\n",
       "2000-03-01    0.426917\n",
       "2000-04-01    0.353415\n",
       "Freq: MS, dtype: float64"
      ]
     },
     "execution_count": 54,
     "metadata": {},
     "output_type": "execute_result"
    }
   ],
   "source": [
    "ts"
   ]
  },
  {
   "cell_type": "code",
   "execution_count": null,
   "metadata": {},
   "outputs": [
    {
     "data": {
      "text/plain": [
       "2000-01-01         NaN\n",
       "2000-02-01         NaN\n",
       "2000-03-01    1.470773\n",
       "2000-04-01   -0.881609\n",
       "Freq: MS, dtype: float64"
      ]
     },
     "execution_count": 55,
     "metadata": {},
     "output_type": "execute_result"
    }
   ],
   "source": [
    "ts.shift(2)"
   ]
  },
  {
   "cell_type": "code",
   "execution_count": null,
   "metadata": {},
   "outputs": [
    {
     "data": {
      "text/plain": [
       "2000-01-01    0.426917\n",
       "2000-02-01    0.353415\n",
       "2000-03-01         NaN\n",
       "2000-04-01         NaN\n",
       "Freq: MS, dtype: float64"
      ]
     },
     "execution_count": 56,
     "metadata": {},
     "output_type": "execute_result"
    }
   ],
   "source": [
    "ts.shift(-2)"
   ]
  },
  {
   "cell_type": "code",
   "execution_count": null,
   "metadata": {},
   "outputs": [
    {
     "data": {
      "text/plain": [
       "2000-01-01         NaN\n",
       "2000-02-01   -1.599419\n",
       "2000-03-01   -1.484248\n",
       "2000-04-01   -0.172171\n",
       "Freq: MS, dtype: float64"
      ]
     },
     "execution_count": 57,
     "metadata": {},
     "output_type": "execute_result"
    }
   ],
   "source": [
    "ts/ts.shift(1)-1"
   ]
  },
  {
   "cell_type": "code",
   "execution_count": null,
   "metadata": {},
   "outputs": [
    {
     "data": {
      "text/plain": [
       "2000-06-09    1.470773\n",
       "2000-07-10   -0.881609\n",
       "2000-08-08    0.426917\n",
       "2000-09-08    0.353415\n",
       "dtype: float64"
      ]
     },
     "execution_count": 58,
     "metadata": {},
     "output_type": "execute_result"
    }
   ],
   "source": [
    "ts.shift(2*80,freq=\"D\")"
   ]
  },
  {
   "cell_type": "code",
   "execution_count": null,
   "metadata": {},
   "outputs": [
    {
     "name": "stderr",
     "output_type": "stream",
     "text": [
      "C:\\Users\\bruno\\AppData\\Local\\Temp\\ipykernel_1244\\2243134844.py:1: FutureWarning: 'S' is deprecated and will be removed in a future version, please use 's' instead.\n",
      "  ts.shift(4,freq=\"20S\")\n"
     ]
    },
    {
     "data": {
      "text/plain": [
       "2000-01-01 00:01:20    1.470773\n",
       "2000-02-01 00:01:20   -0.881609\n",
       "2000-03-01 00:01:20    0.426917\n",
       "2000-04-01 00:01:20    0.353415\n",
       "dtype: float64"
      ]
     },
     "execution_count": 59,
     "metadata": {},
     "output_type": "execute_result"
    }
   ],
   "source": [
    "ts.shift(4,freq=\"20S\")"
   ]
  },
  {
   "cell_type": "markdown",
   "metadata": {},
   "source": [
    "### Shifting dates with offsets\n",
    "pandas date offset can also be use with datetime and timestamp objects"
   ]
  },
  {
   "cell_type": "code",
   "execution_count": null,
   "metadata": {},
   "outputs": [],
   "source": [
    "now = datetime(2014,9,8)"
   ]
  },
  {
   "cell_type": "code",
   "execution_count": null,
   "metadata": {},
   "outputs": [
    {
     "data": {
      "text/plain": [
       "Timestamp('2014-09-11 00:00:00')"
      ]
     },
     "execution_count": 61,
     "metadata": {},
     "output_type": "execute_result"
    }
   ],
   "source": [
    "from pandas.tseries.offsets import Day, MonthEnd,YearEnd\n",
    "now + 3* Day()"
   ]
  },
  {
   "cell_type": "code",
   "execution_count": null,
   "metadata": {},
   "outputs": [
    {
     "data": {
      "text/plain": [
       "Timestamp('2014-09-30 00:00:00')"
      ]
     },
     "execution_count": 62,
     "metadata": {},
     "output_type": "execute_result"
    }
   ],
   "source": [
    "now + MonthEnd()"
   ]
  },
  {
   "cell_type": "code",
   "execution_count": null,
   "metadata": {},
   "outputs": [
    {
     "data": {
      "text/plain": [
       "Timestamp('2014-11-30 00:00:00')"
      ]
     },
     "execution_count": 63,
     "metadata": {},
     "output_type": "execute_result"
    }
   ],
   "source": [
    "now + MonthEnd(3)"
   ]
  },
  {
   "cell_type": "code",
   "execution_count": null,
   "metadata": {},
   "outputs": [],
   "source": [
    "offset = MonthEnd()"
   ]
  },
  {
   "cell_type": "code",
   "execution_count": null,
   "metadata": {},
   "outputs": [
    {
     "data": {
      "text/plain": [
       "Timestamp('2014-09-30 00:00:00')"
      ]
     },
     "execution_count": 65,
     "metadata": {},
     "output_type": "execute_result"
    }
   ],
   "source": [
    "offset.rollforward(now)"
   ]
  },
  {
   "cell_type": "code",
   "execution_count": null,
   "metadata": {},
   "outputs": [
    {
     "data": {
      "text/plain": [
       "Timestamp('2014-12-31 00:00:00')"
      ]
     },
     "execution_count": 66,
     "metadata": {},
     "output_type": "execute_result"
    }
   ],
   "source": [
    "offset_year = YearEnd()\n",
    "offset_year.rollforward(now)"
   ]
  },
  {
   "cell_type": "code",
   "execution_count": null,
   "metadata": {},
   "outputs": [
    {
     "data": {
      "text/plain": [
       "Timestamp('2013-12-31 00:00:00')"
      ]
     },
     "execution_count": 67,
     "metadata": {},
     "output_type": "execute_result"
    }
   ],
   "source": [
    "offset_year.rollback(now)"
   ]
  },
  {
   "cell_type": "markdown",
   "metadata": {},
   "source": [
    "#### Using offsets with groupby"
   ]
  },
  {
   "cell_type": "code",
   "execution_count": null,
   "metadata": {},
   "outputs": [],
   "source": [
    "ts = pd.Series(np.random.standard_normal(20),index=pd.date_range(\"2000-01-15\",periods=20,freq=\"5D\"))"
   ]
  },
  {
   "cell_type": "code",
   "execution_count": null,
   "metadata": {},
   "outputs": [
    {
     "data": {
      "text/plain": [
       "2000-01-15    1.397860\n",
       "2000-01-20   -0.623344\n",
       "2000-01-25   -0.624504\n",
       "2000-01-30   -1.034503\n",
       "2000-02-04   -1.566878\n",
       "2000-02-09   -0.752331\n",
       "2000-02-14    0.178677\n",
       "2000-02-19   -0.270577\n",
       "2000-02-24   -0.320109\n",
       "2000-02-29    1.704615\n",
       "2000-03-05   -0.532875\n",
       "2000-03-10    0.862089\n",
       "2000-03-15   -0.684777\n",
       "2000-03-20   -0.282238\n",
       "2000-03-25   -0.376023\n",
       "2000-03-30   -0.441349\n",
       "2000-04-04    0.038781\n",
       "2000-04-09    1.494000\n",
       "2000-04-14   -0.425358\n",
       "2000-04-19    1.030108\n",
       "Freq: 5D, dtype: float64"
      ]
     },
     "execution_count": 69,
     "metadata": {},
     "output_type": "execute_result"
    }
   ],
   "source": [
    "ts"
   ]
  },
  {
   "cell_type": "code",
   "execution_count": null,
   "metadata": {},
   "outputs": [
    {
     "data": {
      "text/plain": [
       "2000-01-31   -0.221123\n",
       "2000-02-29   -0.171100\n",
       "2000-03-31   -0.242529\n",
       "2000-04-30    0.534383\n",
       "dtype: float64"
      ]
     },
     "execution_count": 70,
     "metadata": {},
     "output_type": "execute_result"
    }
   ],
   "source": [
    "ts.groupby(MonthEnd().rollforward).mean()"
   ]
  },
  {
   "cell_type": "markdown",
   "metadata": {},
   "source": [
    "### Time zone handling\n",
    "UTC -> Coordinated universal time. Is the geography-independent international standard.\n",
    "Time zones are expressed as offsets from UTC.\n",
    "in python we usea third party pytz library"
   ]
  },
  {
   "cell_type": "code",
   "execution_count": null,
   "metadata": {},
   "outputs": [],
   "source": [
    "import pytz"
   ]
  },
  {
   "cell_type": "code",
   "execution_count": null,
   "metadata": {},
   "outputs": [
    {
     "data": {
      "text/plain": [
       "['Africa/Tunis',\n",
       " 'Africa/Windhoek',\n",
       " 'America/Adak',\n",
       " 'America/Anchorage',\n",
       " 'America/Anguilla',\n",
       " 'America/Antigua',\n",
       " 'America/Araguaina',\n",
       " 'America/Argentina/Buenos_Aires',\n",
       " 'America/Argentina/Catamarca',\n",
       " 'America/Argentina/Cordoba',\n",
       " 'America/Argentina/Jujuy',\n",
       " 'America/Argentina/La_Rioja',\n",
       " 'America/Argentina/Mendoza',\n",
       " 'America/Argentina/Rio_Gallegos',\n",
       " 'America/Argentina/Salta',\n",
       " 'America/Argentina/San_Juan',\n",
       " 'America/Argentina/San_Luis',\n",
       " 'America/Argentina/Tucuman',\n",
       " 'America/Argentina/Ushuaia',\n",
       " 'America/Aruba']"
      ]
     },
     "execution_count": 72,
     "metadata": {},
     "output_type": "execute_result"
    }
   ],
   "source": [
    "pytz.common_timezones[50:70]"
   ]
  },
  {
   "cell_type": "code",
   "execution_count": null,
   "metadata": {},
   "outputs": [
    {
     "data": {
      "text/plain": [
       "<DstTzInfo 'America/Argentina/Tucuman' LMT-1 day, 19:39:00 STD>"
      ]
     },
     "execution_count": 73,
     "metadata": {},
     "output_type": "execute_result"
    }
   ],
   "source": [
    "tz = pytz.timezone('America/Argentina/Tucuman')\n",
    "tz"
   ]
  },
  {
   "cell_type": "code",
   "execution_count": null,
   "metadata": {},
   "outputs": [
    {
     "data": {
      "text/plain": [
       "<DstTzInfo 'America/Argentina/San_Luis' LMT-1 day, 19:35:00 STD>"
      ]
     },
     "execution_count": 74,
     "metadata": {},
     "output_type": "execute_result"
    }
   ],
   "source": [
    "tz = pytz.timezone('America/Argentina/San_Luis')\n",
    "tz"
   ]
  },
  {
   "cell_type": "markdown",
   "metadata": {},
   "source": [
    "### Time Zone Localization and Conversion\n",
    "time series in pandas are time zone naive"
   ]
  },
  {
   "cell_type": "code",
   "execution_count": null,
   "metadata": {},
   "outputs": [],
   "source": [
    "dates = pd.date_range(\"2021-03-04\",periods = 5)"
   ]
  },
  {
   "cell_type": "code",
   "execution_count": null,
   "metadata": {},
   "outputs": [
    {
     "data": {
      "text/plain": [
       "2021-03-04    0.924290\n",
       "2021-03-05   -1.490790\n",
       "2021-03-06    0.844316\n",
       "2021-03-07    1.106616\n",
       "2021-03-08   -1.543674\n",
       "Freq: D, dtype: float64"
      ]
     },
     "execution_count": 76,
     "metadata": {},
     "output_type": "execute_result"
    }
   ],
   "source": [
    "ts = pd.Series(np.random.standard_normal(len(dates)),index=dates)\n",
    "ts"
   ]
  },
  {
   "cell_type": "code",
   "execution_count": null,
   "metadata": {},
   "outputs": [
    {
     "name": "stdout",
     "output_type": "stream",
     "text": [
      "None\n"
     ]
    }
   ],
   "source": [
    "print(ts.index.tz) #Here the data range is generate without time zone set  "
   ]
  },
  {
   "cell_type": "code",
   "execution_count": null,
   "metadata": {},
   "outputs": [
    {
     "data": {
      "text/plain": [
       "DatetimeIndex(['2020-01-09 00:00:00+00:00', '2020-01-10 00:00:00+00:00',\n",
       "               '2020-01-11 00:00:00+00:00', '2020-01-12 00:00:00+00:00',\n",
       "               '2020-01-13 00:00:00+00:00', '2020-01-14 00:00:00+00:00',\n",
       "               '2020-01-15 00:00:00+00:00', '2020-01-16 00:00:00+00:00',\n",
       "               '2020-01-17 00:00:00+00:00', '2020-01-18 00:00:00+00:00'],\n",
       "              dtype='datetime64[ns, UTC]', freq='D')"
      ]
     },
     "execution_count": 78,
     "metadata": {},
     "output_type": "execute_result"
    }
   ],
   "source": [
    "#Creating data range with time zone set\n",
    "tz_utc = pd.date_range(\"2020-01-09\",periods=10,tz=\"UTC\")\n",
    "tz_utc"
   ]
  },
  {
   "cell_type": "code",
   "execution_count": null,
   "metadata": {},
   "outputs": [
    {
     "data": {
      "text/plain": [
       "2021-03-04    0.924290\n",
       "2021-03-05   -1.490790\n",
       "2021-03-06    0.844316\n",
       "2021-03-07    1.106616\n",
       "2021-03-08   -1.543674\n",
       "Freq: D, dtype: float64"
      ]
     },
     "execution_count": 79,
     "metadata": {},
     "output_type": "execute_result"
    }
   ],
   "source": [
    "ts"
   ]
  },
  {
   "cell_type": "markdown",
   "metadata": {},
   "source": [
    "Convertions in utc:\n",
    "- tz_localize -> Converts a data range into datetime with UTC 00 time\n",
    "- tz_convert -> Converts the actual UTC in the given UTC parameter"
   ]
  },
  {
   "cell_type": "code",
   "execution_count": null,
   "metadata": {},
   "outputs": [
    {
     "data": {
      "text/plain": [
       "2021-03-04 00:00:00+00:00    0.924290\n",
       "2021-03-05 00:00:00+00:00   -1.490790\n",
       "2021-03-06 00:00:00+00:00    0.844316\n",
       "2021-03-07 00:00:00+00:00    1.106616\n",
       "2021-03-08 00:00:00+00:00   -1.543674\n",
       "Freq: D, dtype: float64"
      ]
     },
     "execution_count": 80,
     "metadata": {},
     "output_type": "execute_result"
    }
   ],
   "source": [
    "ts\n",
    "tz_utc_ = ts.tz_localize(\"UTC\")\n",
    "tz_utc_"
   ]
  },
  {
   "cell_type": "code",
   "execution_count": null,
   "metadata": {},
   "outputs": [
    {
     "data": {
      "text/plain": [
       "2021-03-03 21:00:00-03:00    0.924290\n",
       "2021-03-04 21:00:00-03:00   -1.490790\n",
       "2021-03-05 21:00:00-03:00    0.844316\n",
       "2021-03-06 21:00:00-03:00    1.106616\n",
       "2021-03-07 21:00:00-03:00   -1.543674\n",
       "Freq: D, dtype: float64"
      ]
     },
     "execution_count": 81,
     "metadata": {},
     "output_type": "execute_result"
    }
   ],
   "source": [
    "tz_utc_.tz_convert(\"America/Buenos_Aires\")"
   ]
  },
  {
   "cell_type": "code",
   "execution_count": null,
   "metadata": {},
   "outputs": [],
   "source": [
    "no_utc  = pd.date_range(\"2022-02-01\",periods=4)"
   ]
  },
  {
   "cell_type": "code",
   "execution_count": null,
   "metadata": {},
   "outputs": [
    {
     "data": {
      "text/plain": [
       "2021-03-04 00:00:00-03:00    0.924290\n",
       "2021-03-05 00:00:00-03:00   -1.490790\n",
       "2021-03-06 00:00:00-03:00    0.844316\n",
       "2021-03-07 00:00:00-03:00    1.106616\n",
       "2021-03-08 00:00:00-03:00   -1.543674\n",
       "dtype: float64"
      ]
     },
     "execution_count": 83,
     "metadata": {},
     "output_type": "execute_result"
    }
   ],
   "source": [
    "buenos_aires_utc = ts.tz_localize(\"America/Buenos_Aires\")\n",
    "buenos_aires_utc"
   ]
  },
  {
   "cell_type": "code",
   "execution_count": null,
   "metadata": {},
   "outputs": [
    {
     "ename": "NameError",
     "evalue": "name 'with_utc' is not defined",
     "output_type": "error",
     "traceback": [
      "\u001b[1;31m---------------------------------------------------------------------------\u001b[0m",
      "\u001b[1;31mNameError\u001b[0m                                 Traceback (most recent call last)",
      "Cell \u001b[1;32mIn[84], line 1\u001b[0m\n\u001b[1;32m----> 1\u001b[0m \u001b[43mwith_utc\u001b[49m\u001b[38;5;241m.\u001b[39mtz_convert(\u001b[38;5;124m\"\u001b[39m\u001b[38;5;124mAmerica/Argentina/San_Luis\u001b[39m\u001b[38;5;124m\"\u001b[39m)\n",
      "\u001b[1;31mNameError\u001b[0m: name 'with_utc' is not defined"
     ]
    }
   ],
   "source": [
    "with_utc.tz_convert(\"America/Argentina/San_Luis\")"
   ]
  },
  {
   "cell_type": "markdown",
   "metadata": {},
   "source": [
    "### Operations with Time Zone-Aware TimeStamp Objects\n",
    "Timestamp object can also be localized from naive to time zone-aware converted from one time zone to another"
   ]
  },
  {
   "cell_type": "code",
   "execution_count": 29,
   "metadata": {},
   "outputs": [
    {
     "data": {
      "text/plain": [
       "Timestamp('2011-03-03 02:00:00-0300', tz='America/Argentina/San_Luis')"
      ]
     },
     "execution_count": 29,
     "metadata": {},
     "output_type": "execute_result"
    }
   ],
   "source": [
    "stamp = pd.Timestamp(\"2011-03-03 05:00\")\n",
    "utc_stamp = stamp.tz_localize(\"UTC\").tz_convert(\"America/Argentina/San_Luis\")\n",
    "utc_stamp\n"
   ]
  },
  {
   "cell_type": "markdown",
   "metadata": {},
   "source": [
    "### Periods and period atrithmetic\n",
    "Periods represent time spans -> Days, months, quarters, years.\n",
    "pandas.Period class represents this data type"
   ]
  },
  {
   "cell_type": "code",
   "execution_count": 30,
   "metadata": {},
   "outputs": [
    {
     "data": {
      "text/plain": [
       "Period('2022', 'Y-DEC')"
      ]
     },
     "execution_count": 30,
     "metadata": {},
     "output_type": "execute_result"
    }
   ],
   "source": [
    "p = pd.Period(\"2022\",\"Y-DEC\")\n",
    "p"
   ]
  },
  {
   "cell_type": "code",
   "execution_count": 31,
   "metadata": {},
   "outputs": [
    {
     "data": {
      "text/plain": [
       "Period('2024', 'Y-DEC')"
      ]
     },
     "execution_count": 31,
     "metadata": {},
     "output_type": "execute_result"
    }
   ],
   "source": [
    "p + 2"
   ]
  },
  {
   "cell_type": "code",
   "execution_count": 32,
   "metadata": {},
   "outputs": [
    {
     "data": {
      "text/plain": [
       "<2 * YearEnds: month=12>"
      ]
     },
     "execution_count": 32,
     "metadata": {},
     "output_type": "execute_result"
    }
   ],
   "source": [
    "pd.Period(\"2024\",freq=\"Y-DEC\")-p"
   ]
  },
  {
   "cell_type": "code",
   "execution_count": 33,
   "metadata": {},
   "outputs": [
    {
     "data": {
      "text/plain": [
       "PeriodIndex(['2000-01', '2000-02', '2000-03', '2000-04', '2000-05', '2000-06'], dtype='period[M]')"
      ]
     },
     "execution_count": 33,
     "metadata": {},
     "output_type": "execute_result"
    }
   ],
   "source": [
    "periods = pd.period_range(\"2000-01-01\",\"2000-06-01\",freq=\"M\")\n",
    "periods"
   ]
  },
  {
   "cell_type": "code",
   "execution_count": 34,
   "metadata": {},
   "outputs": [
    {
     "data": {
      "text/plain": [
       "2000-01    1.741146\n",
       "2000-02   -1.141041\n",
       "2000-03    0.172894\n",
       "2000-04    0.514657\n",
       "2000-05    0.679588\n",
       "2000-06    0.109751\n",
       "Freq: M, dtype: float64"
      ]
     },
     "execution_count": 34,
     "metadata": {},
     "output_type": "execute_result"
    }
   ],
   "source": [
    "data = pd.Series(np.random.standard_normal(len(periods)),index=periods)\n",
    "data"
   ]
  },
  {
   "cell_type": "code",
   "execution_count": 35,
   "metadata": {},
   "outputs": [
    {
     "data": {
      "text/plain": [
       "PeriodIndex(['2001Q3', '2002Q2', '2003Q3'], dtype='period[Q-DEC]')"
      ]
     },
     "execution_count": 35,
     "metadata": {},
     "output_type": "execute_result"
    }
   ],
   "source": [
    "# Using PeriodIndex class -> All of the values are periods\n",
    "values = [\"2001Q3\",\"2002Q2\",\"2003Q3\"]\n",
    "index = pd.PeriodIndex(values,freq=\"Q-DEC\")\n",
    "index"
   ]
  },
  {
   "cell_type": "markdown",
   "metadata": {},
   "source": [
    "### Period Frequency Conversion\n",
    "Periods and PeriodIndex can be converted to another frequency with their asfreq method. \n",
    "We can convert an annual period into a monthly period at the start or the end of the year.\n",
    "This way to call a period is a sort of cursor pointing to a span of time."
   ]
  },
  {
   "cell_type": "code",
   "execution_count": 36,
   "metadata": {},
   "outputs": [
    {
     "data": {
      "text/plain": [
       "Period('2022', 'Y-DEC')"
      ]
     },
     "execution_count": 36,
     "metadata": {},
     "output_type": "execute_result"
    }
   ],
   "source": [
    "p = pd.Period(\"2022\",freq=\"Y-DEC\")\n",
    "p"
   ]
  },
  {
   "cell_type": "code",
   "execution_count": 37,
   "metadata": {},
   "outputs": [
    {
     "data": {
      "text/plain": [
       "Period('2022-01-01 00:00', 'h')"
      ]
     },
     "execution_count": 37,
     "metadata": {},
     "output_type": "execute_result"
    }
   ],
   "source": [
    "p.asfreq(\"h\",how=\"start\")"
   ]
  },
  {
   "cell_type": "code",
   "execution_count": 38,
   "metadata": {},
   "outputs": [
    {
     "data": {
      "text/plain": [
       "Period('2022-12-31', 'D')"
      ]
     },
     "execution_count": 38,
     "metadata": {},
     "output_type": "execute_result"
    }
   ],
   "source": [
    "p.asfreq(\"D\",how=\"end\")"
   ]
  },
  {
   "cell_type": "markdown",
   "metadata": {},
   "source": [
    "### Quarterly period frequencies\n",
    "Is standard in accounting, finance, etc. The last calendar or business day is one of the 12 months of the year."
   ]
  },
  {
   "cell_type": "code",
   "execution_count": 39,
   "metadata": {},
   "outputs": [
    {
     "data": {
      "text/plain": [
       "Period('2012Q4', 'Q-JAN')"
      ]
     },
     "execution_count": 39,
     "metadata": {},
     "output_type": "execute_result"
    }
   ],
   "source": [
    "p = pd.Period(\"2012Q4\",freq=\"Q-JAN\")\n",
    "p"
   ]
  },
  {
   "cell_type": "code",
   "execution_count": 40,
   "metadata": {},
   "outputs": [
    {
     "data": {
      "text/plain": [
       "Period('2011-11-01', 'D')"
      ]
     },
     "execution_count": 40,
     "metadata": {},
     "output_type": "execute_result"
    }
   ],
   "source": [
    "# Año fiscal que arranca en Enero. Por lo tanto, el último cuarto comienza en noviembre y termina en enero\n",
    "p.asfreq(\"D\",how='start')"
   ]
  },
  {
   "cell_type": "code",
   "execution_count": 41,
   "metadata": {},
   "outputs": [
    {
     "data": {
      "text/plain": [
       "Period('2012-01-31', 'D')"
      ]
     },
     "execution_count": 41,
     "metadata": {},
     "output_type": "execute_result"
    }
   ],
   "source": [
    "p.asfreq(\"D\",how=\"end\")"
   ]
  },
  {
   "cell_type": "markdown",
   "metadata": {},
   "source": [
    "### Converting Timestamps to Periods (and Back)\n",
    "Series and DataFrame object indexed by timestamps can be converted to periods with -> to_period method"
   ]
  },
  {
   "cell_type": "code",
   "execution_count": 42,
   "metadata": {},
   "outputs": [
    {
     "data": {
      "text/plain": [
       "DatetimeIndex(['2014-01-31', '2014-02-28', '2014-03-31'], dtype='datetime64[ns]', freq='ME')"
      ]
     },
     "execution_count": 42,
     "metadata": {},
     "output_type": "execute_result"
    }
   ],
   "source": [
    "dates = pd.date_range(\"2014-01-01\",periods=3,freq=\"ME\")\n",
    "dates"
   ]
  },
  {
   "cell_type": "code",
   "execution_count": 43,
   "metadata": {},
   "outputs": [
    {
     "data": {
      "text/plain": [
       "2014-01-31    1.377287\n",
       "2014-02-28   -0.257653\n",
       "2014-03-31    0.520616\n",
       "Freq: ME, dtype: float64"
      ]
     },
     "execution_count": 43,
     "metadata": {},
     "output_type": "execute_result"
    }
   ],
   "source": [
    "ts = pd.Series(np.random.standard_normal(len(dates)),index=dates)\n",
    "ts"
   ]
  },
  {
   "cell_type": "code",
   "execution_count": 44,
   "metadata": {},
   "outputs": [
    {
     "data": {
      "text/plain": [
       "2014    1.377287\n",
       "2014   -0.257653\n",
       "2014    0.520616\n",
       "Freq: Y-DEC, dtype: float64"
      ]
     },
     "execution_count": 44,
     "metadata": {},
     "output_type": "execute_result"
    }
   ],
   "source": [
    "pts = ts.to_period(\"Y\")\n",
    "pts"
   ]
  },
  {
   "cell_type": "code",
   "execution_count": 45,
   "metadata": {},
   "outputs": [],
   "source": [
    "#There could be duplicated values in the period\n",
    "dates= pd.date_range(\"2019-05-26\",periods=10)\n",
    "df_period = pd.Series(np.random.standard_normal(len(dates)),index=dates)"
   ]
  },
  {
   "cell_type": "code",
   "execution_count": 46,
   "metadata": {},
   "outputs": [
    {
     "data": {
      "text/plain": [
       "2019-05   -0.266102\n",
       "2019-05    1.133521\n",
       "2019-05   -1.871074\n",
       "2019-05    0.503907\n",
       "2019-05   -0.466850\n",
       "2019-05   -0.114891\n",
       "2019-06   -0.066931\n",
       "2019-06    0.887533\n",
       "2019-06   -0.427700\n",
       "2019-06   -0.338890\n",
       "Freq: M, dtype: float64"
      ]
     },
     "execution_count": 46,
     "metadata": {},
     "output_type": "execute_result"
    }
   ],
   "source": [
    "pts = df_period.to_period('M')\n",
    "pts"
   ]
  },
  {
   "cell_type": "code",
   "execution_count": 47,
   "metadata": {},
   "outputs": [
    {
     "data": {
      "text/plain": [
       "2019-05-01   -0.266102\n",
       "2019-05-01    1.133521\n",
       "2019-05-01   -1.871074\n",
       "2019-05-01    0.503907\n",
       "2019-05-01   -0.466850\n",
       "2019-05-01   -0.114891\n",
       "2019-06-01   -0.066931\n",
       "2019-06-01    0.887533\n",
       "2019-06-01   -0.427700\n",
       "2019-06-01   -0.338890\n",
       "dtype: float64"
      ]
     },
     "execution_count": 47,
     "metadata": {},
     "output_type": "execute_result"
    }
   ],
   "source": [
    "#Converting back to time stamp\n",
    "pts.to_timestamp(how=\"start\")"
   ]
  },
  {
   "cell_type": "markdown",
   "metadata": {},
   "source": [
    "### Creating a PeriodIndex from Arrays\n",
    "Sometimes the fixed frequency datasets are stores with time span info spread across multiple columns.\n",
    "The year and the quarter could be in different columns"
   ]
  },
  {
   "cell_type": "code",
   "execution_count": 54,
   "metadata": {},
   "outputs": [
    {
     "data": {
      "text/html": [
       "<div>\n",
       "<style scoped>\n",
       "    .dataframe tbody tr th:only-of-type {\n",
       "        vertical-align: middle;\n",
       "    }\n",
       "\n",
       "    .dataframe tbody tr th {\n",
       "        vertical-align: top;\n",
       "    }\n",
       "\n",
       "    .dataframe thead th {\n",
       "        text-align: right;\n",
       "    }\n",
       "</style>\n",
       "<table border=\"1\" class=\"dataframe\">\n",
       "  <thead>\n",
       "    <tr style=\"text-align: right;\">\n",
       "      <th></th>\n",
       "      <th>year</th>\n",
       "      <th>quarter</th>\n",
       "      <th>realgdp</th>\n",
       "      <th>realgovt</th>\n",
       "    </tr>\n",
       "  </thead>\n",
       "  <tbody>\n",
       "    <tr>\n",
       "      <th>0</th>\n",
       "      <td>2022</td>\n",
       "      <td>2</td>\n",
       "      <td>1.211558</td>\n",
       "      <td>-0.184452</td>\n",
       "    </tr>\n",
       "    <tr>\n",
       "      <th>1</th>\n",
       "      <td>2023</td>\n",
       "      <td>2</td>\n",
       "      <td>-1.075024</td>\n",
       "      <td>1.230993</td>\n",
       "    </tr>\n",
       "    <tr>\n",
       "      <th>2</th>\n",
       "      <td>2024</td>\n",
       "      <td>1</td>\n",
       "      <td>-1.804687</td>\n",
       "      <td>-0.618291</td>\n",
       "    </tr>\n",
       "    <tr>\n",
       "      <th>3</th>\n",
       "      <td>2025</td>\n",
       "      <td>1</td>\n",
       "      <td>-1.170101</td>\n",
       "      <td>-0.507327</td>\n",
       "    </tr>\n",
       "    <tr>\n",
       "      <th>4</th>\n",
       "      <td>2026</td>\n",
       "      <td>2</td>\n",
       "      <td>0.252773</td>\n",
       "      <td>3.359104</td>\n",
       "    </tr>\n",
       "    <tr>\n",
       "      <th>5</th>\n",
       "      <td>2027</td>\n",
       "      <td>2</td>\n",
       "      <td>-0.325155</td>\n",
       "      <td>-0.021460</td>\n",
       "    </tr>\n",
       "    <tr>\n",
       "      <th>6</th>\n",
       "      <td>2028</td>\n",
       "      <td>2</td>\n",
       "      <td>-0.766725</td>\n",
       "      <td>-1.057505</td>\n",
       "    </tr>\n",
       "    <tr>\n",
       "      <th>7</th>\n",
       "      <td>2029</td>\n",
       "      <td>1</td>\n",
       "      <td>0.237990</td>\n",
       "      <td>0.938347</td>\n",
       "    </tr>\n",
       "    <tr>\n",
       "      <th>8</th>\n",
       "      <td>2030</td>\n",
       "      <td>3</td>\n",
       "      <td>-0.737763</td>\n",
       "      <td>0.471409</td>\n",
       "    </tr>\n",
       "    <tr>\n",
       "      <th>9</th>\n",
       "      <td>2031</td>\n",
       "      <td>1</td>\n",
       "      <td>0.729092</td>\n",
       "      <td>-0.610598</td>\n",
       "    </tr>\n",
       "  </tbody>\n",
       "</table>\n",
       "</div>"
      ],
      "text/plain": [
       "   year  quarter   realgdp  realgovt\n",
       "0  2022        2  1.211558 -0.184452\n",
       "1  2023        2 -1.075024  1.230993\n",
       "2  2024        1 -1.804687 -0.618291\n",
       "3  2025        1 -1.170101 -0.507327\n",
       "4  2026        2  0.252773  3.359104\n",
       "5  2027        2 -0.325155 -0.021460\n",
       "6  2028        2 -0.766725 -1.057505\n",
       "7  2029        1  0.237990  0.938347\n",
       "8  2030        3 -0.737763  0.471409\n",
       "9  2031        1  0.729092 -0.610598"
      ]
     },
     "execution_count": 54,
     "metadata": {},
     "output_type": "execute_result"
    }
   ],
   "source": [
    "years = pd.date_range(\"2022\",periods=10,freq=\"YE\").to_period(\"Y\")\n",
    "quarters = np.random.randint(1,4,size=len(years))\n",
    "df_year_quarter = pd.DataFrame({\"year\":years,\"quarter\":quarters,\"realgdp\":np.random.standard_normal(len(years)),\"realgovt\":np.random.standard_normal(len(years))})\n",
    "df_year_quarter"
   ]
  },
  {
   "cell_type": "code",
   "execution_count": 55,
   "metadata": {},
   "outputs": [
    {
     "data": {
      "text/plain": [
       "PeriodIndex(['2022', '2023', '2024', '2025', '2026', '2027', '2028', '2029',\n",
       "             '2030', '2031'],\n",
       "            dtype='period[Y-DEC]')"
      ]
     },
     "execution_count": 55,
     "metadata": {},
     "output_type": "execute_result"
    }
   ],
   "source": [
    "years"
   ]
  },
  {
   "cell_type": "code",
   "execution_count": 57,
   "metadata": {},
   "outputs": [
    {
     "ename": "TypeError",
     "evalue": "an integer is required",
     "output_type": "error",
     "traceback": [
      "\u001b[1;31m---------------------------------------------------------------------------\u001b[0m",
      "\u001b[1;31mTypeError\u001b[0m                                 Traceback (most recent call last)",
      "Cell \u001b[1;32mIn[57], line 1\u001b[0m\n\u001b[1;32m----> 1\u001b[0m index \u001b[38;5;241m=\u001b[39m \u001b[43mpd\u001b[49m\u001b[38;5;241;43m.\u001b[39;49m\u001b[43mPeriodIndex\u001b[49m\u001b[38;5;241;43m.\u001b[39;49m\u001b[43mfrom_fields\u001b[49m\u001b[43m(\u001b[49m\u001b[43myear\u001b[49m\u001b[38;5;241;43m=\u001b[39;49m\u001b[43mdf_year_quarter\u001b[49m\u001b[43m[\u001b[49m\u001b[38;5;124;43m'\u001b[39;49m\u001b[38;5;124;43myear\u001b[39;49m\u001b[38;5;124;43m'\u001b[39;49m\u001b[43m]\u001b[49m\u001b[43m,\u001b[49m\u001b[43mquarter\u001b[49m\u001b[38;5;241;43m=\u001b[39;49m\u001b[43mdf_year_quarter\u001b[49m\u001b[43m[\u001b[49m\u001b[38;5;124;43m'\u001b[39;49m\u001b[38;5;124;43mquarter\u001b[39;49m\u001b[38;5;124;43m'\u001b[39;49m\u001b[43m]\u001b[49m\u001b[43m,\u001b[49m\u001b[43mfreq\u001b[49m\u001b[38;5;241;43m=\u001b[39;49m\u001b[38;5;124;43m\"\u001b[39;49m\u001b[38;5;124;43mQ-DEC\u001b[39;49m\u001b[38;5;124;43m\"\u001b[39;49m\u001b[43m)\u001b[49m\n",
      "File \u001b[1;32mc:\\Users\\bruno\\OneDrive\\Escritorio\\Bruno\\OneDrive\\Machine learning\\mlenv\\Lib\\site-packages\\pandas\\core\\indexes\\period.py:344\u001b[0m, in \u001b[0;36mPeriodIndex.from_fields\u001b[1;34m(cls, year, quarter, month, day, hour, minute, second, freq)\u001b[0m\n\u001b[0;32m    334\u001b[0m fields \u001b[38;5;241m=\u001b[39m {\n\u001b[0;32m    335\u001b[0m     \u001b[38;5;124m\"\u001b[39m\u001b[38;5;124myear\u001b[39m\u001b[38;5;124m\"\u001b[39m: year,\n\u001b[0;32m    336\u001b[0m     \u001b[38;5;124m\"\u001b[39m\u001b[38;5;124mquarter\u001b[39m\u001b[38;5;124m\"\u001b[39m: quarter,\n\u001b[1;32m   (...)\u001b[0m\n\u001b[0;32m    341\u001b[0m     \u001b[38;5;124m\"\u001b[39m\u001b[38;5;124msecond\u001b[39m\u001b[38;5;124m\"\u001b[39m: second,\n\u001b[0;32m    342\u001b[0m }\n\u001b[0;32m    343\u001b[0m fields \u001b[38;5;241m=\u001b[39m {key: value \u001b[38;5;28;01mfor\u001b[39;00m key, value \u001b[38;5;129;01min\u001b[39;00m fields\u001b[38;5;241m.\u001b[39mitems() \u001b[38;5;28;01mif\u001b[39;00m value \u001b[38;5;129;01mis\u001b[39;00m \u001b[38;5;129;01mnot\u001b[39;00m \u001b[38;5;28;01mNone\u001b[39;00m}\n\u001b[1;32m--> 344\u001b[0m arr \u001b[38;5;241m=\u001b[39m \u001b[43mPeriodArray\u001b[49m\u001b[38;5;241;43m.\u001b[39;49m\u001b[43m_from_fields\u001b[49m\u001b[43m(\u001b[49m\u001b[43mfields\u001b[49m\u001b[38;5;241;43m=\u001b[39;49m\u001b[43mfields\u001b[49m\u001b[43m,\u001b[49m\u001b[43m \u001b[49m\u001b[43mfreq\u001b[49m\u001b[38;5;241;43m=\u001b[39;49m\u001b[43mfreq\u001b[49m\u001b[43m)\u001b[49m\n\u001b[0;32m    345\u001b[0m \u001b[38;5;28;01mreturn\u001b[39;00m \u001b[38;5;28mcls\u001b[39m\u001b[38;5;241m.\u001b[39m_simple_new(arr)\n",
      "File \u001b[1;32mc:\\Users\\bruno\\OneDrive\\Escritorio\\Bruno\\OneDrive\\Machine learning\\mlenv\\Lib\\site-packages\\pandas\\core\\arrays\\period.py:348\u001b[0m, in \u001b[0;36mPeriodArray._from_fields\u001b[1;34m(cls, fields, freq)\u001b[0m\n\u001b[0;32m    346\u001b[0m \u001b[38;5;129m@classmethod\u001b[39m\n\u001b[0;32m    347\u001b[0m \u001b[38;5;28;01mdef\u001b[39;00m \u001b[38;5;21m_from_fields\u001b[39m(\u001b[38;5;28mcls\u001b[39m, \u001b[38;5;241m*\u001b[39m, fields: \u001b[38;5;28mdict\u001b[39m, freq) \u001b[38;5;241m-\u001b[39m\u001b[38;5;241m>\u001b[39m Self:\n\u001b[1;32m--> 348\u001b[0m     subarr, freq \u001b[38;5;241m=\u001b[39m \u001b[43m_range_from_fields\u001b[49m\u001b[43m(\u001b[49m\u001b[43mfreq\u001b[49m\u001b[38;5;241;43m=\u001b[39;49m\u001b[43mfreq\u001b[49m\u001b[43m,\u001b[49m\u001b[43m \u001b[49m\u001b[38;5;241;43m*\u001b[39;49m\u001b[38;5;241;43m*\u001b[39;49m\u001b[43mfields\u001b[49m\u001b[43m)\u001b[49m\n\u001b[0;32m    349\u001b[0m     dtype \u001b[38;5;241m=\u001b[39m PeriodDtype(freq)\n\u001b[0;32m    350\u001b[0m     \u001b[38;5;28;01mreturn\u001b[39;00m \u001b[38;5;28mcls\u001b[39m\u001b[38;5;241m.\u001b[39m_simple_new(subarr, dtype\u001b[38;5;241m=\u001b[39mdtype)\n",
      "File \u001b[1;32mc:\\Users\\bruno\\OneDrive\\Escritorio\\Bruno\\OneDrive\\Machine learning\\mlenv\\Lib\\site-packages\\pandas\\core\\arrays\\period.py:1276\u001b[0m, in \u001b[0;36m_range_from_fields\u001b[1;34m(year, month, quarter, day, hour, minute, second, freq)\u001b[0m\n\u001b[0;32m   1274\u001b[0m year, quarter \u001b[38;5;241m=\u001b[39m _make_field_arrays(year, quarter)\n\u001b[0;32m   1275\u001b[0m \u001b[38;5;28;01mfor\u001b[39;00m y, q \u001b[38;5;129;01min\u001b[39;00m \u001b[38;5;28mzip\u001b[39m(year, quarter):\n\u001b[1;32m-> 1276\u001b[0m     calendar_year, calendar_month \u001b[38;5;241m=\u001b[39m \u001b[43mparsing\u001b[49m\u001b[38;5;241;43m.\u001b[39;49m\u001b[43mquarter_to_myear\u001b[49m\u001b[43m(\u001b[49m\u001b[43my\u001b[49m\u001b[43m,\u001b[49m\u001b[43m \u001b[49m\u001b[43mq\u001b[49m\u001b[43m,\u001b[49m\u001b[43m \u001b[49m\u001b[43mfreqstr\u001b[49m\u001b[43m)\u001b[49m\n\u001b[0;32m   1277\u001b[0m     val \u001b[38;5;241m=\u001b[39m libperiod\u001b[38;5;241m.\u001b[39mperiod_ordinal(\n\u001b[0;32m   1278\u001b[0m         calendar_year, calendar_month, \u001b[38;5;241m1\u001b[39m, \u001b[38;5;241m1\u001b[39m, \u001b[38;5;241m1\u001b[39m, \u001b[38;5;241m1\u001b[39m, \u001b[38;5;241m0\u001b[39m, \u001b[38;5;241m0\u001b[39m, base\n\u001b[0;32m   1279\u001b[0m     )\n\u001b[0;32m   1280\u001b[0m     ordinals\u001b[38;5;241m.\u001b[39mappend(val)\n",
      "File \u001b[1;32mparsing.pyx:606\u001b[0m, in \u001b[0;36mpandas._libs.tslibs.parsing.quarter_to_myear\u001b[1;34m()\u001b[0m\n",
      "\u001b[1;31mTypeError\u001b[0m: an integer is required"
     ]
    }
   ],
   "source": [
    "index = pd.PeriodIndex.from_fields(year=df_year_quarter['year'],quarter=df_year_quarter['quarter'],freq=\"Q-DEC\")"
   ]
  },
  {
   "cell_type": "markdown",
   "metadata": {},
   "source": [
    "### Resampling and frequency conversion\n",
    "Resampling refers to the process of converting a time series from one frequency to another.\n",
    "Downsampling -> Aggregating higher frequency data to lower frequency\n",
    "Upsampling -> Converting lower frequency to higher frequency\n",
    "Pandas -> resample method\n"
   ]
  },
  {
   "cell_type": "code",
   "execution_count": 61,
   "metadata": {},
   "outputs": [
    {
     "data": {
      "text/plain": [
       "2000-09-01    0.277180\n",
       "2000-09-02    0.761805\n",
       "2000-09-03    0.013506\n",
       "2000-09-04    0.869341\n",
       "2000-09-05    0.461480\n",
       "                ...   \n",
       "2006-02-17    0.543173\n",
       "2006-02-18    0.962202\n",
       "2006-02-19   -1.376517\n",
       "2006-02-20   -0.004335\n",
       "2006-02-21    1.267418\n",
       "Freq: D, Length: 2000, dtype: float64"
      ]
     },
     "execution_count": 61,
     "metadata": {},
     "output_type": "execute_result"
    }
   ],
   "source": [
    "dates = pd.date_range(\"2000-09-01\",periods=2000)\n",
    "ts = pd.Series(np.random.standard_normal(2000),index=dates)\n",
    "ts"
   ]
  },
  {
   "cell_type": "code",
   "execution_count": 68,
   "metadata": {},
   "outputs": [
    {
     "name": "stderr",
     "output_type": "stream",
     "text": [
      "C:\\Users\\bruno\\AppData\\Local\\Temp\\ipykernel_2700\\3882904399.py:1: FutureWarning: 'Y' is deprecated and will be removed in a future version, please use 'YE' instead.\n",
      "  ts.resample(\"Y\").sum()\n"
     ]
    },
    {
     "data": {
      "text/plain": [
       "2000-12-31   -30.628569\n",
       "2001-12-31    11.489635\n",
       "2002-12-31   -43.924417\n",
       "2003-12-31    38.224807\n",
       "2004-12-31    24.875504\n",
       "2005-12-31   -22.203509\n",
       "2006-12-31    -0.975762\n",
       "Freq: YE-DEC, dtype: float64"
      ]
     },
     "execution_count": 68,
     "metadata": {},
     "output_type": "execute_result"
    }
   ],
   "source": [
    "ts.resample(\"Y\").sum()"
   ]
  },
  {
   "cell_type": "code",
   "execution_count": 71,
   "metadata": {},
   "outputs": [
    {
     "name": "stderr",
     "output_type": "stream",
     "text": [
      "C:\\Users\\bruno\\AppData\\Local\\Temp\\ipykernel_2700\\1068419221.py:1: FutureWarning: The 'kind' keyword in Series.resample is deprecated and will be removed in a future version. Explicitly cast the index to the desired type instead\n",
      "  ts.resample(\"M\",kind=\"period\").mean()\n",
      "C:\\Users\\bruno\\AppData\\Local\\Temp\\ipykernel_2700\\1068419221.py:1: FutureWarning: 'M' is deprecated and will be removed in a future version, please use 'ME' instead.\n",
      "  ts.resample(\"M\",kind=\"period\").mean()\n"
     ]
    },
    {
     "data": {
      "text/plain": [
       "2000-09   -0.252050\n",
       "2000-10   -0.165332\n",
       "2000-11   -0.513141\n",
       "2000-12   -0.082179\n",
       "2001-01   -0.147889\n",
       "             ...   \n",
       "2005-10   -0.218972\n",
       "2005-11    0.089218\n",
       "2005-12    0.030950\n",
       "2006-01   -0.021771\n",
       "2006-02   -0.014327\n",
       "Freq: M, Length: 66, dtype: float64"
      ]
     },
     "execution_count": 71,
     "metadata": {},
     "output_type": "execute_result"
    }
   ],
   "source": [
    "ts.resample(\"M\",kind=\"period\").mean()"
   ]
  },
  {
   "cell_type": "markdown",
   "metadata": {},
   "source": [
    "### Downsampling\n",
    "Aggregating data to a regular, lower frequency. The desired frequency defines bin edges that are use to slice the time series into pieces to aggregate"
   ]
  },
  {
   "cell_type": "code",
   "execution_count": 72,
   "metadata": {},
   "outputs": [],
   "source": [
    "dates = pd.date_range(\"2000-01-01\",periods = 12,freq=\"min\")"
   ]
  },
  {
   "cell_type": "code",
   "execution_count": 75,
   "metadata": {},
   "outputs": [
    {
     "data": {
      "text/plain": [
       "2000-01-01 00:00:00    0.175696\n",
       "2000-01-01 00:01:00    1.138459\n",
       "2000-01-01 00:02:00    0.554458\n",
       "2000-01-01 00:03:00   -0.022394\n",
       "2000-01-01 00:04:00   -1.109108\n",
       "2000-01-01 00:05:00    0.184905\n",
       "2000-01-01 00:06:00    0.937348\n",
       "2000-01-01 00:07:00    1.261099\n",
       "2000-01-01 00:08:00    0.827628\n",
       "2000-01-01 00:09:00   -0.481473\n",
       "2000-01-01 00:10:00   -0.815505\n",
       "2000-01-01 00:11:00    0.169219\n",
       "Freq: min, dtype: float64"
      ]
     },
     "execution_count": 75,
     "metadata": {},
     "output_type": "execute_result"
    }
   ],
   "source": [
    "ts = pd.Series(np.random.standard_normal(12),index=dates)\n",
    "ts"
   ]
  },
  {
   "cell_type": "code",
   "execution_count": 78,
   "metadata": {},
   "outputs": [
    {
     "data": {
      "text/plain": [
       "2000-01-01 00:00:00    5\n",
       "2000-01-01 00:05:00    5\n",
       "2000-01-01 00:10:00    2\n",
       "Freq: 5min, dtype: int64"
      ]
     },
     "execution_count": 78,
     "metadata": {},
     "output_type": "execute_result"
    }
   ],
   "source": [
    "# We could aggregate this data into five-minute chunks or bars by taking the sum of each group\n",
    "ts.resample(\"5min\").count() # The frequency being passed defines how is going to be grouped."
   ]
  },
  {
   "cell_type": "code",
   "execution_count": 80,
   "metadata": {},
   "outputs": [
    {
     "data": {
      "text/plain": [
       "1999-12-31 23:55:00    1\n",
       "2000-01-01 00:00:00    5\n",
       "2000-01-01 00:05:00    5\n",
       "2000-01-01 00:10:00    1\n",
       "Freq: 5min, dtype: int64"
      ]
     },
     "execution_count": 80,
     "metadata": {},
     "output_type": "execute_result"
    }
   ],
   "source": [
    "ts.resample(\"5min\",closed=\"right\").count() # The right is being include "
   ]
  },
  {
   "cell_type": "code",
   "execution_count": 82,
   "metadata": {},
   "outputs": [
    {
     "data": {
      "text/plain": [
       "2000-01-01 00:00:00    1\n",
       "2000-01-01 00:05:00    5\n",
       "2000-01-01 00:10:00    5\n",
       "2000-01-01 00:15:00    1\n",
       "Freq: 5min, dtype: int64"
      ]
     },
     "execution_count": 82,
     "metadata": {},
     "output_type": "execute_result"
    }
   ],
   "source": [
    "ts.resample(\"5min\",closed=\"right\",label=\"right\").count() # you can label with right bin edge"
   ]
  },
  {
   "cell_type": "markdown",
   "metadata": {},
   "source": [
    "### Upsampling and interpolation\n",
    "Converting from lower frequency to a higher one. No aggregation is needed."
   ]
  },
  {
   "cell_type": "code",
   "execution_count": 85,
   "metadata": {},
   "outputs": [
    {
     "data": {
      "text/html": [
       "<div>\n",
       "<style scoped>\n",
       "    .dataframe tbody tr th:only-of-type {\n",
       "        vertical-align: middle;\n",
       "    }\n",
       "\n",
       "    .dataframe tbody tr th {\n",
       "        vertical-align: top;\n",
       "    }\n",
       "\n",
       "    .dataframe thead th {\n",
       "        text-align: right;\n",
       "    }\n",
       "</style>\n",
       "<table border=\"1\" class=\"dataframe\">\n",
       "  <thead>\n",
       "    <tr style=\"text-align: right;\">\n",
       "      <th></th>\n",
       "      <th>Colorado</th>\n",
       "      <th>Texas</th>\n",
       "      <th>New York</th>\n",
       "      <th>Ohio</th>\n",
       "    </tr>\n",
       "  </thead>\n",
       "  <tbody>\n",
       "    <tr>\n",
       "      <th>2002-04-10</th>\n",
       "      <td>-1.221048</td>\n",
       "      <td>-0.622091</td>\n",
       "      <td>1.291566</td>\n",
       "      <td>-0.259372</td>\n",
       "    </tr>\n",
       "    <tr>\n",
       "      <th>2002-04-17</th>\n",
       "      <td>-0.118697</td>\n",
       "      <td>-1.597851</td>\n",
       "      <td>1.581528</td>\n",
       "      <td>1.631301</td>\n",
       "    </tr>\n",
       "  </tbody>\n",
       "</table>\n",
       "</div>"
      ],
      "text/plain": [
       "            Colorado     Texas  New York      Ohio\n",
       "2002-04-10 -1.221048 -0.622091  1.291566 -0.259372\n",
       "2002-04-17 -0.118697 -1.597851  1.581528  1.631301"
      ]
     },
     "execution_count": 85,
     "metadata": {},
     "output_type": "execute_result"
    }
   ],
   "source": [
    "df = pd.DataFrame(np.random.standard_normal((2,4)),index = pd.date_range(\"2002-04-05\",periods=2,freq=\"W-WED\"),columns=[\"Colorado\",\"Texas\",\"New York\",\"Ohio\"])\n",
    "df"
   ]
  },
  {
   "cell_type": "code",
   "execution_count": 87,
   "metadata": {},
   "outputs": [
    {
     "data": {
      "text/html": [
       "<div>\n",
       "<style scoped>\n",
       "    .dataframe tbody tr th:only-of-type {\n",
       "        vertical-align: middle;\n",
       "    }\n",
       "\n",
       "    .dataframe tbody tr th {\n",
       "        vertical-align: top;\n",
       "    }\n",
       "\n",
       "    .dataframe thead th {\n",
       "        text-align: right;\n",
       "    }\n",
       "</style>\n",
       "<table border=\"1\" class=\"dataframe\">\n",
       "  <thead>\n",
       "    <tr style=\"text-align: right;\">\n",
       "      <th></th>\n",
       "      <th>Colorado</th>\n",
       "      <th>Texas</th>\n",
       "      <th>New York</th>\n",
       "      <th>Ohio</th>\n",
       "    </tr>\n",
       "  </thead>\n",
       "  <tbody>\n",
       "    <tr>\n",
       "      <th>2002-04-10</th>\n",
       "      <td>-1.221048</td>\n",
       "      <td>-0.622091</td>\n",
       "      <td>1.291566</td>\n",
       "      <td>-0.259372</td>\n",
       "    </tr>\n",
       "    <tr>\n",
       "      <th>2002-04-11</th>\n",
       "      <td>NaN</td>\n",
       "      <td>NaN</td>\n",
       "      <td>NaN</td>\n",
       "      <td>NaN</td>\n",
       "    </tr>\n",
       "    <tr>\n",
       "      <th>2002-04-12</th>\n",
       "      <td>NaN</td>\n",
       "      <td>NaN</td>\n",
       "      <td>NaN</td>\n",
       "      <td>NaN</td>\n",
       "    </tr>\n",
       "    <tr>\n",
       "      <th>2002-04-13</th>\n",
       "      <td>NaN</td>\n",
       "      <td>NaN</td>\n",
       "      <td>NaN</td>\n",
       "      <td>NaN</td>\n",
       "    </tr>\n",
       "    <tr>\n",
       "      <th>2002-04-14</th>\n",
       "      <td>NaN</td>\n",
       "      <td>NaN</td>\n",
       "      <td>NaN</td>\n",
       "      <td>NaN</td>\n",
       "    </tr>\n",
       "    <tr>\n",
       "      <th>2002-04-15</th>\n",
       "      <td>NaN</td>\n",
       "      <td>NaN</td>\n",
       "      <td>NaN</td>\n",
       "      <td>NaN</td>\n",
       "    </tr>\n",
       "    <tr>\n",
       "      <th>2002-04-16</th>\n",
       "      <td>NaN</td>\n",
       "      <td>NaN</td>\n",
       "      <td>NaN</td>\n",
       "      <td>NaN</td>\n",
       "    </tr>\n",
       "    <tr>\n",
       "      <th>2002-04-17</th>\n",
       "      <td>-0.118697</td>\n",
       "      <td>-1.597851</td>\n",
       "      <td>1.581528</td>\n",
       "      <td>1.631301</td>\n",
       "    </tr>\n",
       "  </tbody>\n",
       "</table>\n",
       "</div>"
      ],
      "text/plain": [
       "            Colorado     Texas  New York      Ohio\n",
       "2002-04-10 -1.221048 -0.622091  1.291566 -0.259372\n",
       "2002-04-11       NaN       NaN       NaN       NaN\n",
       "2002-04-12       NaN       NaN       NaN       NaN\n",
       "2002-04-13       NaN       NaN       NaN       NaN\n",
       "2002-04-14       NaN       NaN       NaN       NaN\n",
       "2002-04-15       NaN       NaN       NaN       NaN\n",
       "2002-04-16       NaN       NaN       NaN       NaN\n",
       "2002-04-17 -0.118697 -1.597851  1.581528  1.631301"
      ]
     },
     "execution_count": 87,
     "metadata": {},
     "output_type": "execute_result"
    }
   ],
   "source": [
    "df_daily = df.resample(\"D\").asfreq()\n",
    "df_daily"
   ]
  },
  {
   "cell_type": "markdown",
   "metadata": {},
   "source": [
    "We want to fill forward each weekly value on the non-Wednesday.\n",
    "fillna and reindex"
   ]
  },
  {
   "cell_type": "code",
   "execution_count": 91,
   "metadata": {},
   "outputs": [
    {
     "data": {
      "text/html": [
       "<div>\n",
       "<style scoped>\n",
       "    .dataframe tbody tr th:only-of-type {\n",
       "        vertical-align: middle;\n",
       "    }\n",
       "\n",
       "    .dataframe tbody tr th {\n",
       "        vertical-align: top;\n",
       "    }\n",
       "\n",
       "    .dataframe thead th {\n",
       "        text-align: right;\n",
       "    }\n",
       "</style>\n",
       "<table border=\"1\" class=\"dataframe\">\n",
       "  <thead>\n",
       "    <tr style=\"text-align: right;\">\n",
       "      <th></th>\n",
       "      <th>Colorado</th>\n",
       "      <th>Texas</th>\n",
       "      <th>New York</th>\n",
       "      <th>Ohio</th>\n",
       "    </tr>\n",
       "  </thead>\n",
       "  <tbody>\n",
       "    <tr>\n",
       "      <th>2002-04-10</th>\n",
       "      <td>-1.221048</td>\n",
       "      <td>-0.622091</td>\n",
       "      <td>1.291566</td>\n",
       "      <td>-0.259372</td>\n",
       "    </tr>\n",
       "    <tr>\n",
       "      <th>2002-04-11</th>\n",
       "      <td>-1.221048</td>\n",
       "      <td>-0.622091</td>\n",
       "      <td>1.291566</td>\n",
       "      <td>-0.259372</td>\n",
       "    </tr>\n",
       "    <tr>\n",
       "      <th>2002-04-12</th>\n",
       "      <td>-1.221048</td>\n",
       "      <td>-0.622091</td>\n",
       "      <td>1.291566</td>\n",
       "      <td>-0.259372</td>\n",
       "    </tr>\n",
       "    <tr>\n",
       "      <th>2002-04-13</th>\n",
       "      <td>-1.221048</td>\n",
       "      <td>-0.622091</td>\n",
       "      <td>1.291566</td>\n",
       "      <td>-0.259372</td>\n",
       "    </tr>\n",
       "    <tr>\n",
       "      <th>2002-04-14</th>\n",
       "      <td>-1.221048</td>\n",
       "      <td>-0.622091</td>\n",
       "      <td>1.291566</td>\n",
       "      <td>-0.259372</td>\n",
       "    </tr>\n",
       "    <tr>\n",
       "      <th>2002-04-15</th>\n",
       "      <td>-1.221048</td>\n",
       "      <td>-0.622091</td>\n",
       "      <td>1.291566</td>\n",
       "      <td>-0.259372</td>\n",
       "    </tr>\n",
       "    <tr>\n",
       "      <th>2002-04-16</th>\n",
       "      <td>-1.221048</td>\n",
       "      <td>-0.622091</td>\n",
       "      <td>1.291566</td>\n",
       "      <td>-0.259372</td>\n",
       "    </tr>\n",
       "    <tr>\n",
       "      <th>2002-04-17</th>\n",
       "      <td>-0.118697</td>\n",
       "      <td>-1.597851</td>\n",
       "      <td>1.581528</td>\n",
       "      <td>1.631301</td>\n",
       "    </tr>\n",
       "  </tbody>\n",
       "</table>\n",
       "</div>"
      ],
      "text/plain": [
       "            Colorado     Texas  New York      Ohio\n",
       "2002-04-10 -1.221048 -0.622091  1.291566 -0.259372\n",
       "2002-04-11 -1.221048 -0.622091  1.291566 -0.259372\n",
       "2002-04-12 -1.221048 -0.622091  1.291566 -0.259372\n",
       "2002-04-13 -1.221048 -0.622091  1.291566 -0.259372\n",
       "2002-04-14 -1.221048 -0.622091  1.291566 -0.259372\n",
       "2002-04-15 -1.221048 -0.622091  1.291566 -0.259372\n",
       "2002-04-16 -1.221048 -0.622091  1.291566 -0.259372\n",
       "2002-04-17 -0.118697 -1.597851  1.581528  1.631301"
      ]
     },
     "execution_count": 91,
     "metadata": {},
     "output_type": "execute_result"
    }
   ],
   "source": [
    "df.resample(\"D\").ffill() #Fills with the last seen value"
   ]
  },
  {
   "cell_type": "markdown",
   "metadata": {},
   "source": [
    "### Resampling with periods\n",
    "Resampling data indexed by periods is similar to timestamps\n"
   ]
  },
  {
   "cell_type": "code",
   "execution_count": 104,
   "metadata": {},
   "outputs": [
    {
     "data": {
      "text/html": [
       "<div>\n",
       "<style scoped>\n",
       "    .dataframe tbody tr th:only-of-type {\n",
       "        vertical-align: middle;\n",
       "    }\n",
       "\n",
       "    .dataframe tbody tr th {\n",
       "        vertical-align: top;\n",
       "    }\n",
       "\n",
       "    .dataframe thead th {\n",
       "        text-align: right;\n",
       "    }\n",
       "</style>\n",
       "<table border=\"1\" class=\"dataframe\">\n",
       "  <thead>\n",
       "    <tr style=\"text-align: right;\">\n",
       "      <th></th>\n",
       "      <th>Colorado</th>\n",
       "      <th>Texas</th>\n",
       "      <th>New York</th>\n",
       "      <th>Ohio</th>\n",
       "    </tr>\n",
       "  </thead>\n",
       "  <tbody>\n",
       "    <tr>\n",
       "      <th>2000-01</th>\n",
       "      <td>-0.564307</td>\n",
       "      <td>-0.495542</td>\n",
       "      <td>0.233251</td>\n",
       "      <td>0.657542</td>\n",
       "    </tr>\n",
       "    <tr>\n",
       "      <th>2000-02</th>\n",
       "      <td>1.457021</td>\n",
       "      <td>-0.775012</td>\n",
       "      <td>-0.395933</td>\n",
       "      <td>-0.547389</td>\n",
       "    </tr>\n",
       "    <tr>\n",
       "      <th>2000-03</th>\n",
       "      <td>-0.234324</td>\n",
       "      <td>0.013667</td>\n",
       "      <td>1.035171</td>\n",
       "      <td>-1.261998</td>\n",
       "    </tr>\n",
       "    <tr>\n",
       "      <th>2000-04</th>\n",
       "      <td>0.020024</td>\n",
       "      <td>-1.419585</td>\n",
       "      <td>-0.511165</td>\n",
       "      <td>-1.025225</td>\n",
       "    </tr>\n",
       "    <tr>\n",
       "      <th>2000-05</th>\n",
       "      <td>1.017842</td>\n",
       "      <td>-0.058982</td>\n",
       "      <td>3.057284</td>\n",
       "      <td>0.309466</td>\n",
       "    </tr>\n",
       "    <tr>\n",
       "      <th>2000-06</th>\n",
       "      <td>-0.009116</td>\n",
       "      <td>-1.310084</td>\n",
       "      <td>-1.324950</td>\n",
       "      <td>-1.311602</td>\n",
       "    </tr>\n",
       "    <tr>\n",
       "      <th>2000-07</th>\n",
       "      <td>-0.303826</td>\n",
       "      <td>-1.032383</td>\n",
       "      <td>-0.849310</td>\n",
       "      <td>-1.126515</td>\n",
       "    </tr>\n",
       "    <tr>\n",
       "      <th>2000-08</th>\n",
       "      <td>-1.331738</td>\n",
       "      <td>2.370479</td>\n",
       "      <td>-1.954390</td>\n",
       "      <td>0.618653</td>\n",
       "    </tr>\n",
       "    <tr>\n",
       "      <th>2000-09</th>\n",
       "      <td>-0.388065</td>\n",
       "      <td>-1.276457</td>\n",
       "      <td>-0.878539</td>\n",
       "      <td>-1.840942</td>\n",
       "    </tr>\n",
       "    <tr>\n",
       "      <th>2000-10</th>\n",
       "      <td>0.898683</td>\n",
       "      <td>-0.589787</td>\n",
       "      <td>0.221265</td>\n",
       "      <td>-0.305899</td>\n",
       "    </tr>\n",
       "    <tr>\n",
       "      <th>2000-11</th>\n",
       "      <td>1.745993</td>\n",
       "      <td>-1.051089</td>\n",
       "      <td>-1.704041</td>\n",
       "      <td>-0.053591</td>\n",
       "    </tr>\n",
       "    <tr>\n",
       "      <th>2000-12</th>\n",
       "      <td>1.114330</td>\n",
       "      <td>1.329482</td>\n",
       "      <td>-0.368666</td>\n",
       "      <td>2.212276</td>\n",
       "    </tr>\n",
       "    <tr>\n",
       "      <th>2001-01</th>\n",
       "      <td>-0.135806</td>\n",
       "      <td>-0.940473</td>\n",
       "      <td>-0.562144</td>\n",
       "      <td>0.025880</td>\n",
       "    </tr>\n",
       "    <tr>\n",
       "      <th>2001-02</th>\n",
       "      <td>0.343458</td>\n",
       "      <td>1.227771</td>\n",
       "      <td>0.109780</td>\n",
       "      <td>0.314057</td>\n",
       "    </tr>\n",
       "    <tr>\n",
       "      <th>2001-03</th>\n",
       "      <td>1.062004</td>\n",
       "      <td>0.530717</td>\n",
       "      <td>0.487255</td>\n",
       "      <td>0.986275</td>\n",
       "    </tr>\n",
       "    <tr>\n",
       "      <th>2001-04</th>\n",
       "      <td>-0.097838</td>\n",
       "      <td>0.270888</td>\n",
       "      <td>0.115405</td>\n",
       "      <td>-1.570504</td>\n",
       "    </tr>\n",
       "    <tr>\n",
       "      <th>2001-05</th>\n",
       "      <td>-0.188074</td>\n",
       "      <td>0.541413</td>\n",
       "      <td>-0.380016</td>\n",
       "      <td>-1.526882</td>\n",
       "    </tr>\n",
       "    <tr>\n",
       "      <th>2001-06</th>\n",
       "      <td>2.243482</td>\n",
       "      <td>1.049995</td>\n",
       "      <td>0.528938</td>\n",
       "      <td>-1.054943</td>\n",
       "    </tr>\n",
       "    <tr>\n",
       "      <th>2001-07</th>\n",
       "      <td>0.308962</td>\n",
       "      <td>0.209881</td>\n",
       "      <td>-0.029131</td>\n",
       "      <td>0.108463</td>\n",
       "    </tr>\n",
       "    <tr>\n",
       "      <th>2001-08</th>\n",
       "      <td>0.412500</td>\n",
       "      <td>1.958350</td>\n",
       "      <td>-0.814270</td>\n",
       "      <td>-0.793995</td>\n",
       "    </tr>\n",
       "    <tr>\n",
       "      <th>2001-09</th>\n",
       "      <td>-0.217282</td>\n",
       "      <td>-1.353074</td>\n",
       "      <td>0.557408</td>\n",
       "      <td>-0.325754</td>\n",
       "    </tr>\n",
       "    <tr>\n",
       "      <th>2001-10</th>\n",
       "      <td>0.883945</td>\n",
       "      <td>0.150837</td>\n",
       "      <td>-1.047885</td>\n",
       "      <td>-1.004589</td>\n",
       "    </tr>\n",
       "    <tr>\n",
       "      <th>2001-11</th>\n",
       "      <td>0.500708</td>\n",
       "      <td>0.890641</td>\n",
       "      <td>0.280557</td>\n",
       "      <td>-1.760191</td>\n",
       "    </tr>\n",
       "    <tr>\n",
       "      <th>2001-12</th>\n",
       "      <td>0.816712</td>\n",
       "      <td>0.199633</td>\n",
       "      <td>-0.460522</td>\n",
       "      <td>0.402044</td>\n",
       "    </tr>\n",
       "    <tr>\n",
       "      <th>2002-01</th>\n",
       "      <td>0.127824</td>\n",
       "      <td>0.693423</td>\n",
       "      <td>0.697164</td>\n",
       "      <td>1.666093</td>\n",
       "    </tr>\n",
       "    <tr>\n",
       "      <th>2002-02</th>\n",
       "      <td>-0.680300</td>\n",
       "      <td>-1.482135</td>\n",
       "      <td>1.840879</td>\n",
       "      <td>-0.010041</td>\n",
       "    </tr>\n",
       "    <tr>\n",
       "      <th>2002-03</th>\n",
       "      <td>0.085709</td>\n",
       "      <td>-2.574311</td>\n",
       "      <td>-0.643517</td>\n",
       "      <td>-1.442502</td>\n",
       "    </tr>\n",
       "    <tr>\n",
       "      <th>2002-04</th>\n",
       "      <td>-0.182073</td>\n",
       "      <td>-1.525638</td>\n",
       "      <td>-0.861612</td>\n",
       "      <td>-0.175430</td>\n",
       "    </tr>\n",
       "    <tr>\n",
       "      <th>2002-05</th>\n",
       "      <td>-1.400878</td>\n",
       "      <td>0.836006</td>\n",
       "      <td>0.741432</td>\n",
       "      <td>-1.643816</td>\n",
       "    </tr>\n",
       "    <tr>\n",
       "      <th>2002-06</th>\n",
       "      <td>-1.245077</td>\n",
       "      <td>1.687111</td>\n",
       "      <td>0.190338</td>\n",
       "      <td>-0.491462</td>\n",
       "    </tr>\n",
       "    <tr>\n",
       "      <th>2002-07</th>\n",
       "      <td>-0.437181</td>\n",
       "      <td>-0.836884</td>\n",
       "      <td>0.698733</td>\n",
       "      <td>0.374322</td>\n",
       "    </tr>\n",
       "    <tr>\n",
       "      <th>2002-08</th>\n",
       "      <td>-2.258917</td>\n",
       "      <td>-0.841227</td>\n",
       "      <td>0.232033</td>\n",
       "      <td>0.748777</td>\n",
       "    </tr>\n",
       "    <tr>\n",
       "      <th>2002-09</th>\n",
       "      <td>-0.176059</td>\n",
       "      <td>1.844587</td>\n",
       "      <td>-0.475004</td>\n",
       "      <td>0.612524</td>\n",
       "    </tr>\n",
       "    <tr>\n",
       "      <th>2002-10</th>\n",
       "      <td>-1.320878</td>\n",
       "      <td>0.836849</td>\n",
       "      <td>0.411368</td>\n",
       "      <td>-0.054183</td>\n",
       "    </tr>\n",
       "    <tr>\n",
       "      <th>2002-11</th>\n",
       "      <td>0.448301</td>\n",
       "      <td>0.782313</td>\n",
       "      <td>0.050695</td>\n",
       "      <td>0.943165</td>\n",
       "    </tr>\n",
       "    <tr>\n",
       "      <th>2002-12</th>\n",
       "      <td>-0.393613</td>\n",
       "      <td>-0.220535</td>\n",
       "      <td>1.132325</td>\n",
       "      <td>-0.032862</td>\n",
       "    </tr>\n",
       "  </tbody>\n",
       "</table>\n",
       "</div>"
      ],
      "text/plain": [
       "         Colorado     Texas  New York      Ohio\n",
       "2000-01 -0.564307 -0.495542  0.233251  0.657542\n",
       "2000-02  1.457021 -0.775012 -0.395933 -0.547389\n",
       "2000-03 -0.234324  0.013667  1.035171 -1.261998\n",
       "2000-04  0.020024 -1.419585 -0.511165 -1.025225\n",
       "2000-05  1.017842 -0.058982  3.057284  0.309466\n",
       "2000-06 -0.009116 -1.310084 -1.324950 -1.311602\n",
       "2000-07 -0.303826 -1.032383 -0.849310 -1.126515\n",
       "2000-08 -1.331738  2.370479 -1.954390  0.618653\n",
       "2000-09 -0.388065 -1.276457 -0.878539 -1.840942\n",
       "2000-10  0.898683 -0.589787  0.221265 -0.305899\n",
       "2000-11  1.745993 -1.051089 -1.704041 -0.053591\n",
       "2000-12  1.114330  1.329482 -0.368666  2.212276\n",
       "2001-01 -0.135806 -0.940473 -0.562144  0.025880\n",
       "2001-02  0.343458  1.227771  0.109780  0.314057\n",
       "2001-03  1.062004  0.530717  0.487255  0.986275\n",
       "2001-04 -0.097838  0.270888  0.115405 -1.570504\n",
       "2001-05 -0.188074  0.541413 -0.380016 -1.526882\n",
       "2001-06  2.243482  1.049995  0.528938 -1.054943\n",
       "2001-07  0.308962  0.209881 -0.029131  0.108463\n",
       "2001-08  0.412500  1.958350 -0.814270 -0.793995\n",
       "2001-09 -0.217282 -1.353074  0.557408 -0.325754\n",
       "2001-10  0.883945  0.150837 -1.047885 -1.004589\n",
       "2001-11  0.500708  0.890641  0.280557 -1.760191\n",
       "2001-12  0.816712  0.199633 -0.460522  0.402044\n",
       "2002-01  0.127824  0.693423  0.697164  1.666093\n",
       "2002-02 -0.680300 -1.482135  1.840879 -0.010041\n",
       "2002-03  0.085709 -2.574311 -0.643517 -1.442502\n",
       "2002-04 -0.182073 -1.525638 -0.861612 -0.175430\n",
       "2002-05 -1.400878  0.836006  0.741432 -1.643816\n",
       "2002-06 -1.245077  1.687111  0.190338 -0.491462\n",
       "2002-07 -0.437181 -0.836884  0.698733  0.374322\n",
       "2002-08 -2.258917 -0.841227  0.232033  0.748777\n",
       "2002-09 -0.176059  1.844587 -0.475004  0.612524\n",
       "2002-10 -1.320878  0.836849  0.411368 -0.054183\n",
       "2002-11  0.448301  0.782313  0.050695  0.943165\n",
       "2002-12 -0.393613 -0.220535  1.132325 -0.032862"
      ]
     },
     "execution_count": 104,
     "metadata": {},
     "output_type": "execute_result"
    }
   ],
   "source": [
    "len_filas= 36\n",
    "df = pd.DataFrame(np.random.standard_normal((len_filas,4)),index=pd.period_range(\"1-2000\",\"12-2002\",freq=\"M\"),columns=[\"Colorado\",\"Texas\",\"New York\",\"Ohio\"])\n",
    "df"
   ]
  },
  {
   "cell_type": "code",
   "execution_count": 105,
   "metadata": {},
   "outputs": [
    {
     "name": "stderr",
     "output_type": "stream",
     "text": [
      "C:\\Users\\bruno\\AppData\\Local\\Temp\\ipykernel_2700\\2211657489.py:1: FutureWarning: Resampling with a PeriodIndex is deprecated. Cast index to DatetimeIndex before resampling instead.\n",
      "  annual_frame = df.resample(\"Y-DEC\").mean()\n"
     ]
    },
    {
     "data": {
      "text/html": [
       "<div>\n",
       "<style scoped>\n",
       "    .dataframe tbody tr th:only-of-type {\n",
       "        vertical-align: middle;\n",
       "    }\n",
       "\n",
       "    .dataframe tbody tr th {\n",
       "        vertical-align: top;\n",
       "    }\n",
       "\n",
       "    .dataframe thead th {\n",
       "        text-align: right;\n",
       "    }\n",
       "</style>\n",
       "<table border=\"1\" class=\"dataframe\">\n",
       "  <thead>\n",
       "    <tr style=\"text-align: right;\">\n",
       "      <th></th>\n",
       "      <th>Colorado</th>\n",
       "      <th>Texas</th>\n",
       "      <th>New York</th>\n",
       "      <th>Ohio</th>\n",
       "    </tr>\n",
       "  </thead>\n",
       "  <tbody>\n",
       "    <tr>\n",
       "      <th>2000</th>\n",
       "      <td>0.285210</td>\n",
       "      <td>-0.357941</td>\n",
       "      <td>-0.286669</td>\n",
       "      <td>-0.306269</td>\n",
       "    </tr>\n",
       "    <tr>\n",
       "      <th>2001</th>\n",
       "      <td>0.494397</td>\n",
       "      <td>0.394715</td>\n",
       "      <td>-0.101219</td>\n",
       "      <td>-0.516678</td>\n",
       "    </tr>\n",
       "    <tr>\n",
       "      <th>2002</th>\n",
       "      <td>-0.619428</td>\n",
       "      <td>-0.066704</td>\n",
       "      <td>0.334570</td>\n",
       "      <td>0.041215</td>\n",
       "    </tr>\n",
       "  </tbody>\n",
       "</table>\n",
       "</div>"
      ],
      "text/plain": [
       "      Colorado     Texas  New York      Ohio\n",
       "2000  0.285210 -0.357941 -0.286669 -0.306269\n",
       "2001  0.494397  0.394715 -0.101219 -0.516678\n",
       "2002 -0.619428 -0.066704  0.334570  0.041215"
      ]
     },
     "execution_count": 105,
     "metadata": {},
     "output_type": "execute_result"
    }
   ],
   "source": [
    "annual_frame = df.resample(\"Y-DEC\").mean()\n",
    "annual_frame"
   ]
  },
  {
   "cell_type": "markdown",
   "metadata": {},
   "source": [
    "### Grouped Time Resampling\n",
    "Time series data -> Resample method is semantically a group operation based on a time intervalization\n",
    "\n"
   ]
  },
  {
   "cell_type": "code",
   "execution_count": 106,
   "metadata": {},
   "outputs": [],
   "source": [
    "N = 15\n",
    "times = pd.date_range(\"2017-01-01 12:00\",freq=\"1min\",periods=N)\n",
    "df=pd.DataFrame({\"time\":times,\"value\":np.arange(N)})"
   ]
  },
  {
   "cell_type": "code",
   "execution_count": 107,
   "metadata": {},
   "outputs": [
    {
     "data": {
      "text/html": [
       "<div>\n",
       "<style scoped>\n",
       "    .dataframe tbody tr th:only-of-type {\n",
       "        vertical-align: middle;\n",
       "    }\n",
       "\n",
       "    .dataframe tbody tr th {\n",
       "        vertical-align: top;\n",
       "    }\n",
       "\n",
       "    .dataframe thead th {\n",
       "        text-align: right;\n",
       "    }\n",
       "</style>\n",
       "<table border=\"1\" class=\"dataframe\">\n",
       "  <thead>\n",
       "    <tr style=\"text-align: right;\">\n",
       "      <th></th>\n",
       "      <th>time</th>\n",
       "      <th>value</th>\n",
       "    </tr>\n",
       "  </thead>\n",
       "  <tbody>\n",
       "    <tr>\n",
       "      <th>0</th>\n",
       "      <td>2017-01-01 12:00:00</td>\n",
       "      <td>0</td>\n",
       "    </tr>\n",
       "    <tr>\n",
       "      <th>1</th>\n",
       "      <td>2017-01-01 12:01:00</td>\n",
       "      <td>1</td>\n",
       "    </tr>\n",
       "    <tr>\n",
       "      <th>2</th>\n",
       "      <td>2017-01-01 12:02:00</td>\n",
       "      <td>2</td>\n",
       "    </tr>\n",
       "    <tr>\n",
       "      <th>3</th>\n",
       "      <td>2017-01-01 12:03:00</td>\n",
       "      <td>3</td>\n",
       "    </tr>\n",
       "    <tr>\n",
       "      <th>4</th>\n",
       "      <td>2017-01-01 12:04:00</td>\n",
       "      <td>4</td>\n",
       "    </tr>\n",
       "    <tr>\n",
       "      <th>5</th>\n",
       "      <td>2017-01-01 12:05:00</td>\n",
       "      <td>5</td>\n",
       "    </tr>\n",
       "    <tr>\n",
       "      <th>6</th>\n",
       "      <td>2017-01-01 12:06:00</td>\n",
       "      <td>6</td>\n",
       "    </tr>\n",
       "    <tr>\n",
       "      <th>7</th>\n",
       "      <td>2017-01-01 12:07:00</td>\n",
       "      <td>7</td>\n",
       "    </tr>\n",
       "    <tr>\n",
       "      <th>8</th>\n",
       "      <td>2017-01-01 12:08:00</td>\n",
       "      <td>8</td>\n",
       "    </tr>\n",
       "    <tr>\n",
       "      <th>9</th>\n",
       "      <td>2017-01-01 12:09:00</td>\n",
       "      <td>9</td>\n",
       "    </tr>\n",
       "    <tr>\n",
       "      <th>10</th>\n",
       "      <td>2017-01-01 12:10:00</td>\n",
       "      <td>10</td>\n",
       "    </tr>\n",
       "    <tr>\n",
       "      <th>11</th>\n",
       "      <td>2017-01-01 12:11:00</td>\n",
       "      <td>11</td>\n",
       "    </tr>\n",
       "    <tr>\n",
       "      <th>12</th>\n",
       "      <td>2017-01-01 12:12:00</td>\n",
       "      <td>12</td>\n",
       "    </tr>\n",
       "    <tr>\n",
       "      <th>13</th>\n",
       "      <td>2017-01-01 12:13:00</td>\n",
       "      <td>13</td>\n",
       "    </tr>\n",
       "    <tr>\n",
       "      <th>14</th>\n",
       "      <td>2017-01-01 12:14:00</td>\n",
       "      <td>14</td>\n",
       "    </tr>\n",
       "  </tbody>\n",
       "</table>\n",
       "</div>"
      ],
      "text/plain": [
       "                  time  value\n",
       "0  2017-01-01 12:00:00      0\n",
       "1  2017-01-01 12:01:00      1\n",
       "2  2017-01-01 12:02:00      2\n",
       "3  2017-01-01 12:03:00      3\n",
       "4  2017-01-01 12:04:00      4\n",
       "5  2017-01-01 12:05:00      5\n",
       "6  2017-01-01 12:06:00      6\n",
       "7  2017-01-01 12:07:00      7\n",
       "8  2017-01-01 12:08:00      8\n",
       "9  2017-01-01 12:09:00      9\n",
       "10 2017-01-01 12:10:00     10\n",
       "11 2017-01-01 12:11:00     11\n",
       "12 2017-01-01 12:12:00     12\n",
       "13 2017-01-01 12:13:00     13\n",
       "14 2017-01-01 12:14:00     14"
      ]
     },
     "execution_count": 107,
     "metadata": {},
     "output_type": "execute_result"
    }
   ],
   "source": [
    "df"
   ]
  },
  {
   "cell_type": "code",
   "execution_count": 110,
   "metadata": {},
   "outputs": [
    {
     "data": {
      "text/html": [
       "<div>\n",
       "<style scoped>\n",
       "    .dataframe tbody tr th:only-of-type {\n",
       "        vertical-align: middle;\n",
       "    }\n",
       "\n",
       "    .dataframe tbody tr th {\n",
       "        vertical-align: top;\n",
       "    }\n",
       "\n",
       "    .dataframe thead th {\n",
       "        text-align: right;\n",
       "    }\n",
       "</style>\n",
       "<table border=\"1\" class=\"dataframe\">\n",
       "  <thead>\n",
       "    <tr style=\"text-align: right;\">\n",
       "      <th></th>\n",
       "      <th>value</th>\n",
       "    </tr>\n",
       "    <tr>\n",
       "      <th>time</th>\n",
       "      <th></th>\n",
       "    </tr>\n",
       "  </thead>\n",
       "  <tbody>\n",
       "    <tr>\n",
       "      <th>2017-01-01 12:00:00</th>\n",
       "      <td>10</td>\n",
       "    </tr>\n",
       "    <tr>\n",
       "      <th>2017-01-01 12:05:00</th>\n",
       "      <td>35</td>\n",
       "    </tr>\n",
       "    <tr>\n",
       "      <th>2017-01-01 12:10:00</th>\n",
       "      <td>60</td>\n",
       "    </tr>\n",
       "  </tbody>\n",
       "</table>\n",
       "</div>"
      ],
      "text/plain": [
       "                     value\n",
       "time                      \n",
       "2017-01-01 12:00:00     10\n",
       "2017-01-01 12:05:00     35\n",
       "2017-01-01 12:10:00     60"
      ]
     },
     "execution_count": 110,
     "metadata": {},
     "output_type": "execute_result"
    }
   ],
   "source": [
    "# Index by time and then resample\n",
    "df.set_index(\"time\").resample(\"5min\").sum()"
   ]
  },
  {
   "cell_type": "markdown",
   "metadata": {},
   "source": [
    "### Moving window functions\n",
    "Important class of array transformations that is used for time series operations.\n",
    "Can be usefull for smoothing noisy or gappy data.\n",
    "Automatically exclude missing data."
   ]
  },
  {
   "cell_type": "code",
   "execution_count": null,
   "metadata": {},
   "outputs": [],
   "source": []
  }
 ],
 "metadata": {
  "kernelspec": {
   "display_name": "mlenv",
   "language": "python",
   "name": "python3"
  },
  "language_info": {
   "codemirror_mode": {
    "name": "ipython",
    "version": 3
   },
   "file_extension": ".py",
   "mimetype": "text/x-python",
   "name": "python",
   "nbconvert_exporter": "python",
   "pygments_lexer": "ipython3",
   "version": "3.11.5"
  }
 },
 "nbformat": 4,
 "nbformat_minor": 2
}
