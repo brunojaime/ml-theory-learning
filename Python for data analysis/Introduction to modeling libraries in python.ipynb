{
 "cells": [
  {
   "cell_type": "markdown",
   "metadata": {},
   "source": [
    "There will be a review of some features of pandas that may be helpfull for data wrangling, model fitting and scoring\n",
    "Also, there will be a short introduction to popular modeling toolkits:\n",
    "- statsmodels\n",
    "- scikitlearn"
   ]
  },
  {
   "cell_type": "markdown",
   "metadata": {},
   "source": [
    "### Interfacing between pandas and Model Code\n",
    "Common workflow for model development:\n",
    "- Use pandas for data loading and cleaning. \n",
    "  Feature engineering -> Is any data transformation or analytics that extract information from a raw dataset that may be useful in a modeling context. Important part of the model development in ml. Data aggregation used with groupby are often used in a feature engineering context"
   ]
  },
  {
   "cell_type": "markdown",
   "metadata": {},
   "source": [
    "The way to connect pandas and othe analysis libraries is usually NumPy arrays.\n",
    "We have to turn a DataFrame into a NumPy array"
   ]
  },
  {
   "cell_type": "code",
   "execution_count": 1,
   "metadata": {},
   "outputs": [],
   "source": [
    "import numpy as np\n",
    "import pandas as pd"
   ]
  },
  {
   "cell_type": "code",
   "execution_count": 2,
   "metadata": {},
   "outputs": [
    {
     "data": {
      "text/html": [
       "<div>\n",
       "<style scoped>\n",
       "    .dataframe tbody tr th:only-of-type {\n",
       "        vertical-align: middle;\n",
       "    }\n",
       "\n",
       "    .dataframe tbody tr th {\n",
       "        vertical-align: top;\n",
       "    }\n",
       "\n",
       "    .dataframe thead th {\n",
       "        text-align: right;\n",
       "    }\n",
       "</style>\n",
       "<table border=\"1\" class=\"dataframe\">\n",
       "  <thead>\n",
       "    <tr style=\"text-align: right;\">\n",
       "      <th></th>\n",
       "      <th>x0</th>\n",
       "      <th>x1</th>\n",
       "      <th>y</th>\n",
       "    </tr>\n",
       "  </thead>\n",
       "  <tbody>\n",
       "    <tr>\n",
       "      <th>0</th>\n",
       "      <td>1</td>\n",
       "      <td>0.01</td>\n",
       "      <td>-1.5</td>\n",
       "    </tr>\n",
       "    <tr>\n",
       "      <th>1</th>\n",
       "      <td>2</td>\n",
       "      <td>-0.01</td>\n",
       "      <td>0.0</td>\n",
       "    </tr>\n",
       "    <tr>\n",
       "      <th>2</th>\n",
       "      <td>3</td>\n",
       "      <td>0.25</td>\n",
       "      <td>3.6</td>\n",
       "    </tr>\n",
       "    <tr>\n",
       "      <th>3</th>\n",
       "      <td>4</td>\n",
       "      <td>-4.10</td>\n",
       "      <td>1.3</td>\n",
       "    </tr>\n",
       "    <tr>\n",
       "      <th>4</th>\n",
       "      <td>5</td>\n",
       "      <td>0.00</td>\n",
       "      <td>-2.0</td>\n",
       "    </tr>\n",
       "  </tbody>\n",
       "</table>\n",
       "</div>"
      ],
      "text/plain": [
       "   x0    x1    y\n",
       "0   1  0.01 -1.5\n",
       "1   2 -0.01  0.0\n",
       "2   3  0.25  3.6\n",
       "3   4 -4.10  1.3\n",
       "4   5  0.00 -2.0"
      ]
     },
     "execution_count": 2,
     "metadata": {},
     "output_type": "execute_result"
    }
   ],
   "source": [
    "data = pd.DataFrame({\n",
    "    \"x0\":np.arange(5)+1,\n",
    "    \"x1\":[0.01,-0.01,0.25,-4.1,0.],\n",
    "    \"y\":[-1.5,0.,3.6,1.3,-2.]})\n",
    "data"
   ]
  },
  {
   "cell_type": "code",
   "execution_count": 3,
   "metadata": {},
   "outputs": [
    {
     "data": {
      "text/plain": [
       "Index(['x0', 'x1', 'y'], dtype='object')"
      ]
     },
     "execution_count": 3,
     "metadata": {},
     "output_type": "execute_result"
    }
   ],
   "source": [
    "data.columns"
   ]
  },
  {
   "cell_type": "code",
   "execution_count": 4,
   "metadata": {},
   "outputs": [
    {
     "data": {
      "text/plain": [
       "array([[ 1.  ,  0.01, -1.5 ],\n",
       "       [ 2.  , -0.01,  0.  ],\n",
       "       [ 3.  ,  0.25,  3.6 ],\n",
       "       [ 4.  , -4.1 ,  1.3 ],\n",
       "       [ 5.  ,  0.  , -2.  ]])"
      ]
     },
     "execution_count": 4,
     "metadata": {},
     "output_type": "execute_result"
    }
   ],
   "source": [
    "#Passing the DataFrame to numpy\n",
    "np_array = data.to_numpy()\n",
    "np_array"
   ]
  },
  {
   "cell_type": "code",
   "execution_count": 5,
   "metadata": {},
   "outputs": [
    {
     "data": {
      "text/html": [
       "<div>\n",
       "<style scoped>\n",
       "    .dataframe tbody tr th:only-of-type {\n",
       "        vertical-align: middle;\n",
       "    }\n",
       "\n",
       "    .dataframe tbody tr th {\n",
       "        vertical-align: top;\n",
       "    }\n",
       "\n",
       "    .dataframe thead th {\n",
       "        text-align: right;\n",
       "    }\n",
       "</style>\n",
       "<table border=\"1\" class=\"dataframe\">\n",
       "  <thead>\n",
       "    <tr style=\"text-align: right;\">\n",
       "      <th></th>\n",
       "      <th>x0</th>\n",
       "      <th>x1</th>\n",
       "      <th>y</th>\n",
       "    </tr>\n",
       "  </thead>\n",
       "  <tbody>\n",
       "    <tr>\n",
       "      <th>0</th>\n",
       "      <td>1.0</td>\n",
       "      <td>0.01</td>\n",
       "      <td>-1.5</td>\n",
       "    </tr>\n",
       "    <tr>\n",
       "      <th>1</th>\n",
       "      <td>2.0</td>\n",
       "      <td>-0.01</td>\n",
       "      <td>0.0</td>\n",
       "    </tr>\n",
       "    <tr>\n",
       "      <th>2</th>\n",
       "      <td>3.0</td>\n",
       "      <td>0.25</td>\n",
       "      <td>3.6</td>\n",
       "    </tr>\n",
       "    <tr>\n",
       "      <th>3</th>\n",
       "      <td>4.0</td>\n",
       "      <td>-4.10</td>\n",
       "      <td>1.3</td>\n",
       "    </tr>\n",
       "    <tr>\n",
       "      <th>4</th>\n",
       "      <td>5.0</td>\n",
       "      <td>0.00</td>\n",
       "      <td>-2.0</td>\n",
       "    </tr>\n",
       "  </tbody>\n",
       "</table>\n",
       "</div>"
      ],
      "text/plain": [
       "    x0    x1    y\n",
       "0  1.0  0.01 -1.5\n",
       "1  2.0 -0.01  0.0\n",
       "2  3.0  0.25  3.6\n",
       "3  4.0 -4.10  1.3\n",
       "4  5.0  0.00 -2.0"
      ]
     },
     "execution_count": 5,
     "metadata": {},
     "output_type": "execute_result"
    }
   ],
   "source": [
    "#Going back to DataFrame\n",
    "df2 = pd.DataFrame(np_array,columns=['x0','x1','y'])\n",
    "df2\n"
   ]
  },
  {
   "cell_type": "markdown",
   "metadata": {},
   "source": [
    "to_numpy is intended to be used when your data is homogeneous (ex: all numeric types)\n",
    "If you have heterogneous data, the result will be an ndarray of Python objects"
   ]
  },
  {
   "cell_type": "code",
   "execution_count": 6,
   "metadata": {},
   "outputs": [
    {
     "data": {
      "text/html": [
       "<div>\n",
       "<style scoped>\n",
       "    .dataframe tbody tr th:only-of-type {\n",
       "        vertical-align: middle;\n",
       "    }\n",
       "\n",
       "    .dataframe tbody tr th {\n",
       "        vertical-align: top;\n",
       "    }\n",
       "\n",
       "    .dataframe thead th {\n",
       "        text-align: right;\n",
       "    }\n",
       "</style>\n",
       "<table border=\"1\" class=\"dataframe\">\n",
       "  <thead>\n",
       "    <tr style=\"text-align: right;\">\n",
       "      <th></th>\n",
       "      <th>x0</th>\n",
       "      <th>x1</th>\n",
       "      <th>y</th>\n",
       "      <th>strings</th>\n",
       "    </tr>\n",
       "  </thead>\n",
       "  <tbody>\n",
       "    <tr>\n",
       "      <th>0</th>\n",
       "      <td>1</td>\n",
       "      <td>0.01</td>\n",
       "      <td>-1.5</td>\n",
       "      <td>a</td>\n",
       "    </tr>\n",
       "    <tr>\n",
       "      <th>1</th>\n",
       "      <td>2</td>\n",
       "      <td>-0.01</td>\n",
       "      <td>0.0</td>\n",
       "      <td>b</td>\n",
       "    </tr>\n",
       "    <tr>\n",
       "      <th>2</th>\n",
       "      <td>3</td>\n",
       "      <td>0.25</td>\n",
       "      <td>3.6</td>\n",
       "      <td>c</td>\n",
       "    </tr>\n",
       "    <tr>\n",
       "      <th>3</th>\n",
       "      <td>4</td>\n",
       "      <td>-4.10</td>\n",
       "      <td>1.3</td>\n",
       "      <td>d</td>\n",
       "    </tr>\n",
       "    <tr>\n",
       "      <th>4</th>\n",
       "      <td>5</td>\n",
       "      <td>0.00</td>\n",
       "      <td>-2.0</td>\n",
       "      <td>e</td>\n",
       "    </tr>\n",
       "  </tbody>\n",
       "</table>\n",
       "</div>"
      ],
      "text/plain": [
       "   x0    x1    y strings\n",
       "0   1  0.01 -1.5       a\n",
       "1   2 -0.01  0.0       b\n",
       "2   3  0.25  3.6       c\n",
       "3   4 -4.10  1.3       d\n",
       "4   5  0.00 -2.0       e"
      ]
     },
     "execution_count": 6,
     "metadata": {},
     "output_type": "execute_result"
    }
   ],
   "source": [
    "df3 = data.copy()\n",
    "df3['strings'] =['a','b','c','d','e']\n",
    "df3"
   ]
  },
  {
   "cell_type": "code",
   "execution_count": 7,
   "metadata": {},
   "outputs": [
    {
     "data": {
      "text/plain": [
       "array([[1, 0.01, -1.5, 'a'],\n",
       "       [2, -0.01, 0.0, 'b'],\n",
       "       [3, 0.25, 3.6, 'c'],\n",
       "       [4, -4.1, 1.3, 'd'],\n",
       "       [5, 0.0, -2.0, 'e']], dtype=object)"
      ]
     },
     "execution_count": 7,
     "metadata": {},
     "output_type": "execute_result"
    }
   ],
   "source": [
    "df3.to_numpy()"
   ]
  },
  {
   "cell_type": "code",
   "execution_count": 8,
   "metadata": {},
   "outputs": [
    {
     "data": {
      "text/plain": [
       "array([[ 1.  ,  0.01],\n",
       "       [ 2.  , -0.01],\n",
       "       [ 3.  ,  0.25],\n",
       "       [ 4.  , -4.1 ],\n",
       "       [ 5.  ,  0.  ]])"
      ]
     },
     "execution_count": 8,
     "metadata": {},
     "output_type": "execute_result"
    }
   ],
   "source": [
    "# In some models we may wish to only use some columns\n",
    "# We can use loc with to_numpy\n",
    "model_cols=['x0','x1']\n",
    "data.loc[:,model_cols].to_numpy()"
   ]
  },
  {
   "cell_type": "markdown",
   "metadata": {},
   "source": [
    "Some libraries have native support with pandas and automatically convert from DataFrame to NumPy array and attach model parameter names to the columns of output tables or series."
   ]
  },
  {
   "cell_type": "code",
   "execution_count": 9,
   "metadata": {},
   "outputs": [
    {
     "data": {
      "text/html": [
       "<div>\n",
       "<style scoped>\n",
       "    .dataframe tbody tr th:only-of-type {\n",
       "        vertical-align: middle;\n",
       "    }\n",
       "\n",
       "    .dataframe tbody tr th {\n",
       "        vertical-align: top;\n",
       "    }\n",
       "\n",
       "    .dataframe thead th {\n",
       "        text-align: right;\n",
       "    }\n",
       "</style>\n",
       "<table border=\"1\" class=\"dataframe\">\n",
       "  <thead>\n",
       "    <tr style=\"text-align: right;\">\n",
       "      <th></th>\n",
       "      <th>x0</th>\n",
       "      <th>x1</th>\n",
       "      <th>y</th>\n",
       "      <th>category</th>\n",
       "    </tr>\n",
       "  </thead>\n",
       "  <tbody>\n",
       "    <tr>\n",
       "      <th>0</th>\n",
       "      <td>1</td>\n",
       "      <td>0.01</td>\n",
       "      <td>-1.5</td>\n",
       "      <td>a</td>\n",
       "    </tr>\n",
       "    <tr>\n",
       "      <th>1</th>\n",
       "      <td>2</td>\n",
       "      <td>-0.01</td>\n",
       "      <td>0.0</td>\n",
       "      <td>b</td>\n",
       "    </tr>\n",
       "    <tr>\n",
       "      <th>2</th>\n",
       "      <td>3</td>\n",
       "      <td>0.25</td>\n",
       "      <td>3.6</td>\n",
       "      <td>a</td>\n",
       "    </tr>\n",
       "    <tr>\n",
       "      <th>3</th>\n",
       "      <td>4</td>\n",
       "      <td>-4.10</td>\n",
       "      <td>1.3</td>\n",
       "      <td>a</td>\n",
       "    </tr>\n",
       "    <tr>\n",
       "      <th>4</th>\n",
       "      <td>5</td>\n",
       "      <td>0.00</td>\n",
       "      <td>-2.0</td>\n",
       "      <td>b</td>\n",
       "    </tr>\n",
       "  </tbody>\n",
       "</table>\n",
       "</div>"
      ],
      "text/plain": [
       "   x0    x1    y category\n",
       "0   1  0.01 -1.5        a\n",
       "1   2 -0.01  0.0        b\n",
       "2   3  0.25  3.6        a\n",
       "3   4 -4.10  1.3        a\n",
       "4   5  0.00 -2.0        b"
      ]
     },
     "execution_count": 9,
     "metadata": {},
     "output_type": "execute_result"
    }
   ],
   "source": [
    "# We have a non nonnumeric column \n",
    "data['category'] = pd.Categorical(['a','b','a','a','b'],categories=['a','b'])\n",
    "data"
   ]
  },
  {
   "cell_type": "code",
   "execution_count": 10,
   "metadata": {},
   "outputs": [
    {
     "data": {
      "text/html": [
       "<div>\n",
       "<style scoped>\n",
       "    .dataframe tbody tr th:only-of-type {\n",
       "        vertical-align: middle;\n",
       "    }\n",
       "\n",
       "    .dataframe tbody tr th {\n",
       "        vertical-align: top;\n",
       "    }\n",
       "\n",
       "    .dataframe thead th {\n",
       "        text-align: right;\n",
       "    }\n",
       "</style>\n",
       "<table border=\"1\" class=\"dataframe\">\n",
       "  <thead>\n",
       "    <tr style=\"text-align: right;\">\n",
       "      <th></th>\n",
       "      <th>x0</th>\n",
       "      <th>x1</th>\n",
       "      <th>y</th>\n",
       "      <th>cat_a</th>\n",
       "      <th>cat_b</th>\n",
       "    </tr>\n",
       "  </thead>\n",
       "  <tbody>\n",
       "    <tr>\n",
       "      <th>0</th>\n",
       "      <td>1</td>\n",
       "      <td>0.01</td>\n",
       "      <td>-1.5</td>\n",
       "      <td>True</td>\n",
       "      <td>False</td>\n",
       "    </tr>\n",
       "    <tr>\n",
       "      <th>1</th>\n",
       "      <td>2</td>\n",
       "      <td>-0.01</td>\n",
       "      <td>0.0</td>\n",
       "      <td>False</td>\n",
       "      <td>True</td>\n",
       "    </tr>\n",
       "    <tr>\n",
       "      <th>2</th>\n",
       "      <td>3</td>\n",
       "      <td>0.25</td>\n",
       "      <td>3.6</td>\n",
       "      <td>True</td>\n",
       "      <td>False</td>\n",
       "    </tr>\n",
       "    <tr>\n",
       "      <th>3</th>\n",
       "      <td>4</td>\n",
       "      <td>-4.10</td>\n",
       "      <td>1.3</td>\n",
       "      <td>True</td>\n",
       "      <td>False</td>\n",
       "    </tr>\n",
       "    <tr>\n",
       "      <th>4</th>\n",
       "      <td>5</td>\n",
       "      <td>0.00</td>\n",
       "      <td>-2.0</td>\n",
       "      <td>False</td>\n",
       "      <td>True</td>\n",
       "    </tr>\n",
       "  </tbody>\n",
       "</table>\n",
       "</div>"
      ],
      "text/plain": [
       "   x0    x1    y  cat_a  cat_b\n",
       "0   1  0.01 -1.5   True  False\n",
       "1   2 -0.01  0.0  False   True\n",
       "2   3  0.25  3.6   True  False\n",
       "3   4 -4.10  1.3   True  False\n",
       "4   5  0.00 -2.0  False   True"
      ]
     },
     "execution_count": 10,
     "metadata": {},
     "output_type": "execute_result"
    }
   ],
   "source": [
    "dummies = pd.get_dummies(data.category,prefix=\"cat\")\n",
    "data_with_dummies =  data.drop(\"category\",axis=1).join(dummies)\n",
    "data_with_dummies"
   ]
  },
  {
   "cell_type": "markdown",
   "metadata": {},
   "source": [
    "### Creating Model Descriptions with Patsy\n",
    "Patsy is a Python library for decribing statistical models (especially linear models).\n",
    "It uses string base formula syntax of R.\n",
    "Patsy syntax -> y ~ x0 + x1.\n",
    "patsy.dmatrices functions -> Takes formula string along with dataset"
   ]
  },
  {
   "cell_type": "code",
   "execution_count": 11,
   "metadata": {},
   "outputs": [
    {
     "data": {
      "text/html": [
       "<div>\n",
       "<style scoped>\n",
       "    .dataframe tbody tr th:only-of-type {\n",
       "        vertical-align: middle;\n",
       "    }\n",
       "\n",
       "    .dataframe tbody tr th {\n",
       "        vertical-align: top;\n",
       "    }\n",
       "\n",
       "    .dataframe thead th {\n",
       "        text-align: right;\n",
       "    }\n",
       "</style>\n",
       "<table border=\"1\" class=\"dataframe\">\n",
       "  <thead>\n",
       "    <tr style=\"text-align: right;\">\n",
       "      <th></th>\n",
       "      <th>x0</th>\n",
       "      <th>x1</th>\n",
       "      <th>y</th>\n",
       "    </tr>\n",
       "  </thead>\n",
       "  <tbody>\n",
       "    <tr>\n",
       "      <th>0</th>\n",
       "      <td>1</td>\n",
       "      <td>0.01</td>\n",
       "      <td>-1.5</td>\n",
       "    </tr>\n",
       "    <tr>\n",
       "      <th>1</th>\n",
       "      <td>2</td>\n",
       "      <td>-0.01</td>\n",
       "      <td>0.0</td>\n",
       "    </tr>\n",
       "    <tr>\n",
       "      <th>2</th>\n",
       "      <td>3</td>\n",
       "      <td>0.25</td>\n",
       "      <td>3.6</td>\n",
       "    </tr>\n",
       "    <tr>\n",
       "      <th>3</th>\n",
       "      <td>4</td>\n",
       "      <td>-4.10</td>\n",
       "      <td>1.3</td>\n",
       "    </tr>\n",
       "    <tr>\n",
       "      <th>4</th>\n",
       "      <td>5</td>\n",
       "      <td>0.00</td>\n",
       "      <td>-2.0</td>\n",
       "    </tr>\n",
       "  </tbody>\n",
       "</table>\n",
       "</div>"
      ],
      "text/plain": [
       "   x0    x1    y\n",
       "0   1  0.01 -1.5\n",
       "1   2 -0.01  0.0\n",
       "2   3  0.25  3.6\n",
       "3   4 -4.10  1.3\n",
       "4   5  0.00 -2.0"
      ]
     },
     "execution_count": 11,
     "metadata": {},
     "output_type": "execute_result"
    }
   ],
   "source": [
    "data = pd.DataFrame({\n",
    "    \"x0\":np.arange(1,6),\n",
    "    \"x1\":[0.01,-0.01,0.25,-4.10,0.00],\n",
    "    \"y\":[-1.5,0.0,3.6,1.3,-2.0]\n",
    "})\n",
    "data"
   ]
  },
  {
   "cell_type": "code",
   "execution_count": 12,
   "metadata": {},
   "outputs": [],
   "source": [
    "import patsy\n",
    "y, X = patsy.dmatrices(\"y ~ x0 + x1\",data)"
   ]
  },
  {
   "cell_type": "code",
   "execution_count": 13,
   "metadata": {},
   "outputs": [
    {
     "data": {
      "text/plain": [
       "DesignMatrix with shape (5, 1)\n",
       "     y\n",
       "  -1.5\n",
       "   0.0\n",
       "   3.6\n",
       "   1.3\n",
       "  -2.0\n",
       "  Terms:\n",
       "    'y' (column 0)"
      ]
     },
     "execution_count": 13,
     "metadata": {},
     "output_type": "execute_result"
    }
   ],
   "source": [
    "y"
   ]
  },
  {
   "cell_type": "code",
   "execution_count": 14,
   "metadata": {},
   "outputs": [
    {
     "data": {
      "text/plain": [
       "DesignMatrix with shape (5, 3)\n",
       "  Intercept  x0     x1\n",
       "          1   1   0.01\n",
       "          1   2  -0.01\n",
       "          1   3   0.25\n",
       "          1   4  -4.10\n",
       "          1   5   0.00\n",
       "  Terms:\n",
       "    'Intercept' (column 0)\n",
       "    'x0' (column 1)\n",
       "    'x1' (column 2)"
      ]
     },
     "execution_count": 14,
     "metadata": {},
     "output_type": "execute_result"
    }
   ],
   "source": [
    "X"
   ]
  },
  {
   "cell_type": "markdown",
   "metadata": {},
   "source": [
    "These Patsy DesignMatrix instances are Numpy ndarrays with metadata"
   ]
  },
  {
   "cell_type": "code",
   "execution_count": 15,
   "metadata": {},
   "outputs": [
    {
     "data": {
      "text/plain": [
       "array([[-1.5],\n",
       "       [ 0. ],\n",
       "       [ 3.6],\n",
       "       [ 1.3],\n",
       "       [-2. ]])"
      ]
     },
     "execution_count": 15,
     "metadata": {},
     "output_type": "execute_result"
    }
   ],
   "source": [
    "np.asarray(y)"
   ]
  },
  {
   "cell_type": "code",
   "execution_count": 16,
   "metadata": {},
   "outputs": [
    {
     "data": {
      "text/plain": [
       "array([[ 1.  ,  1.  ,  0.01],\n",
       "       [ 1.  ,  2.  , -0.01],\n",
       "       [ 1.  ,  3.  ,  0.25],\n",
       "       [ 1.  ,  4.  , -4.1 ],\n",
       "       [ 1.  ,  5.  ,  0.  ]])"
      ]
     },
     "execution_count": 16,
     "metadata": {},
     "output_type": "execute_result"
    }
   ],
   "source": [
    "np.asarray(X)"
   ]
  },
  {
   "cell_type": "code",
   "execution_count": 17,
   "metadata": {},
   "outputs": [
    {
     "name": "stderr",
     "output_type": "stream",
     "text": [
      "C:\\Users\\bruno\\AppData\\Local\\Temp\\ipykernel_8856\\958575462.py:2: FutureWarning: `rcond` parameter will change to the default of machine precision times ``max(M, N)`` where M and N are the input matrix dimensions.\n",
      "To use the future default and silence this warning we advise to pass `rcond=None`, to keep using the old, explicitly pass `rcond=-1`.\n",
      "  coef,resid,_,_ = np.linalg.lstsq(X,y)\n"
     ]
    }
   ],
   "source": [
    "#Patsy object can be passed directly into algorithms like numpy.linalg.lstsq -> least squares regression\n",
    "coef,resid,_,_ = np.linalg.lstsq(X,y)"
   ]
  },
  {
   "cell_type": "code",
   "execution_count": 18,
   "metadata": {},
   "outputs": [
    {
     "data": {
      "text/plain": [
       "array([[ 0.31290976],\n",
       "       [-0.07910564],\n",
       "       [-0.26546384]])"
      ]
     },
     "execution_count": 18,
     "metadata": {},
     "output_type": "execute_result"
    }
   ],
   "source": [
    "coef "
   ]
  },
  {
   "cell_type": "code",
   "execution_count": 19,
   "metadata": {},
   "outputs": [],
   "source": [
    "# model metada is retained in design_info attribute. We can reattach the model columns names to the fitted coefficients to obtain a Series\n",
    "coef = pd.Series(coef.squeeze(),index= X.design_info.column_names)"
   ]
  },
  {
   "cell_type": "code",
   "execution_count": 20,
   "metadata": {},
   "outputs": [
    {
     "data": {
      "text/plain": [
       "Intercept    0.312910\n",
       "x0          -0.079106\n",
       "x1          -0.265464\n",
       "dtype: float64"
      ]
     },
     "execution_count": 20,
     "metadata": {},
     "output_type": "execute_result"
    }
   ],
   "source": [
    "coef"
   ]
  },
  {
   "cell_type": "markdown",
   "metadata": {},
   "source": [
    "### Data Transformations in Patsy Formulas\n",
    "We can mix python code into Patsy formulas. "
   ]
  },
  {
   "cell_type": "code",
   "execution_count": 21,
   "metadata": {},
   "outputs": [],
   "source": [
    "y,X = patsy.dmatrices('y ~ x0 + np.log(np.abs(x1) + 1)', data) #Patsy interprets de python function"
   ]
  },
  {
   "cell_type": "markdown",
   "metadata": {},
   "source": [
    "#Commonly used variable transformations -> \n",
    "- standarizing (mean 0 and variance 1)\n",
    "- centering (substracting the mean)"
   ]
  },
  {
   "cell_type": "code",
   "execution_count": 22,
   "metadata": {},
   "outputs": [
    {
     "data": {
      "text/html": [
       "<div>\n",
       "<style scoped>\n",
       "    .dataframe tbody tr th:only-of-type {\n",
       "        vertical-align: middle;\n",
       "    }\n",
       "\n",
       "    .dataframe tbody tr th {\n",
       "        vertical-align: top;\n",
       "    }\n",
       "\n",
       "    .dataframe thead th {\n",
       "        text-align: right;\n",
       "    }\n",
       "</style>\n",
       "<table border=\"1\" class=\"dataframe\">\n",
       "  <thead>\n",
       "    <tr style=\"text-align: right;\">\n",
       "      <th></th>\n",
       "      <th>x0</th>\n",
       "      <th>x1</th>\n",
       "      <th>y</th>\n",
       "    </tr>\n",
       "  </thead>\n",
       "  <tbody>\n",
       "    <tr>\n",
       "      <th>0</th>\n",
       "      <td>1</td>\n",
       "      <td>0.01</td>\n",
       "      <td>-1.5</td>\n",
       "    </tr>\n",
       "    <tr>\n",
       "      <th>1</th>\n",
       "      <td>2</td>\n",
       "      <td>-0.01</td>\n",
       "      <td>0.0</td>\n",
       "    </tr>\n",
       "    <tr>\n",
       "      <th>2</th>\n",
       "      <td>3</td>\n",
       "      <td>0.25</td>\n",
       "      <td>3.6</td>\n",
       "    </tr>\n",
       "    <tr>\n",
       "      <th>3</th>\n",
       "      <td>4</td>\n",
       "      <td>-4.10</td>\n",
       "      <td>1.3</td>\n",
       "    </tr>\n",
       "    <tr>\n",
       "      <th>4</th>\n",
       "      <td>5</td>\n",
       "      <td>0.00</td>\n",
       "      <td>-2.0</td>\n",
       "    </tr>\n",
       "  </tbody>\n",
       "</table>\n",
       "</div>"
      ],
      "text/plain": [
       "   x0    x1    y\n",
       "0   1  0.01 -1.5\n",
       "1   2 -0.01  0.0\n",
       "2   3  0.25  3.6\n",
       "3   4 -4.10  1.3\n",
       "4   5  0.00 -2.0"
      ]
     },
     "execution_count": 22,
     "metadata": {},
     "output_type": "execute_result"
    }
   ],
   "source": [
    "y,X = patsy.dmatrices('y ~ standardize(x0) + center(x1)',data)\n",
    "data"
   ]
  },
  {
   "cell_type": "code",
   "execution_count": 23,
   "metadata": {},
   "outputs": [
    {
     "data": {
      "text/plain": [
       "DesignMatrix with shape (5, 3)\n",
       "  Intercept  standardize(x0)  center(x1)\n",
       "          1         -1.41421        0.78\n",
       "          1         -0.70711        0.76\n",
       "          1          0.00000        1.02\n",
       "          1          0.70711       -3.33\n",
       "          1          1.41421        0.77\n",
       "  Terms:\n",
       "    'Intercept' (column 0)\n",
       "    'standardize(x0)' (column 1)\n",
       "    'center(x1)' (column 2)"
      ]
     },
     "execution_count": 23,
     "metadata": {},
     "output_type": "execute_result"
    }
   ],
   "source": [
    "X"
   ]
  },
  {
   "cell_type": "markdown",
   "metadata": {},
   "source": [
    "When applying transformations like center and standarize, you should be careful when using this information to form predictions based on new data.\n",
    "These are called stateful transformations-> Must use statistics like mean or standard deviation of the original dataset when transforming a new dataset.\n",
    "patsy.build_design_matrices function applies transformations yo new out-of-sample data, using the saved information from the original in-sample dataset"
   ]
  },
  {
   "cell_type": "code",
   "execution_count": 24,
   "metadata": {},
   "outputs": [
    {
     "data": {
      "text/html": [
       "<div>\n",
       "<style scoped>\n",
       "    .dataframe tbody tr th:only-of-type {\n",
       "        vertical-align: middle;\n",
       "    }\n",
       "\n",
       "    .dataframe tbody tr th {\n",
       "        vertical-align: top;\n",
       "    }\n",
       "\n",
       "    .dataframe thead th {\n",
       "        text-align: right;\n",
       "    }\n",
       "</style>\n",
       "<table border=\"1\" class=\"dataframe\">\n",
       "  <thead>\n",
       "    <tr style=\"text-align: right;\">\n",
       "      <th></th>\n",
       "      <th>x0</th>\n",
       "      <th>x1</th>\n",
       "      <th>y</th>\n",
       "    </tr>\n",
       "  </thead>\n",
       "  <tbody>\n",
       "    <tr>\n",
       "      <th>0</th>\n",
       "      <td>6</td>\n",
       "      <td>3.1</td>\n",
       "      <td>1</td>\n",
       "    </tr>\n",
       "    <tr>\n",
       "      <th>1</th>\n",
       "      <td>7</td>\n",
       "      <td>-0.5</td>\n",
       "      <td>2</td>\n",
       "    </tr>\n",
       "    <tr>\n",
       "      <th>2</th>\n",
       "      <td>8</td>\n",
       "      <td>0.0</td>\n",
       "      <td>3</td>\n",
       "    </tr>\n",
       "    <tr>\n",
       "      <th>3</th>\n",
       "      <td>9</td>\n",
       "      <td>2.3</td>\n",
       "      <td>4</td>\n",
       "    </tr>\n",
       "  </tbody>\n",
       "</table>\n",
       "</div>"
      ],
      "text/plain": [
       "   x0   x1  y\n",
       "0   6  3.1  1\n",
       "1   7 -0.5  2\n",
       "2   8  0.0  3\n",
       "3   9  2.3  4"
      ]
     },
     "execution_count": 24,
     "metadata": {},
     "output_type": "execute_result"
    }
   ],
   "source": [
    "new_data = pd.DataFrame({\n",
    "    'x0':np.arange(6,10),\n",
    "    'x1':[3.1,-0.5,0,2.3],\n",
    "    'y': np.arange(1,5)\n",
    "})\n",
    "new_data"
   ]
  },
  {
   "cell_type": "code",
   "execution_count": 25,
   "metadata": {},
   "outputs": [
    {
     "data": {
      "text/plain": [
       "[DesignMatrix with shape (4, 3)\n",
       "   Intercept  standardize(x0)  center(x1)\n",
       "           1          2.12132        3.87\n",
       "           1          2.82843        0.27\n",
       "           1          3.53553        0.77\n",
       "           1          4.24264        3.07\n",
       "   Terms:\n",
       "     'Intercept' (column 0)\n",
       "     'standardize(x0)' (column 1)\n",
       "     'center(x1)' (column 2)]"
      ]
     },
     "execution_count": 25,
     "metadata": {},
     "output_type": "execute_result"
    }
   ],
   "source": [
    "new_X = patsy.build_design_matrices([X.design_info],new_data)\n",
    "new_X"
   ]
  },
  {
   "cell_type": "markdown",
   "metadata": {},
   "source": [
    "### Categorical Data and Patsy\n",
    "Nonnuemeric data can be transformed for a model design matrix in different ways.\n",
    "When using nonnumeric terms in a Patsy formula, the get converted into dummy variables by default"
   ]
  },
  {
   "cell_type": "code",
   "execution_count": 26,
   "metadata": {},
   "outputs": [
    {
     "data": {
      "text/html": [
       "<div>\n",
       "<style scoped>\n",
       "    .dataframe tbody tr th:only-of-type {\n",
       "        vertical-align: middle;\n",
       "    }\n",
       "\n",
       "    .dataframe tbody tr th {\n",
       "        vertical-align: top;\n",
       "    }\n",
       "\n",
       "    .dataframe thead th {\n",
       "        text-align: right;\n",
       "    }\n",
       "</style>\n",
       "<table border=\"1\" class=\"dataframe\">\n",
       "  <thead>\n",
       "    <tr style=\"text-align: right;\">\n",
       "      <th></th>\n",
       "      <th>key1</th>\n",
       "      <th>key2</th>\n",
       "      <th>v1</th>\n",
       "      <th>v2</th>\n",
       "    </tr>\n",
       "  </thead>\n",
       "  <tbody>\n",
       "    <tr>\n",
       "      <th>0</th>\n",
       "      <td>a</td>\n",
       "      <td>0</td>\n",
       "      <td>1</td>\n",
       "      <td>-1.0</td>\n",
       "    </tr>\n",
       "    <tr>\n",
       "      <th>1</th>\n",
       "      <td>a</td>\n",
       "      <td>1</td>\n",
       "      <td>2</td>\n",
       "      <td>0.0</td>\n",
       "    </tr>\n",
       "    <tr>\n",
       "      <th>2</th>\n",
       "      <td>b</td>\n",
       "      <td>0</td>\n",
       "      <td>3</td>\n",
       "      <td>2.5</td>\n",
       "    </tr>\n",
       "    <tr>\n",
       "      <th>3</th>\n",
       "      <td>b</td>\n",
       "      <td>1</td>\n",
       "      <td>4</td>\n",
       "      <td>-0.5</td>\n",
       "    </tr>\n",
       "    <tr>\n",
       "      <th>4</th>\n",
       "      <td>a</td>\n",
       "      <td>0</td>\n",
       "      <td>5</td>\n",
       "      <td>4.0</td>\n",
       "    </tr>\n",
       "    <tr>\n",
       "      <th>5</th>\n",
       "      <td>b</td>\n",
       "      <td>1</td>\n",
       "      <td>6</td>\n",
       "      <td>-1.2</td>\n",
       "    </tr>\n",
       "    <tr>\n",
       "      <th>6</th>\n",
       "      <td>a</td>\n",
       "      <td>0</td>\n",
       "      <td>7</td>\n",
       "      <td>0.2</td>\n",
       "    </tr>\n",
       "    <tr>\n",
       "      <th>7</th>\n",
       "      <td>b</td>\n",
       "      <td>0</td>\n",
       "      <td>8</td>\n",
       "      <td>-1.7</td>\n",
       "    </tr>\n",
       "  </tbody>\n",
       "</table>\n",
       "</div>"
      ],
      "text/plain": [
       "  key1  key2  v1   v2\n",
       "0    a     0   1 -1.0\n",
       "1    a     1   2  0.0\n",
       "2    b     0   3  2.5\n",
       "3    b     1   4 -0.5\n",
       "4    a     0   5  4.0\n",
       "5    b     1   6 -1.2\n",
       "6    a     0   7  0.2\n",
       "7    b     0   8 -1.7"
      ]
     },
     "execution_count": 26,
     "metadata": {},
     "output_type": "execute_result"
    }
   ],
   "source": [
    "data = pd.DataFrame({\n",
    "        'key1':['a','a','b','b','a','b','a','b'],\n",
    "        'key2': [0,1,0,1,0,1,0,0],\n",
    "        'v1':np.arange(1,9),\n",
    "        'v2': [-1,0,2.5,-0.5,4.0,-1.2,0.2,-1.7]\n",
    "    })\n",
    "data"
   ]
  },
  {
   "cell_type": "code",
   "execution_count": 27,
   "metadata": {},
   "outputs": [
    {
     "data": {
      "text/plain": [
       "DesignMatrix with shape (8, 2)\n",
       "  Intercept  key1[T.b]\n",
       "          1          0\n",
       "          1          0\n",
       "          1          1\n",
       "          1          1\n",
       "          1          0\n",
       "          1          1\n",
       "          1          0\n",
       "          1          1\n",
       "  Terms:\n",
       "    'Intercept' (column 0)\n",
       "    'key1' (column 1)"
      ]
     },
     "execution_count": 27,
     "metadata": {},
     "output_type": "execute_result"
    }
   ],
   "source": [
    "y,X = patsy.dmatrices('v2 ~ key1', data)\n",
    "X"
   ]
  },
  {
   "cell_type": "markdown",
   "metadata": {},
   "source": [
    "### Introduction to statsmodels\n",
    "Python library for:\n",
    "- Fit many kinds of statistical models\n",
    "- Perform statistical tests\n",
    "- Data exploration and visualization\n",
    "It contains mode \"classical\" frequentist statistical methods of machine learning"
   ]
  },
  {
   "cell_type": "markdown",
   "metadata": {},
   "source": [
    "### Some models\n",
    "- Linear models, generalized linear models and robust linear models\n",
    "- Linear mixed effects models\n",
    "- Analusysi of variance (ANOVA) methods\n",
    "- Time series processes and state space models\n",
    "- Generalized method of moments"
   ]
  },
  {
   "cell_type": "markdown",
   "metadata": {},
   "source": [
    "### Estimating linear models\n",
    "Linear models in statsmodels.\n",
    "Two main interfaces:\n",
    "- Array based\n",
    "- Formula based\n",
    "  "
   ]
  },
  {
   "cell_type": "code",
   "execution_count": 28,
   "metadata": {},
   "outputs": [],
   "source": [
    "import statsmodels.api as sm\n",
    "import statsmodels.formula.api as smf"
   ]
  },
  {
   "cell_type": "code",
   "execution_count": 29,
   "metadata": {},
   "outputs": [
    {
     "data": {
      "text/plain": [
       "Generator(PCG64) at 0x14FC0DF4D60"
      ]
     },
     "execution_count": 29,
     "metadata": {},
     "output_type": "execute_result"
    }
   ],
   "source": [
    "# Generating random data for the linear model\n",
    "rng = np.random.default_rng(seed=12345)\n",
    "rng"
   ]
  },
  {
   "cell_type": "code",
   "execution_count": 30,
   "metadata": {},
   "outputs": [],
   "source": [
    "def dnorm(mean,variance,size=1):\n",
    "    if isinstance(size,int):\n",
    "        size = size,\n",
    "    return mean + np.sqrt(variance) * rng.standard_normal(*size)"
   ]
  },
  {
   "cell_type": "code",
   "execution_count": 31,
   "metadata": {},
   "outputs": [],
   "source": [
    "#dnorm -> Helper function for generating normally distibuted data with particular mean and variance\n",
    "N = 100\n",
    "X = np.c_[dnorm(0,0.4,size=N),\n",
    "          dnorm(0,0.6,size=N),\n",
    "          dnorm(0,0.2,size=N)\n",
    "          ]\n",
    "eps = dnorm(0,0.1,size=N)\n",
    "beta = [0.1,0.3,0.5]\n",
    "y = np.dot(X,beta) + eps\n"
   ]
  },
  {
   "cell_type": "code",
   "execution_count": 32,
   "metadata": {},
   "outputs": [
    {
     "data": {
      "text/plain": [
       "array([[-0.90050602, -0.18942958, -1.0278702 ],\n",
       "       [ 0.79925205, -1.54598388, -0.32739708],\n",
       "       [-0.55065483, -0.12025429,  0.32935899],\n",
       "       [-0.16391555,  0.82403985,  0.20827485],\n",
       "       [-0.04765129, -0.21314698, -0.04824364]])"
      ]
     },
     "execution_count": 32,
     "metadata": {},
     "output_type": "execute_result"
    }
   ],
   "source": [
    "X[:5]"
   ]
  },
  {
   "cell_type": "code",
   "execution_count": 33,
   "metadata": {},
   "outputs": [
    {
     "data": {
      "text/plain": [
       "array([-0.59952668, -0.58845445,  0.18563386, -0.00747657, -0.01537445])"
      ]
     },
     "execution_count": 33,
     "metadata": {},
     "output_type": "execute_result"
    }
   ],
   "source": [
    "y[:5]"
   ]
  },
  {
   "cell_type": "code",
   "execution_count": 34,
   "metadata": {},
   "outputs": [
    {
     "data": {
      "text/plain": [
       "array([[ 1.00000000e+00, -9.00506021e-01, -1.89429577e-01,\n",
       "        -1.02787020e+00],\n",
       "       [ 1.00000000e+00,  7.99252054e-01, -1.54598388e+00,\n",
       "        -3.27397080e-01],\n",
       "       [ 1.00000000e+00, -5.50654833e-01, -1.20254287e-01,\n",
       "         3.29358994e-01],\n",
       "       [ 1.00000000e+00, -1.63915546e-01,  8.24039852e-01,\n",
       "         2.08274848e-01],\n",
       "       [ 1.00000000e+00, -4.76512913e-02, -2.13146980e-01,\n",
       "        -4.82436357e-02],\n",
       "       [ 1.00000000e+00, -4.68576597e-01, -1.43558784e+00,\n",
       "        -1.52694953e-01],\n",
       "       [ 1.00000000e+00, -8.65068061e-01, -9.63148432e-02,\n",
       "         7.08625055e-01],\n",
       "       [ 1.00000000e+00,  4.10395842e-01,  6.08038650e-01,\n",
       "         1.26222105e-01],\n",
       "       [ 1.00000000e+00,  2.28353201e-01,  1.56467440e-01,\n",
       "         4.06761512e-01],\n",
       "       [ 1.00000000e+00, -1.23509905e+00, -3.31585038e-01,\n",
       "         1.76681376e-01],\n",
       "       [ 1.00000000e+00,  1.48463222e+00,  1.43167842e+00,\n",
       "        -2.99354280e-01],\n",
       "       [ 1.00000000e+00,  6.12531226e-01,  1.47169718e+00,\n",
       "         6.95582154e-01],\n",
       "       [ 1.00000000e+00, -4.80278623e-01, -7.62397041e-02,\n",
       "        -5.53712608e-01],\n",
       "       [ 1.00000000e+00,  5.70600290e-01,  6.30092128e-01,\n",
       "        -5.34945034e-01],\n",
       "       [ 1.00000000e+00, -2.95327118e-01,  3.04024846e-01,\n",
       "        -1.91921494e-01],\n",
       "       [ 1.00000000e+00, -3.83834219e-02,  6.05303068e-01,\n",
       "        -3.26313824e-01],\n",
       "       [ 1.00000000e+00,  4.98908970e-01,  1.12569928e+00,\n",
       "        -2.49307671e-01],\n",
       "       [ 1.00000000e+00, -7.94786713e-01,  6.35313379e-01,\n",
       "        -2.68307167e-01],\n",
       "       [ 1.00000000e+00,  3.64204271e-01,  6.79362678e-02,\n",
       "         4.41322542e-01],\n",
       "       [ 1.00000000e+00,  8.84792004e-01, -5.06203298e-01,\n",
       "         2.42365955e-02],\n",
       "       [ 1.00000000e+00,  8.36294724e-01, -6.28884872e-01,\n",
       "         1.57377793e-01],\n",
       "       [ 1.00000000e+00, -1.89545984e-01, -1.97817833e-02,\n",
       "        -7.10161554e-01],\n",
       "       [ 1.00000000e+00,  5.71056332e-01,  8.97125890e-01,\n",
       "        -3.78768158e-01],\n",
       "       [ 1.00000000e+00, -1.02557897e+00,  2.32782465e-01,\n",
       "         4.85034567e-01],\n",
       "       [ 1.00000000e+00, -1.00047673e-01,  4.10975014e-02,\n",
       "        -5.38367642e-01],\n",
       "       [ 1.00000000e+00,  2.84278599e-01,  1.99281665e-01,\n",
       "         5.27055039e-01],\n",
       "       [ 1.00000000e+00, -8.49767931e-01,  2.76863022e-02,\n",
       "        -4.60927782e-01],\n",
       "       [ 1.00000000e+00, -5.16637686e-02,  4.23887714e-01,\n",
       "         1.33814504e-01],\n",
       "       [ 1.00000000e+00,  1.09082131e+00, -8.69842299e-01,\n",
       "        -3.78450020e-01],\n",
       "       [ 1.00000000e+00,  1.65586941e+00, -1.53002026e+00,\n",
       "         8.79312715e-02],\n",
       "       [ 1.00000000e+00,  4.91646482e-01, -3.29319812e-01,\n",
       "        -4.02330266e-01],\n",
       "       [ 1.00000000e+00,  5.24073649e-01, -8.90068754e-01,\n",
       "        -1.14757436e-01],\n",
       "       [ 1.00000000e+00, -6.06517464e-01,  1.25108056e+00,\n",
       "         7.47986100e-01],\n",
       "       [ 1.00000000e+00, -7.64884312e-01, -1.22755648e-01,\n",
       "        -1.67825688e-01],\n",
       "       [ 1.00000000e+00, -8.93211897e-01, -1.95874851e-01,\n",
       "         9.10882317e-01],\n",
       "       [ 1.00000000e+00,  3.42504288e-01, -1.19144899e+00,\n",
       "        -2.05178645e-01],\n",
       "       [ 1.00000000e+00,  4.75568230e-01,  2.18502901e-01,\n",
       "        -5.25820177e-01],\n",
       "       [ 1.00000000e+00, -4.16636608e-01, -4.83047882e-01,\n",
       "         3.35644978e-02],\n",
       "       [ 1.00000000e+00, -7.77082292e-01,  8.68959789e-01,\n",
       "        -1.82905985e-01],\n",
       "       [ 1.00000000e+00,  1.62893835e-01,  6.51607009e-01,\n",
       "         7.85544984e-01],\n",
       "       [ 1.00000000e+00,  1.97897182e-01, -6.01006535e-01,\n",
       "         3.85016501e-01],\n",
       "       [ 1.00000000e+00, -8.27325771e-02,  3.18139587e-01,\n",
       "         5.28281785e-01],\n",
       "       [ 1.00000000e+00,  8.03207850e-01, -2.10877445e+00,\n",
       "         2.82491488e-01],\n",
       "       [ 1.00000000e+00, -5.87946207e-02, -5.21539655e-01,\n",
       "         1.10506350e+00],\n",
       "       [ 1.00000000e+00, -4.18374957e-02,  9.65319046e-01,\n",
       "         3.55222884e-01],\n",
       "       [ 1.00000000e+00, -7.00896370e-01,  6.12092507e-01,\n",
       "         2.37628231e-01],\n",
       "       [ 1.00000000e+00,  8.59866622e-02,  1.35818468e-01,\n",
       "        -3.70918329e-01],\n",
       "       [ 1.00000000e+00,  8.51966784e-01, -2.26915009e-02,\n",
       "        -4.06653037e-01],\n",
       "       [ 1.00000000e+00,  3.86708743e-02, -1.09955102e+00,\n",
       "         8.23928143e-02],\n",
       "       [ 1.00000000e+00,  4.48503313e-02, -1.05342538e+00,\n",
       "         4.46202077e-01],\n",
       "       [ 1.00000000e+00,  2.74267211e-01,  1.73053849e-01,\n",
       "         4.99519269e-01],\n",
       "       [ 1.00000000e+00,  1.75496076e-01,  1.36466848e+00,\n",
       "        -4.22169876e-01],\n",
       "       [ 1.00000000e+00,  3.35361055e-01, -1.68156404e+00,\n",
       "         2.37652303e-01],\n",
       "       [ 1.00000000e+00,  3.39452146e-01,  4.86824844e-01,\n",
       "         8.64669585e-02],\n",
       "       [ 1.00000000e+00,  3.91078888e-01,  4.65684827e-01,\n",
       "        -5.00102678e-01],\n",
       "       [ 1.00000000e+00, -5.02813188e-01,  7.36453870e-01,\n",
       "         2.28904303e-01],\n",
       "       [ 1.00000000e+00,  1.89756232e-01, -6.73315573e-01,\n",
       "        -1.01542811e+00],\n",
       "       [ 1.00000000e+00, -1.01363749e+00, -4.09767115e-01,\n",
       "         1.17690316e-01],\n",
       "       [ 1.00000000e+00,  1.68738396e-01,  3.53867483e-02,\n",
       "         1.10520499e+00],\n",
       "       [ 1.00000000e+00, -7.97920940e-01, -7.95938210e-01,\n",
       "        -4.56106528e-01],\n",
       "       [ 1.00000000e+00, -4.50756156e-02, -9.52203396e-01,\n",
       "         8.38642437e-03],\n",
       "       [ 1.00000000e+00,  2.99815374e-01, -6.84246530e-01,\n",
       "        -8.47140714e-01],\n",
       "       [ 1.00000000e+00, -2.62376556e-01, -5.49138408e-02,\n",
       "        -3.37647005e-01],\n",
       "       [ 1.00000000e+00,  6.18013410e-02,  2.89740480e-01,\n",
       "         3.38181910e-01],\n",
       "       [ 1.00000000e+00, -1.03749134e+00, -1.90502278e-02,\n",
       "        -4.66203182e-01],\n",
       "       [ 1.00000000e+00, -5.42178086e-01,  5.98458486e-02,\n",
       "        -1.53207073e-02],\n",
       "       [ 1.00000000e+00,  4.35307625e-01, -5.29756901e-01,\n",
       "        -1.58836092e-01],\n",
       "       [ 1.00000000e+00, -7.30188622e-01, -5.58358457e-01,\n",
       "        -1.69238311e-01],\n",
       "       [ 1.00000000e+00,  4.11382212e-01,  8.68030700e-01,\n",
       "         8.52606855e-02],\n",
       "       [ 1.00000000e+00, -8.78075933e-01, -4.24588660e-02,\n",
       "         2.16628608e-01],\n",
       "       [ 1.00000000e+00, -5.73879055e-01, -6.38373962e-02,\n",
       "         5.50192466e-01],\n",
       "       [ 1.00000000e+00, -6.92807796e-01,  7.25012026e-01,\n",
       "         3.72515787e-01],\n",
       "       [ 1.00000000e+00,  4.51933430e-03,  9.59366732e-01,\n",
       "        -2.52649632e-01],\n",
       "       [ 1.00000000e+00,  3.37958877e-01,  9.85903175e-01,\n",
       "         6.32671291e-01],\n",
       "       [ 1.00000000e+00, -6.74076069e-01,  3.14402760e-01,\n",
       "         5.58248331e-01],\n",
       "       [ 1.00000000e+00, -1.14773438e-01, -3.89817489e-02,\n",
       "        -6.97182785e-01],\n",
       "       [ 1.00000000e+00,  1.02581239e+00,  2.24104402e-01,\n",
       "         2.97501059e-01],\n",
       "       [ 1.00000000e+00, -2.00736292e-01,  1.38889580e-01,\n",
       "         3.69217385e-01],\n",
       "       [ 1.00000000e+00, -5.15966689e-01,  1.08248378e+00,\n",
       "         4.32150920e-01],\n",
       "       [ 1.00000000e+00,  2.44494038e-01,  2.26218472e-01,\n",
       "         2.44704233e-01],\n",
       "       [ 1.00000000e+00, -1.41441676e-01,  4.94506909e-01,\n",
       "        -5.80117992e-01],\n",
       "       [ 1.00000000e+00, -4.43788234e-01, -2.16017297e-02,\n",
       "        -1.19689712e-01],\n",
       "       [ 1.00000000e+00, -1.13570873e+00,  1.06201220e+00,\n",
       "        -9.25824518e-01],\n",
       "       [ 1.00000000e+00,  5.17554566e-01, -1.59009795e+00,\n",
       "        -7.06116966e-02],\n",
       "       [ 1.00000000e+00, -3.61152918e-01,  2.94741065e-01,\n",
       "         9.07370726e-01],\n",
       "       [ 1.00000000e+00,  4.96809671e-04,  5.85123096e-01,\n",
       "         3.04807766e-01],\n",
       "       [ 1.00000000e+00, -6.72706720e-01, -8.97855023e-01,\n",
       "         3.73961611e-01],\n",
       "       [ 1.00000000e+00,  8.23276537e-01,  1.66562305e+00,\n",
       "        -2.29638836e-01],\n",
       "       [ 1.00000000e+00,  4.72996380e-01, -1.16398811e-01,\n",
       "        -4.54251219e-01],\n",
       "       [ 1.00000000e+00,  6.20360395e-01, -1.24837314e-01,\n",
       "        -4.78639698e-01],\n",
       "       [ 1.00000000e+00, -6.98349101e-02, -8.36132546e-01,\n",
       "         5.54154251e-02],\n",
       "       [ 1.00000000e+00,  2.95937663e-01,  6.80069682e-01,\n",
       "        -3.59119620e-01],\n",
       "       [ 1.00000000e+00,  5.63269419e-01,  1.73871711e-01,\n",
       "        -2.85159375e-01],\n",
       "       [ 1.00000000e+00,  6.47007933e-01, -4.58246319e-01,\n",
       "         5.11834010e-01],\n",
       "       [ 1.00000000e+00,  1.97568603e-01,  1.75262413e-01,\n",
       "        -7.33833645e-01],\n",
       "       [ 1.00000000e+00, -3.91519609e-02,  5.31514684e-01,\n",
       "        -5.87640266e-01],\n",
       "       [ 1.00000000e+00, -2.27354892e-01,  9.41138523e-01,\n",
       "        -2.28236581e-01],\n",
       "       [ 1.00000000e+00, -4.73484029e-01,  1.67358924e-01,\n",
       "        -4.46591450e-02],\n",
       "       [ 1.00000000e+00, -6.10622476e-01, -7.47349114e-01,\n",
       "        -5.79171855e-02],\n",
       "       [ 1.00000000e+00,  2.27705911e-01, -4.31146552e-01,\n",
       "        -6.24625491e-01]])"
      ]
     },
     "execution_count": 34,
     "metadata": {},
     "output_type": "execute_result"
    }
   ],
   "source": [
    "#sm.add_constant function -> adds an intercept column to an existing matrix\n",
    "X_model = sm.add_constant(X)\n",
    "X_model"
   ]
  },
  {
   "cell_type": "code",
   "execution_count": 35,
   "metadata": {},
   "outputs": [],
   "source": [
    "# sm.OLS class can fit an ordinary least squares linear regression\n",
    "model = sm.OLS(y,X)"
   ]
  },
  {
   "cell_type": "code",
   "execution_count": 36,
   "metadata": {},
   "outputs": [],
   "source": [
    "#Models fit method returns a regression results object containing estimated model parameters\n",
    "results = model.fit()"
   ]
  },
  {
   "cell_type": "code",
   "execution_count": 37,
   "metadata": {},
   "outputs": [
    {
     "data": {
      "text/plain": [
       "array([0.06681503, 0.26803235, 0.45052319])"
      ]
     },
     "execution_count": 37,
     "metadata": {},
     "output_type": "execute_result"
    }
   ],
   "source": [
    "results.params"
   ]
  },
  {
   "cell_type": "code",
   "execution_count": 38,
   "metadata": {},
   "outputs": [
    {
     "name": "stdout",
     "output_type": "stream",
     "text": [
      "                                 OLS Regression Results                                \n",
      "=======================================================================================\n",
      "Dep. Variable:                      y   R-squared (uncentered):                   0.469\n",
      "Model:                            OLS   Adj. R-squared (uncentered):              0.452\n",
      "Method:                 Least Squares   F-statistic:                              28.51\n",
      "Date:                Fri, 08 Mar 2024   Prob (F-statistic):                    2.66e-13\n",
      "Time:                        10:06:40   Log-Likelihood:                         -25.611\n",
      "No. Observations:                 100   AIC:                                      57.22\n",
      "Df Residuals:                      97   BIC:                                      65.04\n",
      "Df Model:                           3                                                  \n",
      "Covariance Type:            nonrobust                                                  \n",
      "==============================================================================\n",
      "                 coef    std err          t      P>|t|      [0.025      0.975]\n",
      "------------------------------------------------------------------------------\n",
      "x1             0.0668      0.054      1.243      0.217      -0.040       0.174\n",
      "x2             0.2680      0.042      6.313      0.000       0.184       0.352\n",
      "x3             0.4505      0.068      6.605      0.000       0.315       0.586\n",
      "==============================================================================\n",
      "Omnibus:                        0.435   Durbin-Watson:                   1.869\n",
      "Prob(Omnibus):                  0.805   Jarque-Bera (JB):                0.301\n",
      "Skew:                           0.134   Prob(JB):                        0.860\n",
      "Kurtosis:                       2.995   Cond. No.                         1.64\n",
      "==============================================================================\n",
      "\n",
      "Notes:\n",
      "[1] R² is computed without centering (uncentered) since the model does not contain a constant.\n",
      "[2] Standard Errors assume that the covariance matrix of the errors is correctly specified.\n"
     ]
    }
   ],
   "source": [
    "print(results.summary())"
   ]
  },
  {
   "cell_type": "markdown",
   "metadata": {},
   "source": [
    "### Introduction to scikit-learn\n",
    "Is one of the most widely used and truste general-purpose Python machine learning toolkits.\n",
    "Contains broad selection of standard supervised and unsupervised machine learning methods.\n",
    "Tools included\n",
    "- Model selection\n",
    "- Evaluation\n",
    "- Data transformation\n",
    "- Data loading\n",
    "- Mode persistence\n",
    "can be used for:\n",
    "- Classification\n",
    "- Clustering\n",
    "- Prediction\n"
   ]
  }
 ],
 "metadata": {
  "kernelspec": {
   "display_name": "mlenv",
   "language": "python",
   "name": "python3"
  },
  "language_info": {
   "codemirror_mode": {
    "name": "ipython",
    "version": 3
   },
   "file_extension": ".py",
   "mimetype": "text/x-python",
   "name": "python",
   "nbconvert_exporter": "python",
   "pygments_lexer": "ipython3",
   "version": "3.11.5"
  }
 },
 "nbformat": 4,
 "nbformat_minor": 2
}
