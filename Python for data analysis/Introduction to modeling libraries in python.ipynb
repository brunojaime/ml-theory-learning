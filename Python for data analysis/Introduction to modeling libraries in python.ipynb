{
 "cells": [
  {
   "cell_type": "markdown",
   "metadata": {},
   "source": [
    "There will be a review of some features of pandas that may be helpfull for data wrangling, model fitting and scoring\n",
    "Also, there will be a short introduction to popular modeling toolkits:\n",
    "- statsmodels\n",
    "- scikitlearn"
   ]
  },
  {
   "cell_type": "markdown",
   "metadata": {},
   "source": [
    "### Interfacing between pandas and Model Code\n",
    "Common workflow for model development:\n",
    "- Use pandas for data loading and cleaning. \n",
    "  Feature engineering -> Is any data transformation or analytics that extract information from a raw dataset that may be useful in a modeling context. Important part of the model development in ml. Data aggregation used with groupby are often used in a feature engineering context"
   ]
  },
  {
   "cell_type": "markdown",
   "metadata": {},
   "source": [
    "The way to connect pandas and othe analysis libraries is usually NumPy arrays.\n",
    "We have to turn a DataFrame into a NumPy array"
   ]
  },
  {
   "cell_type": "code",
   "execution_count": 19,
   "metadata": {},
   "outputs": [],
   "source": [
    "import numpy as np\n",
    "import pandas as pd"
   ]
  },
  {
   "cell_type": "code",
   "execution_count": 20,
   "metadata": {},
   "outputs": [
    {
     "data": {
      "text/html": [
       "<div>\n",
       "<style scoped>\n",
       "    .dataframe tbody tr th:only-of-type {\n",
       "        vertical-align: middle;\n",
       "    }\n",
       "\n",
       "    .dataframe tbody tr th {\n",
       "        vertical-align: top;\n",
       "    }\n",
       "\n",
       "    .dataframe thead th {\n",
       "        text-align: right;\n",
       "    }\n",
       "</style>\n",
       "<table border=\"1\" class=\"dataframe\">\n",
       "  <thead>\n",
       "    <tr style=\"text-align: right;\">\n",
       "      <th></th>\n",
       "      <th>x0</th>\n",
       "      <th>x1</th>\n",
       "      <th>y</th>\n",
       "    </tr>\n",
       "  </thead>\n",
       "  <tbody>\n",
       "    <tr>\n",
       "      <th>0</th>\n",
       "      <td>1</td>\n",
       "      <td>0.01</td>\n",
       "      <td>-1.5</td>\n",
       "    </tr>\n",
       "    <tr>\n",
       "      <th>1</th>\n",
       "      <td>2</td>\n",
       "      <td>-0.01</td>\n",
       "      <td>0.0</td>\n",
       "    </tr>\n",
       "    <tr>\n",
       "      <th>2</th>\n",
       "      <td>3</td>\n",
       "      <td>0.25</td>\n",
       "      <td>3.6</td>\n",
       "    </tr>\n",
       "    <tr>\n",
       "      <th>3</th>\n",
       "      <td>4</td>\n",
       "      <td>-4.10</td>\n",
       "      <td>1.3</td>\n",
       "    </tr>\n",
       "    <tr>\n",
       "      <th>4</th>\n",
       "      <td>5</td>\n",
       "      <td>0.00</td>\n",
       "      <td>-2.0</td>\n",
       "    </tr>\n",
       "  </tbody>\n",
       "</table>\n",
       "</div>"
      ],
      "text/plain": [
       "   x0    x1    y\n",
       "0   1  0.01 -1.5\n",
       "1   2 -0.01  0.0\n",
       "2   3  0.25  3.6\n",
       "3   4 -4.10  1.3\n",
       "4   5  0.00 -2.0"
      ]
     },
     "execution_count": 20,
     "metadata": {},
     "output_type": "execute_result"
    }
   ],
   "source": [
    "data = pd.DataFrame({\n",
    "    \"x0\":np.arange(5)+1,\n",
    "    \"x1\":[0.01,-0.01,0.25,-4.1,0.],\n",
    "    \"y\":[-1.5,0.,3.6,1.3,-2.]})\n",
    "data"
   ]
  },
  {
   "cell_type": "code",
   "execution_count": 21,
   "metadata": {},
   "outputs": [
    {
     "data": {
      "text/plain": [
       "Index(['x0', 'x1', 'y'], dtype='object')"
      ]
     },
     "execution_count": 21,
     "metadata": {},
     "output_type": "execute_result"
    }
   ],
   "source": [
    "data.columns"
   ]
  },
  {
   "cell_type": "code",
   "execution_count": 22,
   "metadata": {},
   "outputs": [
    {
     "data": {
      "text/plain": [
       "array([[ 1.  ,  0.01, -1.5 ],\n",
       "       [ 2.  , -0.01,  0.  ],\n",
       "       [ 3.  ,  0.25,  3.6 ],\n",
       "       [ 4.  , -4.1 ,  1.3 ],\n",
       "       [ 5.  ,  0.  , -2.  ]])"
      ]
     },
     "execution_count": 22,
     "metadata": {},
     "output_type": "execute_result"
    }
   ],
   "source": [
    "#Passing the DataFrame to numpy\n",
    "np_array = data.to_numpy()\n",
    "np_array"
   ]
  },
  {
   "cell_type": "code",
   "execution_count": 23,
   "metadata": {},
   "outputs": [
    {
     "data": {
      "text/html": [
       "<div>\n",
       "<style scoped>\n",
       "    .dataframe tbody tr th:only-of-type {\n",
       "        vertical-align: middle;\n",
       "    }\n",
       "\n",
       "    .dataframe tbody tr th {\n",
       "        vertical-align: top;\n",
       "    }\n",
       "\n",
       "    .dataframe thead th {\n",
       "        text-align: right;\n",
       "    }\n",
       "</style>\n",
       "<table border=\"1\" class=\"dataframe\">\n",
       "  <thead>\n",
       "    <tr style=\"text-align: right;\">\n",
       "      <th></th>\n",
       "      <th>x0</th>\n",
       "      <th>x1</th>\n",
       "      <th>y</th>\n",
       "    </tr>\n",
       "  </thead>\n",
       "  <tbody>\n",
       "    <tr>\n",
       "      <th>0</th>\n",
       "      <td>1.0</td>\n",
       "      <td>0.01</td>\n",
       "      <td>-1.5</td>\n",
       "    </tr>\n",
       "    <tr>\n",
       "      <th>1</th>\n",
       "      <td>2.0</td>\n",
       "      <td>-0.01</td>\n",
       "      <td>0.0</td>\n",
       "    </tr>\n",
       "    <tr>\n",
       "      <th>2</th>\n",
       "      <td>3.0</td>\n",
       "      <td>0.25</td>\n",
       "      <td>3.6</td>\n",
       "    </tr>\n",
       "    <tr>\n",
       "      <th>3</th>\n",
       "      <td>4.0</td>\n",
       "      <td>-4.10</td>\n",
       "      <td>1.3</td>\n",
       "    </tr>\n",
       "    <tr>\n",
       "      <th>4</th>\n",
       "      <td>5.0</td>\n",
       "      <td>0.00</td>\n",
       "      <td>-2.0</td>\n",
       "    </tr>\n",
       "  </tbody>\n",
       "</table>\n",
       "</div>"
      ],
      "text/plain": [
       "    x0    x1    y\n",
       "0  1.0  0.01 -1.5\n",
       "1  2.0 -0.01  0.0\n",
       "2  3.0  0.25  3.6\n",
       "3  4.0 -4.10  1.3\n",
       "4  5.0  0.00 -2.0"
      ]
     },
     "execution_count": 23,
     "metadata": {},
     "output_type": "execute_result"
    }
   ],
   "source": [
    "#Going back to DataFrame\n",
    "df2 = pd.DataFrame(np_array,columns=['x0','x1','y'])\n",
    "df2\n"
   ]
  },
  {
   "cell_type": "markdown",
   "metadata": {},
   "source": [
    "to_numpy is intended to be used when your data is homogeneous (ex: all numeric types)\n",
    "If you have heterogneous data, the result will be an ndarray of Python objects"
   ]
  },
  {
   "cell_type": "code",
   "execution_count": 24,
   "metadata": {},
   "outputs": [
    {
     "data": {
      "text/html": [
       "<div>\n",
       "<style scoped>\n",
       "    .dataframe tbody tr th:only-of-type {\n",
       "        vertical-align: middle;\n",
       "    }\n",
       "\n",
       "    .dataframe tbody tr th {\n",
       "        vertical-align: top;\n",
       "    }\n",
       "\n",
       "    .dataframe thead th {\n",
       "        text-align: right;\n",
       "    }\n",
       "</style>\n",
       "<table border=\"1\" class=\"dataframe\">\n",
       "  <thead>\n",
       "    <tr style=\"text-align: right;\">\n",
       "      <th></th>\n",
       "      <th>x0</th>\n",
       "      <th>x1</th>\n",
       "      <th>y</th>\n",
       "      <th>strings</th>\n",
       "    </tr>\n",
       "  </thead>\n",
       "  <tbody>\n",
       "    <tr>\n",
       "      <th>0</th>\n",
       "      <td>1</td>\n",
       "      <td>0.01</td>\n",
       "      <td>-1.5</td>\n",
       "      <td>a</td>\n",
       "    </tr>\n",
       "    <tr>\n",
       "      <th>1</th>\n",
       "      <td>2</td>\n",
       "      <td>-0.01</td>\n",
       "      <td>0.0</td>\n",
       "      <td>b</td>\n",
       "    </tr>\n",
       "    <tr>\n",
       "      <th>2</th>\n",
       "      <td>3</td>\n",
       "      <td>0.25</td>\n",
       "      <td>3.6</td>\n",
       "      <td>c</td>\n",
       "    </tr>\n",
       "    <tr>\n",
       "      <th>3</th>\n",
       "      <td>4</td>\n",
       "      <td>-4.10</td>\n",
       "      <td>1.3</td>\n",
       "      <td>d</td>\n",
       "    </tr>\n",
       "    <tr>\n",
       "      <th>4</th>\n",
       "      <td>5</td>\n",
       "      <td>0.00</td>\n",
       "      <td>-2.0</td>\n",
       "      <td>e</td>\n",
       "    </tr>\n",
       "  </tbody>\n",
       "</table>\n",
       "</div>"
      ],
      "text/plain": [
       "   x0    x1    y strings\n",
       "0   1  0.01 -1.5       a\n",
       "1   2 -0.01  0.0       b\n",
       "2   3  0.25  3.6       c\n",
       "3   4 -4.10  1.3       d\n",
       "4   5  0.00 -2.0       e"
      ]
     },
     "execution_count": 24,
     "metadata": {},
     "output_type": "execute_result"
    }
   ],
   "source": [
    "df3 = data.copy()\n",
    "df3['strings'] =['a','b','c','d','e']\n",
    "df3"
   ]
  },
  {
   "cell_type": "code",
   "execution_count": 25,
   "metadata": {},
   "outputs": [
    {
     "data": {
      "text/plain": [
       "array([[1, 0.01, -1.5, 'a'],\n",
       "       [2, -0.01, 0.0, 'b'],\n",
       "       [3, 0.25, 3.6, 'c'],\n",
       "       [4, -4.1, 1.3, 'd'],\n",
       "       [5, 0.0, -2.0, 'e']], dtype=object)"
      ]
     },
     "execution_count": 25,
     "metadata": {},
     "output_type": "execute_result"
    }
   ],
   "source": [
    "df3.to_numpy()"
   ]
  },
  {
   "cell_type": "code",
   "execution_count": 26,
   "metadata": {},
   "outputs": [
    {
     "data": {
      "text/plain": [
       "array([[ 1.  ,  0.01],\n",
       "       [ 2.  , -0.01],\n",
       "       [ 3.  ,  0.25],\n",
       "       [ 4.  , -4.1 ],\n",
       "       [ 5.  ,  0.  ]])"
      ]
     },
     "execution_count": 26,
     "metadata": {},
     "output_type": "execute_result"
    }
   ],
   "source": [
    "# In some models we may wish to only use some columns\n",
    "# We can use loc with to_numpy\n",
    "model_cols=['x0','x1']\n",
    "data.loc[:,model_cols].to_numpy()"
   ]
  },
  {
   "cell_type": "markdown",
   "metadata": {},
   "source": [
    "Some libraries have native support with pandas and automatically convert from DataFrame to NumPy array and attach model parameter names to the columns of output tables or series."
   ]
  },
  {
   "cell_type": "code",
   "execution_count": 27,
   "metadata": {},
   "outputs": [
    {
     "data": {
      "text/html": [
       "<div>\n",
       "<style scoped>\n",
       "    .dataframe tbody tr th:only-of-type {\n",
       "        vertical-align: middle;\n",
       "    }\n",
       "\n",
       "    .dataframe tbody tr th {\n",
       "        vertical-align: top;\n",
       "    }\n",
       "\n",
       "    .dataframe thead th {\n",
       "        text-align: right;\n",
       "    }\n",
       "</style>\n",
       "<table border=\"1\" class=\"dataframe\">\n",
       "  <thead>\n",
       "    <tr style=\"text-align: right;\">\n",
       "      <th></th>\n",
       "      <th>x0</th>\n",
       "      <th>x1</th>\n",
       "      <th>y</th>\n",
       "      <th>category</th>\n",
       "    </tr>\n",
       "  </thead>\n",
       "  <tbody>\n",
       "    <tr>\n",
       "      <th>0</th>\n",
       "      <td>1</td>\n",
       "      <td>0.01</td>\n",
       "      <td>-1.5</td>\n",
       "      <td>a</td>\n",
       "    </tr>\n",
       "    <tr>\n",
       "      <th>1</th>\n",
       "      <td>2</td>\n",
       "      <td>-0.01</td>\n",
       "      <td>0.0</td>\n",
       "      <td>b</td>\n",
       "    </tr>\n",
       "    <tr>\n",
       "      <th>2</th>\n",
       "      <td>3</td>\n",
       "      <td>0.25</td>\n",
       "      <td>3.6</td>\n",
       "      <td>a</td>\n",
       "    </tr>\n",
       "    <tr>\n",
       "      <th>3</th>\n",
       "      <td>4</td>\n",
       "      <td>-4.10</td>\n",
       "      <td>1.3</td>\n",
       "      <td>a</td>\n",
       "    </tr>\n",
       "    <tr>\n",
       "      <th>4</th>\n",
       "      <td>5</td>\n",
       "      <td>0.00</td>\n",
       "      <td>-2.0</td>\n",
       "      <td>b</td>\n",
       "    </tr>\n",
       "  </tbody>\n",
       "</table>\n",
       "</div>"
      ],
      "text/plain": [
       "   x0    x1    y category\n",
       "0   1  0.01 -1.5        a\n",
       "1   2 -0.01  0.0        b\n",
       "2   3  0.25  3.6        a\n",
       "3   4 -4.10  1.3        a\n",
       "4   5  0.00 -2.0        b"
      ]
     },
     "execution_count": 27,
     "metadata": {},
     "output_type": "execute_result"
    }
   ],
   "source": [
    "# We have a non nonnumeric column \n",
    "data['category'] = pd.Categorical(['a','b','a','a','b'],categories=['a','b'])\n",
    "data"
   ]
  },
  {
   "cell_type": "code",
   "execution_count": 28,
   "metadata": {},
   "outputs": [
    {
     "data": {
      "text/html": [
       "<div>\n",
       "<style scoped>\n",
       "    .dataframe tbody tr th:only-of-type {\n",
       "        vertical-align: middle;\n",
       "    }\n",
       "\n",
       "    .dataframe tbody tr th {\n",
       "        vertical-align: top;\n",
       "    }\n",
       "\n",
       "    .dataframe thead th {\n",
       "        text-align: right;\n",
       "    }\n",
       "</style>\n",
       "<table border=\"1\" class=\"dataframe\">\n",
       "  <thead>\n",
       "    <tr style=\"text-align: right;\">\n",
       "      <th></th>\n",
       "      <th>x0</th>\n",
       "      <th>x1</th>\n",
       "      <th>y</th>\n",
       "      <th>cat_a</th>\n",
       "      <th>cat_b</th>\n",
       "    </tr>\n",
       "  </thead>\n",
       "  <tbody>\n",
       "    <tr>\n",
       "      <th>0</th>\n",
       "      <td>1</td>\n",
       "      <td>0.01</td>\n",
       "      <td>-1.5</td>\n",
       "      <td>True</td>\n",
       "      <td>False</td>\n",
       "    </tr>\n",
       "    <tr>\n",
       "      <th>1</th>\n",
       "      <td>2</td>\n",
       "      <td>-0.01</td>\n",
       "      <td>0.0</td>\n",
       "      <td>False</td>\n",
       "      <td>True</td>\n",
       "    </tr>\n",
       "    <tr>\n",
       "      <th>2</th>\n",
       "      <td>3</td>\n",
       "      <td>0.25</td>\n",
       "      <td>3.6</td>\n",
       "      <td>True</td>\n",
       "      <td>False</td>\n",
       "    </tr>\n",
       "    <tr>\n",
       "      <th>3</th>\n",
       "      <td>4</td>\n",
       "      <td>-4.10</td>\n",
       "      <td>1.3</td>\n",
       "      <td>True</td>\n",
       "      <td>False</td>\n",
       "    </tr>\n",
       "    <tr>\n",
       "      <th>4</th>\n",
       "      <td>5</td>\n",
       "      <td>0.00</td>\n",
       "      <td>-2.0</td>\n",
       "      <td>False</td>\n",
       "      <td>True</td>\n",
       "    </tr>\n",
       "  </tbody>\n",
       "</table>\n",
       "</div>"
      ],
      "text/plain": [
       "   x0    x1    y  cat_a  cat_b\n",
       "0   1  0.01 -1.5   True  False\n",
       "1   2 -0.01  0.0  False   True\n",
       "2   3  0.25  3.6   True  False\n",
       "3   4 -4.10  1.3   True  False\n",
       "4   5  0.00 -2.0  False   True"
      ]
     },
     "execution_count": 28,
     "metadata": {},
     "output_type": "execute_result"
    }
   ],
   "source": [
    "dummies = pd.get_dummies(data.category,prefix=\"cat\")\n",
    "data_with_dummies =  data.drop(\"category\",axis=1).join(dummies)\n",
    "data_with_dummies"
   ]
  },
  {
   "cell_type": "markdown",
   "metadata": {},
   "source": [
    "### Creating Model Descriptions with Patsy\n",
    "Patsy is a Python library for decribing statistical models (especially linear models).\n",
    "It uses string base formula syntax of R.\n",
    "Patsy syntax -> y ~ x0 + x1.\n",
    "patsy.dmatrices functions -> Takes formula string along with dataset"
   ]
  },
  {
   "cell_type": "code",
   "execution_count": 29,
   "metadata": {},
   "outputs": [
    {
     "data": {
      "text/html": [
       "<div>\n",
       "<style scoped>\n",
       "    .dataframe tbody tr th:only-of-type {\n",
       "        vertical-align: middle;\n",
       "    }\n",
       "\n",
       "    .dataframe tbody tr th {\n",
       "        vertical-align: top;\n",
       "    }\n",
       "\n",
       "    .dataframe thead th {\n",
       "        text-align: right;\n",
       "    }\n",
       "</style>\n",
       "<table border=\"1\" class=\"dataframe\">\n",
       "  <thead>\n",
       "    <tr style=\"text-align: right;\">\n",
       "      <th></th>\n",
       "      <th>x0</th>\n",
       "      <th>x1</th>\n",
       "      <th>y</th>\n",
       "    </tr>\n",
       "  </thead>\n",
       "  <tbody>\n",
       "    <tr>\n",
       "      <th>0</th>\n",
       "      <td>1</td>\n",
       "      <td>0.01</td>\n",
       "      <td>-1.5</td>\n",
       "    </tr>\n",
       "    <tr>\n",
       "      <th>1</th>\n",
       "      <td>2</td>\n",
       "      <td>-0.01</td>\n",
       "      <td>0.0</td>\n",
       "    </tr>\n",
       "    <tr>\n",
       "      <th>2</th>\n",
       "      <td>3</td>\n",
       "      <td>0.25</td>\n",
       "      <td>3.6</td>\n",
       "    </tr>\n",
       "    <tr>\n",
       "      <th>3</th>\n",
       "      <td>4</td>\n",
       "      <td>-4.10</td>\n",
       "      <td>1.3</td>\n",
       "    </tr>\n",
       "    <tr>\n",
       "      <th>4</th>\n",
       "      <td>5</td>\n",
       "      <td>0.00</td>\n",
       "      <td>-2.0</td>\n",
       "    </tr>\n",
       "  </tbody>\n",
       "</table>\n",
       "</div>"
      ],
      "text/plain": [
       "   x0    x1    y\n",
       "0   1  0.01 -1.5\n",
       "1   2 -0.01  0.0\n",
       "2   3  0.25  3.6\n",
       "3   4 -4.10  1.3\n",
       "4   5  0.00 -2.0"
      ]
     },
     "execution_count": 29,
     "metadata": {},
     "output_type": "execute_result"
    }
   ],
   "source": [
    "data = pd.DataFrame({\n",
    "    \"x0\":np.arange(1,6),\n",
    "    \"x1\":[0.01,-0.01,0.25,-4.10,0.00],\n",
    "    \"y\":[-1.5,0.0,3.6,1.3,-2.0]\n",
    "})\n",
    "data"
   ]
  },
  {
   "cell_type": "code",
   "execution_count": 32,
   "metadata": {},
   "outputs": [],
   "source": [
    "import patsy\n",
    "y, X = patsy.dmatrices(\"y ~ x0 + x1\",data)"
   ]
  },
  {
   "cell_type": "code",
   "execution_count": 33,
   "metadata": {},
   "outputs": [
    {
     "data": {
      "text/plain": [
       "DesignMatrix with shape (5, 1)\n",
       "     y\n",
       "  -1.5\n",
       "   0.0\n",
       "   3.6\n",
       "   1.3\n",
       "  -2.0\n",
       "  Terms:\n",
       "    'y' (column 0)"
      ]
     },
     "execution_count": 33,
     "metadata": {},
     "output_type": "execute_result"
    }
   ],
   "source": [
    "y"
   ]
  },
  {
   "cell_type": "code",
   "execution_count": 34,
   "metadata": {},
   "outputs": [
    {
     "data": {
      "text/plain": [
       "DesignMatrix with shape (5, 3)\n",
       "  Intercept  x0     x1\n",
       "          1   1   0.01\n",
       "          1   2  -0.01\n",
       "          1   3   0.25\n",
       "          1   4  -4.10\n",
       "          1   5   0.00\n",
       "  Terms:\n",
       "    'Intercept' (column 0)\n",
       "    'x0' (column 1)\n",
       "    'x1' (column 2)"
      ]
     },
     "execution_count": 34,
     "metadata": {},
     "output_type": "execute_result"
    }
   ],
   "source": [
    "X"
   ]
  },
  {
   "cell_type": "markdown",
   "metadata": {},
   "source": [
    "These Patsy DesignMatrix instances are Numpy ndarrays with metadata"
   ]
  },
  {
   "cell_type": "code",
   "execution_count": 35,
   "metadata": {},
   "outputs": [
    {
     "data": {
      "text/plain": [
       "array([[-1.5],\n",
       "       [ 0. ],\n",
       "       [ 3.6],\n",
       "       [ 1.3],\n",
       "       [-2. ]])"
      ]
     },
     "execution_count": 35,
     "metadata": {},
     "output_type": "execute_result"
    }
   ],
   "source": [
    "np.asarray(y)"
   ]
  },
  {
   "cell_type": "code",
   "execution_count": 37,
   "metadata": {},
   "outputs": [
    {
     "data": {
      "text/plain": [
       "array([[ 1.  ,  1.  ,  0.01],\n",
       "       [ 1.  ,  2.  , -0.01],\n",
       "       [ 1.  ,  3.  ,  0.25],\n",
       "       [ 1.  ,  4.  , -4.1 ],\n",
       "       [ 1.  ,  5.  ,  0.  ]])"
      ]
     },
     "execution_count": 37,
     "metadata": {},
     "output_type": "execute_result"
    }
   ],
   "source": [
    "np.asarray(X)"
   ]
  },
  {
   "cell_type": "code",
   "execution_count": 38,
   "metadata": {},
   "outputs": [
    {
     "name": "stderr",
     "output_type": "stream",
     "text": [
      "C:\\Users\\bruno\\AppData\\Local\\Temp\\ipykernel_2944\\958575462.py:2: FutureWarning: `rcond` parameter will change to the default of machine precision times ``max(M, N)`` where M and N are the input matrix dimensions.\n",
      "To use the future default and silence this warning we advise to pass `rcond=None`, to keep using the old, explicitly pass `rcond=-1`.\n",
      "  coef,resid,_,_ = np.linalg.lstsq(X,y)\n"
     ]
    }
   ],
   "source": [
    "#Patsy object can be passed directly into algorithms like numpy.linalg.lstsq -> least squares regression\n",
    "coef,resid,_,_ = np.linalg.lstsq(X,y)"
   ]
  },
  {
   "cell_type": "code",
   "execution_count": 41,
   "metadata": {},
   "outputs": [
    {
     "data": {
      "text/plain": [
       "array([[ 0.31290976],\n",
       "       [-0.07910564],\n",
       "       [-0.26546384]])"
      ]
     },
     "execution_count": 41,
     "metadata": {},
     "output_type": "execute_result"
    }
   ],
   "source": [
    "coef "
   ]
  },
  {
   "cell_type": "code",
   "execution_count": 43,
   "metadata": {},
   "outputs": [],
   "source": [
    "# model metada is retained in design_info attribute. We can reattach the model columns names to the fitted coefficients to obtain a Series\n",
    "coef = pd.Series(coef.squeeze(),index= X.design_info.column_names)"
   ]
  },
  {
   "cell_type": "code",
   "execution_count": 44,
   "metadata": {},
   "outputs": [
    {
     "data": {
      "text/plain": [
       "Intercept    0.312910\n",
       "x0          -0.079106\n",
       "x1          -0.265464\n",
       "dtype: float64"
      ]
     },
     "execution_count": 44,
     "metadata": {},
     "output_type": "execute_result"
    }
   ],
   "source": [
    "coef"
   ]
  },
  {
   "cell_type": "markdown",
   "metadata": {},
   "source": [
    "### Data Transformations in Patsy Formulas\n",
    "We can mix python code into Patsy formulas. "
   ]
  },
  {
   "cell_type": "code",
   "execution_count": 52,
   "metadata": {},
   "outputs": [],
   "source": [
    "y,X = patsy.dmatrices('y ~ x0 + np.log(np.abs(x1) + 1)', data) #Patsy interprets de python function"
   ]
  },
  {
   "cell_type": "markdown",
   "metadata": {},
   "source": [
    "#Commonly used variable transformations -> \n",
    "- standarizing (mean 0 and variance 1)\n",
    "- centering (substracting the mean)"
   ]
  },
  {
   "cell_type": "code",
   "execution_count": 53,
   "metadata": {},
   "outputs": [
    {
     "data": {
      "text/html": [
       "<div>\n",
       "<style scoped>\n",
       "    .dataframe tbody tr th:only-of-type {\n",
       "        vertical-align: middle;\n",
       "    }\n",
       "\n",
       "    .dataframe tbody tr th {\n",
       "        vertical-align: top;\n",
       "    }\n",
       "\n",
       "    .dataframe thead th {\n",
       "        text-align: right;\n",
       "    }\n",
       "</style>\n",
       "<table border=\"1\" class=\"dataframe\">\n",
       "  <thead>\n",
       "    <tr style=\"text-align: right;\">\n",
       "      <th></th>\n",
       "      <th>x0</th>\n",
       "      <th>x1</th>\n",
       "      <th>y</th>\n",
       "    </tr>\n",
       "  </thead>\n",
       "  <tbody>\n",
       "    <tr>\n",
       "      <th>0</th>\n",
       "      <td>1</td>\n",
       "      <td>0.01</td>\n",
       "      <td>-1.5</td>\n",
       "    </tr>\n",
       "    <tr>\n",
       "      <th>1</th>\n",
       "      <td>2</td>\n",
       "      <td>-0.01</td>\n",
       "      <td>0.0</td>\n",
       "    </tr>\n",
       "    <tr>\n",
       "      <th>2</th>\n",
       "      <td>3</td>\n",
       "      <td>0.25</td>\n",
       "      <td>3.6</td>\n",
       "    </tr>\n",
       "    <tr>\n",
       "      <th>3</th>\n",
       "      <td>4</td>\n",
       "      <td>-4.10</td>\n",
       "      <td>1.3</td>\n",
       "    </tr>\n",
       "    <tr>\n",
       "      <th>4</th>\n",
       "      <td>5</td>\n",
       "      <td>0.00</td>\n",
       "      <td>-2.0</td>\n",
       "    </tr>\n",
       "  </tbody>\n",
       "</table>\n",
       "</div>"
      ],
      "text/plain": [
       "   x0    x1    y\n",
       "0   1  0.01 -1.5\n",
       "1   2 -0.01  0.0\n",
       "2   3  0.25  3.6\n",
       "3   4 -4.10  1.3\n",
       "4   5  0.00 -2.0"
      ]
     },
     "execution_count": 53,
     "metadata": {},
     "output_type": "execute_result"
    }
   ],
   "source": [
    "y,X = patsy.dmatrices('y ~ standardize(x0) + center(x1)',data)\n",
    "data"
   ]
  },
  {
   "cell_type": "code",
   "execution_count": 54,
   "metadata": {},
   "outputs": [
    {
     "data": {
      "text/plain": [
       "DesignMatrix with shape (5, 3)\n",
       "  Intercept  standardize(x0)  center(x1)\n",
       "          1         -1.41421        0.78\n",
       "          1         -0.70711        0.76\n",
       "          1          0.00000        1.02\n",
       "          1          0.70711       -3.33\n",
       "          1          1.41421        0.77\n",
       "  Terms:\n",
       "    'Intercept' (column 0)\n",
       "    'standardize(x0)' (column 1)\n",
       "    'center(x1)' (column 2)"
      ]
     },
     "execution_count": 54,
     "metadata": {},
     "output_type": "execute_result"
    }
   ],
   "source": [
    "X"
   ]
  },
  {
   "cell_type": "markdown",
   "metadata": {},
   "source": [
    "When applying transformations like center and standarize, you should be careful when using this information to form predictions based on new data.\n",
    "These are called stateful transformations-> Must use statistics like mean or standard deviation of the original dataset when transforming a new dataset.\n",
    "patsy.build_design_matrices function applies transformations yo new out-of-sample data, using the saved information from the original in-sample dataset"
   ]
  },
  {
   "cell_type": "code",
   "execution_count": 55,
   "metadata": {},
   "outputs": [
    {
     "data": {
      "text/html": [
       "<div>\n",
       "<style scoped>\n",
       "    .dataframe tbody tr th:only-of-type {\n",
       "        vertical-align: middle;\n",
       "    }\n",
       "\n",
       "    .dataframe tbody tr th {\n",
       "        vertical-align: top;\n",
       "    }\n",
       "\n",
       "    .dataframe thead th {\n",
       "        text-align: right;\n",
       "    }\n",
       "</style>\n",
       "<table border=\"1\" class=\"dataframe\">\n",
       "  <thead>\n",
       "    <tr style=\"text-align: right;\">\n",
       "      <th></th>\n",
       "      <th>x0</th>\n",
       "      <th>x1</th>\n",
       "      <th>y</th>\n",
       "    </tr>\n",
       "  </thead>\n",
       "  <tbody>\n",
       "    <tr>\n",
       "      <th>0</th>\n",
       "      <td>6</td>\n",
       "      <td>3.1</td>\n",
       "      <td>1</td>\n",
       "    </tr>\n",
       "    <tr>\n",
       "      <th>1</th>\n",
       "      <td>7</td>\n",
       "      <td>-0.5</td>\n",
       "      <td>2</td>\n",
       "    </tr>\n",
       "    <tr>\n",
       "      <th>2</th>\n",
       "      <td>8</td>\n",
       "      <td>0.0</td>\n",
       "      <td>3</td>\n",
       "    </tr>\n",
       "    <tr>\n",
       "      <th>3</th>\n",
       "      <td>9</td>\n",
       "      <td>2.3</td>\n",
       "      <td>4</td>\n",
       "    </tr>\n",
       "  </tbody>\n",
       "</table>\n",
       "</div>"
      ],
      "text/plain": [
       "   x0   x1  y\n",
       "0   6  3.1  1\n",
       "1   7 -0.5  2\n",
       "2   8  0.0  3\n",
       "3   9  2.3  4"
      ]
     },
     "execution_count": 55,
     "metadata": {},
     "output_type": "execute_result"
    }
   ],
   "source": [
    "new_data = pd.DataFrame({\n",
    "    'x0':np.arange(6,10),\n",
    "    'x1':[3.1,-0.5,0,2.3],\n",
    "    'y': np.arange(1,5)\n",
    "})\n",
    "new_data"
   ]
  },
  {
   "cell_type": "code",
   "execution_count": 57,
   "metadata": {},
   "outputs": [
    {
     "data": {
      "text/plain": [
       "[DesignMatrix with shape (4, 3)\n",
       "   Intercept  standardize(x0)  center(x1)\n",
       "           1          2.12132        3.87\n",
       "           1          2.82843        0.27\n",
       "           1          3.53553        0.77\n",
       "           1          4.24264        3.07\n",
       "   Terms:\n",
       "     'Intercept' (column 0)\n",
       "     'standardize(x0)' (column 1)\n",
       "     'center(x1)' (column 2)]"
      ]
     },
     "execution_count": 57,
     "metadata": {},
     "output_type": "execute_result"
    }
   ],
   "source": [
    "new_X = patsy.build_design_matrices([X.design_info],new_data)\n",
    "new_X"
   ]
  },
  {
   "cell_type": "markdown",
   "metadata": {},
   "source": [
    "### Categorical Data and Patsy\n",
    "Nonnuemeric data can be transformed for a model design matrix in different ways.\n",
    "When using nonnumeric terms in a Patsy formula, the get converted into dummy variables by default"
   ]
  },
  {
   "cell_type": "code",
   "execution_count": 59,
   "metadata": {},
   "outputs": [
    {
     "data": {
      "text/html": [
       "<div>\n",
       "<style scoped>\n",
       "    .dataframe tbody tr th:only-of-type {\n",
       "        vertical-align: middle;\n",
       "    }\n",
       "\n",
       "    .dataframe tbody tr th {\n",
       "        vertical-align: top;\n",
       "    }\n",
       "\n",
       "    .dataframe thead th {\n",
       "        text-align: right;\n",
       "    }\n",
       "</style>\n",
       "<table border=\"1\" class=\"dataframe\">\n",
       "  <thead>\n",
       "    <tr style=\"text-align: right;\">\n",
       "      <th></th>\n",
       "      <th>key1</th>\n",
       "      <th>key2</th>\n",
       "      <th>v1</th>\n",
       "      <th>v2</th>\n",
       "    </tr>\n",
       "  </thead>\n",
       "  <tbody>\n",
       "    <tr>\n",
       "      <th>0</th>\n",
       "      <td>a</td>\n",
       "      <td>0</td>\n",
       "      <td>1</td>\n",
       "      <td>-1.0</td>\n",
       "    </tr>\n",
       "    <tr>\n",
       "      <th>1</th>\n",
       "      <td>a</td>\n",
       "      <td>1</td>\n",
       "      <td>2</td>\n",
       "      <td>0.0</td>\n",
       "    </tr>\n",
       "    <tr>\n",
       "      <th>2</th>\n",
       "      <td>b</td>\n",
       "      <td>0</td>\n",
       "      <td>3</td>\n",
       "      <td>2.5</td>\n",
       "    </tr>\n",
       "    <tr>\n",
       "      <th>3</th>\n",
       "      <td>b</td>\n",
       "      <td>1</td>\n",
       "      <td>4</td>\n",
       "      <td>-0.5</td>\n",
       "    </tr>\n",
       "    <tr>\n",
       "      <th>4</th>\n",
       "      <td>a</td>\n",
       "      <td>0</td>\n",
       "      <td>5</td>\n",
       "      <td>4.0</td>\n",
       "    </tr>\n",
       "    <tr>\n",
       "      <th>5</th>\n",
       "      <td>b</td>\n",
       "      <td>1</td>\n",
       "      <td>6</td>\n",
       "      <td>-1.2</td>\n",
       "    </tr>\n",
       "    <tr>\n",
       "      <th>6</th>\n",
       "      <td>a</td>\n",
       "      <td>0</td>\n",
       "      <td>7</td>\n",
       "      <td>0.2</td>\n",
       "    </tr>\n",
       "    <tr>\n",
       "      <th>7</th>\n",
       "      <td>b</td>\n",
       "      <td>0</td>\n",
       "      <td>8</td>\n",
       "      <td>-1.7</td>\n",
       "    </tr>\n",
       "  </tbody>\n",
       "</table>\n",
       "</div>"
      ],
      "text/plain": [
       "  key1  key2  v1   v2\n",
       "0    a     0   1 -1.0\n",
       "1    a     1   2  0.0\n",
       "2    b     0   3  2.5\n",
       "3    b     1   4 -0.5\n",
       "4    a     0   5  4.0\n",
       "5    b     1   6 -1.2\n",
       "6    a     0   7  0.2\n",
       "7    b     0   8 -1.7"
      ]
     },
     "execution_count": 59,
     "metadata": {},
     "output_type": "execute_result"
    }
   ],
   "source": [
    "data = pd.DataFrame({\n",
    "        'key1':['a','a','b','b','a','b','a','b'],\n",
    "        'key2': [0,1,0,1,0,1,0,0],\n",
    "        'v1':np.arange(1,9),\n",
    "        'v2': [-1,0,2.5,-0.5,4.0,-1.2,0.2,-1.7]\n",
    "    })\n",
    "data"
   ]
  },
  {
   "cell_type": "code",
   "execution_count": 61,
   "metadata": {},
   "outputs": [
    {
     "data": {
      "text/plain": [
       "DesignMatrix with shape (8, 2)\n",
       "  Intercept  key1[T.b]\n",
       "          1          0\n",
       "          1          0\n",
       "          1          1\n",
       "          1          1\n",
       "          1          0\n",
       "          1          1\n",
       "          1          0\n",
       "          1          1\n",
       "  Terms:\n",
       "    'Intercept' (column 0)\n",
       "    'key1' (column 1)"
      ]
     },
     "execution_count": 61,
     "metadata": {},
     "output_type": "execute_result"
    }
   ],
   "source": [
    "y,X = patsy.dmatrices('v2 ~ key1', data)\n",
    "X"
   ]
  },
  {
   "cell_type": "markdown",
   "metadata": {},
   "source": [
    "### Introduction to statsmodels\n",
    "Python library for:\n",
    "- Fit many kinds of statistical models\n",
    "- Perform statistical tests\n",
    "- Data exploration and visualization\n",
    "It contains mode \"classical\" frequentist statistical methods of machine learning"
   ]
  },
  {
   "cell_type": "markdown",
   "metadata": {},
   "source": [
    "### Some models\n",
    "- Linear models, generalized linear models and robust linear models\n",
    "- Linear mixed effects models\n",
    "- Analusysi of variance (ANOVA) methods\n",
    "- Time series processes and state space models\n",
    "- Generalized method of moments"
   ]
  },
  {
   "cell_type": "markdown",
   "metadata": {},
   "source": [
    "### Estimating linear models\n",
    "Linear models in statsmodels.\n",
    "Two main interfaces:\n",
    "- Array based\n",
    "- Formula based\n",
    "  "
   ]
  },
  {
   "cell_type": "code",
   "execution_count": 63,
   "metadata": {},
   "outputs": [],
   "source": [
    "import statsmodels.api as sm\n",
    "import statsmodels.formula.api as smf"
   ]
  },
  {
   "cell_type": "code",
   "execution_count": 64,
   "metadata": {},
   "outputs": [
    {
     "data": {
      "text/plain": [
       "Generator(PCG64) at 0x2038D9BAB20"
      ]
     },
     "execution_count": 64,
     "metadata": {},
     "output_type": "execute_result"
    }
   ],
   "source": [
    "# Generating random data for the linear model\n",
    "rng = np.random.default_rng(seed=12345)\n",
    "rng"
   ]
  },
  {
   "cell_type": "code",
   "execution_count": 65,
   "metadata": {},
   "outputs": [],
   "source": [
    "def dnorm(mean,variance,size=1):\n",
    "    if isinstance(size,int):\n",
    "        size = size,\n",
    "    return mean + np.sqrt(variance) * rng.standard_normal(*size)"
   ]
  },
  {
   "cell_type": "code",
   "execution_count": 87,
   "metadata": {},
   "outputs": [],
   "source": [
    "#dnorm -> Helper function for generating normally distibuted data with particular mean and variance\n",
    "N = 100\n",
    "X = np.c_[dnorm(0,0.4,size=N),\n",
    "          dnorm(0,0.6,size=N),\n",
    "          dnorm(0,0.2,size=N)\n",
    "          ]\n",
    "eps = dnorm(0,0.1,size=N)\n",
    "beta = [0.1,0.3,0.5]\n",
    "y = np.dot(X,beta) + eps\n"
   ]
  },
  {
   "cell_type": "code",
   "execution_count": 89,
   "metadata": {},
   "outputs": [
    {
     "data": {
      "text/plain": [
       "array([[ 0.57442228,  0.11281981,  0.04436047],\n",
       "       [-1.20687418,  0.53490757, -0.05271562],\n",
       "       [ 0.12948879,  0.68119995,  0.83801711],\n",
       "       [-0.20801298, -0.51638154, -0.16675323],\n",
       "       [ 0.58914102,  0.51800859,  0.46263005]])"
      ]
     },
     "execution_count": 89,
     "metadata": {},
     "output_type": "execute_result"
    }
   ],
   "source": [
    "X[:5]"
   ]
  },
  {
   "cell_type": "code",
   "execution_count": 90,
   "metadata": {},
   "outputs": [
    {
     "data": {
      "text/plain": [
       "array([ 0.01983959,  0.19390324,  0.65222324, -0.29719418,  0.20177841])"
      ]
     },
     "execution_count": 90,
     "metadata": {},
     "output_type": "execute_result"
    }
   ],
   "source": [
    "y[:5]"
   ]
  },
  {
   "cell_type": "code",
   "execution_count": 92,
   "metadata": {},
   "outputs": [
    {
     "data": {
      "text/plain": [
       "array([[ 1.00000000e+00,  5.74422282e-01,  1.12819806e-01,\n",
       "         4.43604694e-02],\n",
       "       [ 1.00000000e+00, -1.20687418e+00,  5.34907574e-01,\n",
       "        -5.27156181e-02],\n",
       "       [ 1.00000000e+00,  1.29488789e-01,  6.81199951e-01,\n",
       "         8.38017107e-01],\n",
       "       [ 1.00000000e+00, -2.08012982e-01, -5.16381540e-01,\n",
       "        -1.66753234e-01],\n",
       "       [ 1.00000000e+00,  5.89141025e-01,  5.18008586e-01,\n",
       "         4.62630052e-01],\n",
       "       [ 1.00000000e+00,  1.17990194e-01, -4.82207811e-01,\n",
       "         1.99868394e-01],\n",
       "       [ 1.00000000e+00,  1.39913103e+00, -8.94998736e-01,\n",
       "         9.32921043e-01],\n",
       "       [ 1.00000000e+00,  1.81483453e+00, -7.53280980e-01,\n",
       "        -8.67628955e-02],\n",
       "       [ 1.00000000e+00, -3.68031507e-01, -1.50996680e+00,\n",
       "         3.36629558e-01],\n",
       "       [ 1.00000000e+00,  4.10664766e-01,  1.75309163e-02,\n",
       "         2.73096094e-01],\n",
       "       [ 1.00000000e+00, -6.18177278e-01, -1.43369321e+00,\n",
       "        -1.43268135e+00],\n",
       "       [ 1.00000000e+00, -6.31127485e-01,  1.35793340e-01,\n",
       "         2.00187786e-01],\n",
       "       [ 1.00000000e+00, -5.99041252e-02,  2.02372213e+00,\n",
       "         4.87207510e-01],\n",
       "       [ 1.00000000e+00,  5.37197366e-01, -7.32500856e-01,\n",
       "         7.09960989e-01],\n",
       "       [ 1.00000000e+00,  3.91634980e-01, -1.63369331e+00,\n",
       "        -4.56573894e-01],\n",
       "       [ 1.00000000e+00, -1.33095071e-01,  2.68600706e-01,\n",
       "        -6.61681338e-02],\n",
       "       [ 1.00000000e+00,  6.87447700e-01, -8.24428620e-01,\n",
       "         5.77581080e-01],\n",
       "       [ 1.00000000e+00, -7.56007463e-01, -4.89513607e-02,\n",
       "        -4.79699531e-01],\n",
       "       [ 1.00000000e+00, -5.83217884e-01, -2.08332333e-02,\n",
       "        -3.35942232e-01],\n",
       "       [ 1.00000000e+00, -6.15555329e-02,  1.60002106e-01,\n",
       "         2.94092480e-01],\n",
       "       [ 1.00000000e+00, -1.15637164e+00,  1.75537877e+00,\n",
       "         3.38030454e-01],\n",
       "       [ 1.00000000e+00,  8.33828477e-01,  2.30630924e-01,\n",
       "         6.33470915e-01],\n",
       "       [ 1.00000000e+00, -9.57930057e-02,  1.93990250e-01,\n",
       "         5.37854989e-01],\n",
       "       [ 1.00000000e+00, -2.19201878e-01, -7.99121314e-02,\n",
       "         1.26549158e-01],\n",
       "       [ 1.00000000e+00,  2.66908046e-01, -5.67686803e-01,\n",
       "        -4.39422786e-01],\n",
       "       [ 1.00000000e+00, -8.51700722e-01, -4.85400734e-01,\n",
       "        -2.59174948e-01],\n",
       "       [ 1.00000000e+00, -7.81331571e-02, -8.15653991e-01,\n",
       "         3.27256081e-02],\n",
       "       [ 1.00000000e+00, -1.07533132e+00,  6.70357226e-01,\n",
       "         2.03986879e-01],\n",
       "       [ 1.00000000e+00, -1.07618380e-01, -1.14784611e-01,\n",
       "         5.87581661e-02],\n",
       "       [ 1.00000000e+00,  7.40910307e-02,  5.24018163e-01,\n",
       "         3.96720389e-01],\n",
       "       [ 1.00000000e+00,  1.00198207e+00,  2.64212762e-01,\n",
       "        -3.02710835e-01],\n",
       "       [ 1.00000000e+00,  4.62969612e-03,  1.74009815e+00,\n",
       "        -1.55331765e-01],\n",
       "       [ 1.00000000e+00,  8.51724634e-01, -5.50677555e-02,\n",
       "        -5.45638594e-01],\n",
       "       [ 1.00000000e+00, -6.88862435e-03,  4.97382994e-01,\n",
       "         9.45798520e-01],\n",
       "       [ 1.00000000e+00, -1.01847989e+00, -4.46825752e-01,\n",
       "        -3.15732801e-02],\n",
       "       [ 1.00000000e+00,  4.76588023e-01,  9.19290596e-01,\n",
       "         4.83436056e-01],\n",
       "       [ 1.00000000e+00,  4.64372516e-02, -1.22201614e-01,\n",
       "         6.14743629e-01],\n",
       "       [ 1.00000000e+00, -3.64024750e-01,  6.26016014e-02,\n",
       "         2.05639383e-01],\n",
       "       [ 1.00000000e+00,  5.86064259e-01, -1.02219176e+00,\n",
       "        -3.73564253e-02],\n",
       "       [ 1.00000000e+00, -6.64638198e-01,  4.69737815e-01,\n",
       "        -1.79286569e-01],\n",
       "       [ 1.00000000e+00, -2.42800710e-01,  1.32998280e+00,\n",
       "        -7.06881443e-02],\n",
       "       [ 1.00000000e+00,  4.44546452e-01,  1.09263966e+00,\n",
       "        -7.33575555e-01],\n",
       "       [ 1.00000000e+00,  5.32188358e-01, -7.92835492e-01,\n",
       "        -1.94919992e-01],\n",
       "       [ 1.00000000e+00, -4.14523344e-01,  7.36349015e-01,\n",
       "         3.91681055e-01],\n",
       "       [ 1.00000000e+00,  1.88183084e-01, -4.95962080e-01,\n",
       "         1.78571820e-01],\n",
       "       [ 1.00000000e+00,  4.81839260e-02, -1.22300635e+00,\n",
       "         4.23009989e-01],\n",
       "       [ 1.00000000e+00,  3.89522128e-01, -9.13368004e-01,\n",
       "         4.08926170e-01],\n",
       "       [ 1.00000000e+00, -1.47608906e-01,  1.02465404e+00,\n",
       "         3.68221381e-01],\n",
       "       [ 1.00000000e+00, -1.33731430e+00, -1.88254127e-01,\n",
       "         9.97836038e-02],\n",
       "       [ 1.00000000e+00, -2.36043401e-01, -8.86711227e-01,\n",
       "         1.34653535e-01],\n",
       "       [ 1.00000000e+00,  9.50130138e-01,  3.28381627e-01,\n",
       "         4.64748835e-01],\n",
       "       [ 1.00000000e+00, -5.32317110e-01,  3.09874355e-01,\n",
       "        -1.16188347e-01],\n",
       "       [ 1.00000000e+00, -1.31375733e-01, -1.83941823e-01,\n",
       "        -5.62619249e-01],\n",
       "       [ 1.00000000e+00,  5.17924675e-01,  4.35583350e-01,\n",
       "         4.23987380e-01],\n",
       "       [ 1.00000000e+00, -1.47644853e-01, -2.34290406e-01,\n",
       "         6.23116570e-02],\n",
       "       [ 1.00000000e+00, -6.86499168e-01,  1.01179913e+00,\n",
       "         5.32338102e-01],\n",
       "       [ 1.00000000e+00, -2.14664686e-02,  6.52758871e-01,\n",
       "        -2.49275078e-01],\n",
       "       [ 1.00000000e+00, -1.27641992e-01,  4.68360518e-03,\n",
       "        -7.02193101e-01],\n",
       "       [ 1.00000000e+00, -5.51672477e-01,  3.29366594e-01,\n",
       "        -3.42777654e-02],\n",
       "       [ 1.00000000e+00, -1.02974766e-01,  7.48800963e-01,\n",
       "        -2.46366220e-01],\n",
       "       [ 1.00000000e+00, -8.78084133e-01, -3.15153723e-02,\n",
       "        -3.93297987e-01],\n",
       "       [ 1.00000000e+00, -9.91097330e-01,  4.53454833e-01,\n",
       "         7.35740530e-01],\n",
       "       [ 1.00000000e+00, -7.15357198e-01, -4.80867532e-02,\n",
       "         1.67576455e-01],\n",
       "       [ 1.00000000e+00, -1.21307594e-01, -2.08589730e-01,\n",
       "        -4.89704800e-01],\n",
       "       [ 1.00000000e+00, -9.41663288e-04, -1.44002003e+00,\n",
       "        -6.80861957e-01],\n",
       "       [ 1.00000000e+00, -3.82788330e-01, -9.32034387e-01,\n",
       "        -6.68171524e-03],\n",
       "       [ 1.00000000e+00,  6.83302749e-01, -7.55767512e-01,\n",
       "         3.03875585e-01],\n",
       "       [ 1.00000000e+00,  3.75328170e-01,  6.50048871e-02,\n",
       "         1.66322652e-01],\n",
       "       [ 1.00000000e+00,  3.07194169e-02,  2.05458430e+00,\n",
       "         5.65829890e-01],\n",
       "       [ 1.00000000e+00,  7.16028829e-01, -7.16222903e-01,\n",
       "         1.86710914e-01],\n",
       "       [ 1.00000000e+00,  9.39201914e-01, -3.31961758e-01,\n",
       "         2.55083539e-01],\n",
       "       [ 1.00000000e+00,  4.48649149e-01, -9.89849502e-01,\n",
       "        -8.15976623e-01],\n",
       "       [ 1.00000000e+00, -3.50965168e-01, -2.97830226e-01,\n",
       "         6.19013082e-01],\n",
       "       [ 1.00000000e+00,  5.40371482e-01, -1.75603909e-01,\n",
       "        -2.05474769e-01],\n",
       "       [ 1.00000000e+00,  7.53312081e-01,  5.35001997e-01,\n",
       "         4.61106977e-01],\n",
       "       [ 1.00000000e+00,  2.71675734e-01, -1.07875091e+00,\n",
       "        -6.56464174e-01],\n",
       "       [ 1.00000000e+00, -6.07692282e-02,  3.84687623e-01,\n",
       "        -3.64410287e-01],\n",
       "       [ 1.00000000e+00,  1.83342885e-01,  1.86506219e-01,\n",
       "         5.74667233e-01],\n",
       "       [ 1.00000000e+00,  2.23198063e-01, -2.38223443e-01,\n",
       "        -5.14228354e-01],\n",
       "       [ 1.00000000e+00, -1.14308177e+00, -9.71307599e-01,\n",
       "         1.19681453e-01],\n",
       "       [ 1.00000000e+00,  1.00791891e+00, -8.28503526e-01,\n",
       "        -1.31954363e-01],\n",
       "       [ 1.00000000e+00,  4.30641084e-02, -1.67013929e-01,\n",
       "         8.27827158e-01],\n",
       "       [ 1.00000000e+00,  1.26507832e+00,  4.33341387e-01,\n",
       "         2.18004091e-01],\n",
       "       [ 1.00000000e+00,  5.68935134e-02, -9.08617785e-02,\n",
       "         6.28131476e-01],\n",
       "       [ 1.00000000e+00, -4.93814428e-01, -5.98992239e-01,\n",
       "         3.11728590e-02],\n",
       "       [ 1.00000000e+00,  5.35261779e-01,  2.08799140e-01,\n",
       "        -7.18594159e-01],\n",
       "       [ 1.00000000e+00,  6.97031862e-02, -8.20447994e-01,\n",
       "         9.62392871e-01],\n",
       "       [ 1.00000000e+00,  5.74453499e-01,  6.03801079e-01,\n",
       "        -2.11334856e-01],\n",
       "       [ 1.00000000e+00, -2.59214661e-01,  2.27389690e+00,\n",
       "         6.92388222e-02],\n",
       "       [ 1.00000000e+00, -2.72290146e-01, -4.54743580e-01,\n",
       "         2.91809617e-02],\n",
       "       [ 1.00000000e+00, -4.15453999e-01,  8.02428046e-01,\n",
       "        -6.63940234e-01],\n",
       "       [ 1.00000000e+00, -4.19276292e-01, -7.57707300e-01,\n",
       "         3.66445458e-01],\n",
       "       [ 1.00000000e+00,  2.78052118e-01,  6.70098814e-02,\n",
       "        -1.28360122e-01],\n",
       "       [ 1.00000000e+00, -7.86878011e-01,  4.16150597e-01,\n",
       "        -7.50228325e-01],\n",
       "       [ 1.00000000e+00,  1.23669572e-01,  9.42582182e-01,\n",
       "        -6.28222720e-01],\n",
       "       [ 1.00000000e+00,  6.96195410e-01,  2.87699766e-02,\n",
       "        -9.85134522e-01],\n",
       "       [ 1.00000000e+00, -5.95980211e-01,  1.05834031e+00,\n",
       "        -3.16231643e-01],\n",
       "       [ 1.00000000e+00, -1.35075345e-01, -9.79603055e-01,\n",
       "        -5.45219275e-02],\n",
       "       [ 1.00000000e+00, -4.85222192e-01, -1.58071495e-01,\n",
       "        -3.99571739e-01],\n",
       "       [ 1.00000000e+00, -2.39835517e-01,  2.88924485e-03,\n",
       "         1.23081997e-02]])"
      ]
     },
     "execution_count": 92,
     "metadata": {},
     "output_type": "execute_result"
    }
   ],
   "source": [
    "#sm.add_constant function -> adds an intercept column to an existing matrix\n",
    "X_model = sm.add_constant(X)\n",
    "X_model"
   ]
  },
  {
   "cell_type": "code",
   "execution_count": 95,
   "metadata": {},
   "outputs": [],
   "source": [
    "# sm.OLS class can fit an ordinary least squares linear regression\n",
    "model = sm.OLS(y,X)"
   ]
  },
  {
   "cell_type": "code",
   "execution_count": 98,
   "metadata": {},
   "outputs": [],
   "source": [
    "#Models fit method returns a regression results object containing estimated model parameters\n",
    "results = model.fit()"
   ]
  },
  {
   "cell_type": "code",
   "execution_count": 99,
   "metadata": {},
   "outputs": [
    {
     "data": {
      "text/plain": [
       "array([0.07734696, 0.31137941, 0.47987929])"
      ]
     },
     "execution_count": 99,
     "metadata": {},
     "output_type": "execute_result"
    }
   ],
   "source": [
    "results.params"
   ]
  },
  {
   "cell_type": "code",
   "execution_count": 102,
   "metadata": {},
   "outputs": [
    {
     "name": "stdout",
     "output_type": "stream",
     "text": [
      "                                 OLS Regression Results                                \n",
      "=======================================================================================\n",
      "Dep. Variable:                      y   R-squared (uncentered):                   0.597\n",
      "Model:                            OLS   Adj. R-squared (uncentered):              0.585\n",
      "Method:                 Least Squares   F-statistic:                              47.92\n",
      "Date:                Thu, 07 Mar 2024   Prob (F-statistic):                    4.38e-19\n",
      "Time:                        16:15:26   Log-Likelihood:                         -18.104\n",
      "No. Observations:                 100   AIC:                                      42.21\n",
      "Df Residuals:                      97   BIC:                                      50.02\n",
      "Df Model:                           3                                                  \n",
      "Covariance Type:            nonrobust                                                  \n",
      "==============================================================================\n",
      "                 coef    std err          t      P>|t|      [0.025      0.975]\n",
      "------------------------------------------------------------------------------\n",
      "x1             0.0773      0.050      1.553      0.124      -0.022       0.176\n",
      "x2             0.3114      0.038      8.121      0.000       0.235       0.387\n",
      "x3             0.4799      0.064      7.519      0.000       0.353       0.607\n",
      "==============================================================================\n",
      "Omnibus:                        0.559   Durbin-Watson:                   1.776\n",
      "Prob(Omnibus):                  0.756   Jarque-Bera (JB):                0.515\n",
      "Skew:                          -0.171   Prob(JB):                        0.773\n",
      "Kurtosis:                       2.915   Cond. No.                         1.77\n",
      "==============================================================================\n",
      "\n",
      "Notes:\n",
      "[1] R² is computed without centering (uncentered) since the model does not contain a constant.\n",
      "[2] Standard Errors assume that the covariance matrix of the errors is correctly specified.\n"
     ]
    }
   ],
   "source": [
    "print(results.summary())"
   ]
  },
  {
   "cell_type": "code",
   "execution_count": null,
   "metadata": {},
   "outputs": [],
   "source": []
  }
 ],
 "metadata": {
  "kernelspec": {
   "display_name": "mlenv",
   "language": "python",
   "name": "python3"
  },
  "language_info": {
   "codemirror_mode": {
    "name": "ipython",
    "version": 3
   },
   "file_extension": ".py",
   "mimetype": "text/x-python",
   "name": "python",
   "nbconvert_exporter": "python",
   "pygments_lexer": "ipython3",
   "version": "3.11.5"
  }
 },
 "nbformat": 4,
 "nbformat_minor": 2
}
