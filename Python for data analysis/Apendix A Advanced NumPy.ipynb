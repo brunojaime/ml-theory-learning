{
 "cells": [
  {
   "cell_type": "markdown",
   "metadata": {},
   "source": [
    "### It will be include more advanced array manipulations and algorithms"
   ]
  },
  {
   "cell_type": "code",
   "execution_count": 1,
   "metadata": {},
   "outputs": [],
   "source": [
    "import numpy as np"
   ]
  },
  {
   "cell_type": "markdown",
   "metadata": {},
   "source": [
    "### A.1 ndarray Object Internals\n",
    "Numpy ndarray -> Interpret a block of homogenously typed data as multidimensional array object.\n",
    "dtype-> Determines how the dats is being interpreted (boolean,float,integer,string,etc)\n",
    "ndarray internally consists on:\n",
    "- pointer to data\n",
    "- data type describing fixed-size value\n",
    "- tuple indicating the arrays shape\n",
    "- tuple of strides -> integer indicating the number of bytes to 'step' from one data to the next"
   ]
  },
  {
   "cell_type": "code",
   "execution_count": 7,
   "metadata": {},
   "outputs": [
    {
     "data": {
      "text/plain": [
       "(10, 5)"
      ]
     },
     "execution_count": 7,
     "metadata": {},
     "output_type": "execute_result"
    }
   ],
   "source": [
    "np.ones((10,5)).shape"
   ]
  },
  {
   "cell_type": "code",
   "execution_count": 10,
   "metadata": {},
   "outputs": [
    {
     "data": {
      "text/plain": [
       "array([[[1., 1., 1., 1., 1.],\n",
       "        [1., 1., 1., 1., 1.],\n",
       "        [1., 1., 1., 1., 1.],\n",
       "        [1., 1., 1., 1., 1.]],\n",
       "\n",
       "       [[1., 1., 1., 1., 1.],\n",
       "        [1., 1., 1., 1., 1.],\n",
       "        [1., 1., 1., 1., 1.],\n",
       "        [1., 1., 1., 1., 1.]],\n",
       "\n",
       "       [[1., 1., 1., 1., 1.],\n",
       "        [1., 1., 1., 1., 1.],\n",
       "        [1., 1., 1., 1., 1.],\n",
       "        [1., 1., 1., 1., 1.]]])"
      ]
     },
     "execution_count": 10,
     "metadata": {},
     "output_type": "execute_result"
    }
   ],
   "source": [
    "o = np.ones((3,4,5))\n",
    "o"
   ]
  },
  {
   "cell_type": "markdown",
   "metadata": {},
   "source": [
    "### NumPy Data Type Hierarchy\n",
    "Checking if an array contains integers, floating-point number, string ot Python objects.\n"
   ]
  },
  {
   "cell_type": "code",
   "execution_count": 17,
   "metadata": {},
   "outputs": [
    {
     "name": "stdout",
     "output_type": "stream",
     "text": [
      "Ints is float? False\n",
      "Ints is int? True\n"
     ]
    }
   ],
   "source": [
    "ints = np.ones(10,dtype = np.uint16)\n",
    "floats = np.ones(10,dtype=np.float32)\n",
    "\n",
    "print(\"Ints is float?\" ,np.issubdtype(ints.dtype,np.floating))\n",
    "print(\"Ints is int?\",np.issubdtype(ints.dtype,np.integer))"
   ]
  },
  {
   "cell_type": "code",
   "execution_count": 25,
   "metadata": {},
   "outputs": [
    {
     "data": {
      "text/plain": [
       "[numpy.float64,\n",
       " numpy.floating,\n",
       " numpy.inexact,\n",
       " numpy.number,\n",
       " numpy.generic,\n",
       " float,\n",
       " object]"
      ]
     },
     "execution_count": 25,
     "metadata": {},
     "output_type": "execute_result"
    }
   ],
   "source": [
    "# We can see all of the parent classes of a specific datatype by calling .mro()\n",
    "np.float64.mro()"
   ]
  },
  {
   "cell_type": "markdown",
   "metadata": {},
   "source": [
    "## Advanced array manipulation\n",
    "We may need to write some data algorithm for complicated cases of data manipulation in numpy"
   ]
  },
  {
   "cell_type": "markdown",
   "metadata": {},
   "source": [
    "### Reshaping arrays"
   ]
  },
  {
   "cell_type": "code",
   "execution_count": 35,
   "metadata": {},
   "outputs": [
    {
     "name": "stdout",
     "output_type": "stream",
     "text": [
      "[ 4  6  3 56  3  6 47  9  4  4 65 12]\n",
      "\n",
      "[[ 4  6  3 56]\n",
      " [ 3  6 47  9]\n",
      " [ 4  4 65 12]]\n",
      "\n",
      "[[ 4  6  3 56  3  6]\n",
      " [47  9  4  4 65 12]]\n"
     ]
    }
   ],
   "source": [
    "arr1 = np.array([4,6,3,56,3,6,47,9,4,4,65,12])\n",
    "arr2 = arr1.reshape((3,4))\n",
    "\n",
    "arr3 = arr2.reshape((2,6))\n",
    "print(arr1)\n",
    "print(\"\")\n",
    "print(arr2)\n",
    "print(\"\")\n",
    "print(arr3)"
   ]
  },
  {
   "cell_type": "code",
   "execution_count": 39,
   "metadata": {},
   "outputs": [
    {
     "data": {
      "text/plain": [
       "array([[ 0,  1,  2],\n",
       "       [ 3,  4,  5],\n",
       "       [ 6,  7,  8],\n",
       "       [ 9, 10, 11],\n",
       "       [12, 13, 14]])"
      ]
     },
     "execution_count": 39,
     "metadata": {},
     "output_type": "execute_result"
    }
   ],
   "source": [
    "# One of the passed shape domensionx can be -1. In that case the value used for that dimension will be inferred from the data\n",
    "\n",
    "arr4= np.arange(15).reshape((5,-1))\n",
    "arr4"
   ]
  },
  {
   "cell_type": "code",
   "execution_count": 48,
   "metadata": {},
   "outputs": [
    {
     "data": {
      "text/plain": [
       "array([ 0,  1,  2,  3,  4,  5,  6,  7,  8,  9, 10, 11, 12, 13, 14])"
      ]
     },
     "execution_count": 48,
     "metadata": {},
     "output_type": "execute_result"
    }
   ],
   "source": [
    "arr5 = np.arange(15).reshape(3,-1)\n",
    "arr6 = arr5.ravel()\n",
    "arr6"
   ]
  },
  {
   "cell_type": "code",
   "execution_count": 59,
   "metadata": {},
   "outputs": [
    {
     "data": {
      "text/plain": [
       "array([1, 4, 5, 3, 6, 8, 7, 9])"
      ]
     },
     "execution_count": 59,
     "metadata": {},
     "output_type": "execute_result"
    }
   ],
   "source": [
    "arr7 = np.array([1,4,5,3,6,8,7,9]).reshape(4,-1)\n",
    "arr8 = arr7.ravel() \n",
    "arr8\n"
   ]
  },
  {
   "cell_type": "code",
   "execution_count": 60,
   "metadata": {},
   "outputs": [
    {
     "name": "stdout",
     "output_type": "stream",
     "text": [
      "[[1 4]\n",
      " [5 3]\n",
      " [6 8]\n",
      " [7 9]]\n",
      "[1 4 5 3 6 8 7 9]\n",
      "[1 4 5 3 6 8 7 9]\n"
     ]
    }
   ],
   "source": [
    "#To always flatten we have flatten()\n",
    "arr9 = arr7.flatten()\n",
    "print(arr7)\n",
    "print(arr8)\n",
    "print(arr9)"
   ]
  },
  {
   "cell_type": "markdown",
   "metadata": {},
   "source": [
    "### Concatenating and Splitting Arrays\n",
    "numpy.concatenate takes a sequence (tuple,list,etc) of arrays and joins them in order along the input axis.\n"
   ]
  },
  {
   "cell_type": "code",
   "execution_count": 88,
   "metadata": {},
   "outputs": [
    {
     "data": {
      "text/plain": [
       "array([[4, 3, 5],\n",
       "       [6, 8, 9],\n",
       "       [5, 8, 9],\n",
       "       [9, 4, 3]])"
      ]
     },
     "execution_count": 88,
     "metadata": {},
     "output_type": "execute_result"
    }
   ],
   "source": [
    "arr1 = np.array([[4,3,5],[6,8,9]])\n",
    "arr2 = np.array([[5,8,9],[9,4,3]])\n",
    "np.concatenate([arr1,arr2],axis=0)"
   ]
  },
  {
   "cell_type": "code",
   "execution_count": 89,
   "metadata": {},
   "outputs": [
    {
     "data": {
      "text/plain": [
       "array([[4, 3, 5, 5, 8, 9],\n",
       "       [6, 8, 9, 9, 4, 3]])"
      ]
     },
     "execution_count": 89,
     "metadata": {},
     "output_type": "execute_result"
    }
   ],
   "source": [
    "np.concatenate([arr1,arr2],axis=1)"
   ]
  },
  {
   "cell_type": "code",
   "execution_count": 90,
   "metadata": {},
   "outputs": [
    {
     "data": {
      "text/plain": [
       "array([[4, 3, 5],\n",
       "       [6, 8, 9],\n",
       "       [5, 8, 9],\n",
       "       [9, 4, 3]])"
      ]
     },
     "execution_count": 90,
     "metadata": {},
     "output_type": "execute_result"
    }
   ],
   "source": [
    "# Another way to concatenate \n",
    "np.vstack((arr1,arr2))"
   ]
  },
  {
   "cell_type": "code",
   "execution_count": 91,
   "metadata": {},
   "outputs": [
    {
     "data": {
      "text/plain": [
       "array([[4, 3, 5, 5, 8, 9],\n",
       "       [6, 8, 9, 9, 4, 3]])"
      ]
     },
     "execution_count": 91,
     "metadata": {},
     "output_type": "execute_result"
    }
   ],
   "source": [
    "np.hstack((arr1,arr2))"
   ]
  },
  {
   "cell_type": "code",
   "execution_count": 97,
   "metadata": {},
   "outputs": [
    {
     "data": {
      "text/plain": [
       "array([[-1.42382504,  1.26372846],\n",
       "       [-0.87066174, -0.25917323],\n",
       "       [-0.07534331, -0.74088465],\n",
       "       [-1.3677927 ,  0.6488928 ],\n",
       "       [ 0.36105811, -1.95286306],\n",
       "       [ 2.34740965,  0.96849691]])"
      ]
     },
     "execution_count": 97,
     "metadata": {},
     "output_type": "execute_result"
    }
   ],
   "source": [
    "# Slices\n",
    "rng = np.random.default_rng(seed=12345)\n",
    "arr = rng.standard_normal((6,2))\n",
    "arr"
   ]
  },
  {
   "cell_type": "code",
   "execution_count": 109,
   "metadata": {},
   "outputs": [
    {
     "data": {
      "text/plain": [
       "array([[ 0.36105811, -1.95286306],\n",
       "       [ 2.34740965,  0.96849691]])"
      ]
     },
     "execution_count": 109,
     "metadata": {},
     "output_type": "execute_result"
    }
   ],
   "source": [
    "first,second,third, fourth= np.split(arr,[1,2,4]) #[1,3] -> Indicate the indices where it has to split\n",
    "fourth"
   ]
  },
  {
   "cell_type": "markdown",
   "metadata": {},
   "source": [
    "### Stacking helpers: r_ and c_\n",
    "Make stacking arrays more concise"
   ]
  },
  {
   "cell_type": "code",
   "execution_count": 119,
   "metadata": {},
   "outputs": [
    {
     "data": {
      "text/plain": [
       "array([[0.        , 1.        ],\n",
       "       [2.        , 3.        ],\n",
       "       [4.        , 5.        ],\n",
       "       [0.06114402, 0.0709146 ],\n",
       "       [0.43365454, 0.27748366],\n",
       "       [0.53025239, 0.53672097]])"
      ]
     },
     "execution_count": 119,
     "metadata": {},
     "output_type": "execute_result"
    }
   ],
   "source": [
    "arr = np.arange(6)\n",
    "arr1 = arr.reshape((3,2))\n",
    "arr2 = rng.standard_normal((3,2))\n",
    "np.r_[arr1,arr2] #Concatenates rows"
   ]
  },
  {
   "cell_type": "code",
   "execution_count": 120,
   "metadata": {},
   "outputs": [
    {
     "data": {
      "text/plain": [
       "array([[0.        , 1.        , 0.06114402, 0.0709146 ],\n",
       "       [2.        , 3.        , 0.43365454, 0.27748366],\n",
       "       [4.        , 5.        , 0.53025239, 0.53672097]])"
      ]
     },
     "execution_count": 120,
     "metadata": {},
     "output_type": "execute_result"
    }
   ],
   "source": [
    "np.c_[arr1,arr2] #Concatenates columns"
   ]
  },
  {
   "cell_type": "code",
   "execution_count": 126,
   "metadata": {},
   "outputs": [
    {
     "data": {
      "text/plain": [
       "array([[  1, -10],\n",
       "       [  2,  -9],\n",
       "       [  3,  -8],\n",
       "       [  4,  -7],\n",
       "       [  5,  -6]])"
      ]
     },
     "execution_count": 126,
     "metadata": {},
     "output_type": "execute_result"
    }
   ],
   "source": [
    "np.c_[1:6,-10:-5]"
   ]
  },
  {
   "cell_type": "markdown",
   "metadata": {},
   "source": [
    "# Repeating elements: Tile and repeat\n",
    "Produce larger arrays\n",
    "- repeat -> Replicates each element in an array somer number of times"
   ]
  },
  {
   "cell_type": "code",
   "execution_count": 127,
   "metadata": {},
   "outputs": [
    {
     "data": {
      "text/plain": [
       "array([0, 0, 1, 1, 2, 2, 3, 3])"
      ]
     },
     "execution_count": 127,
     "metadata": {},
     "output_type": "execute_result"
    }
   ],
   "source": [
    "arr = np.arange(4)\n",
    "arr.repeat(2)"
   ]
  },
  {
   "cell_type": "code",
   "execution_count": 129,
   "metadata": {},
   "outputs": [
    {
     "data": {
      "text/plain": [
       "array([0, 0, 1, 1, 1, 1, 2, 2, 2, 2, 2, 3, 3])"
      ]
     },
     "execution_count": 129,
     "metadata": {},
     "output_type": "execute_result"
    }
   ],
   "source": [
    "# Passing an array will do each element can be repeated a different number of times\n",
    "arr.repeat([2,4,5,2])"
   ]
  },
  {
   "cell_type": "code",
   "execution_count": 134,
   "metadata": {},
   "outputs": [],
   "source": [
    "# Multidimensional arrays can have their elements repeated along a particular axis.\n",
    "arr = rng.standard_normal((4,2))"
   ]
  },
  {
   "cell_type": "code",
   "execution_count": 135,
   "metadata": {},
   "outputs": [
    {
     "data": {
      "text/plain": [
       "array([[ 0.68828179, -1.15452958],\n",
       "       [ 0.65045239, -1.38835995],\n",
       "       [-0.90738246, -1.09542531],\n",
       "       [ 0.00714569,  0.5343599 ]])"
      ]
     },
     "execution_count": 135,
     "metadata": {},
     "output_type": "execute_result"
    }
   ],
   "source": [
    "arr"
   ]
  },
  {
   "cell_type": "code",
   "execution_count": 139,
   "metadata": {},
   "outputs": [
    {
     "data": {
      "text/plain": [
       "array([ 0.68828179,  0.68828179, -1.15452958, -1.15452958,  0.65045239,\n",
       "        0.65045239, -1.38835995, -1.38835995, -0.90738246, -0.90738246,\n",
       "       -1.09542531, -1.09542531,  0.00714569,  0.00714569,  0.5343599 ,\n",
       "        0.5343599 ])"
      ]
     },
     "execution_count": 139,
     "metadata": {},
     "output_type": "execute_result"
    }
   ],
   "source": [
    "arr.repeat(2,axis=1) #If no axes passed, it wil flatten the array\n"
   ]
  },
  {
   "cell_type": "code",
   "execution_count": 147,
   "metadata": {},
   "outputs": [
    {
     "data": {
      "text/plain": [
       "array([[ 0.68828179, -1.15452958,  0.68828179, -1.15452958],\n",
       "       [ 0.65045239, -1.38835995,  0.65045239, -1.38835995],\n",
       "       [-0.90738246, -1.09542531, -0.90738246, -1.09542531],\n",
       "       [ 0.00714569,  0.5343599 ,  0.00714569,  0.5343599 ]])"
      ]
     },
     "execution_count": 147,
     "metadata": {},
     "output_type": "execute_result"
    }
   ],
   "source": [
    "# Tile -> stacking copies of an array along an axis.\n",
    "arr\n",
    "np.tile(arr,2)"
   ]
  },
  {
   "cell_type": "code",
   "execution_count": 142,
   "metadata": {},
   "outputs": [
    {
     "data": {
      "text/plain": [
       "array([[ 0.68828179, -1.15452958],\n",
       "       [ 0.65045239, -1.38835995],\n",
       "       [-0.90738246, -1.09542531],\n",
       "       [ 0.00714569,  0.5343599 ]])"
      ]
     },
     "execution_count": 142,
     "metadata": {},
     "output_type": "execute_result"
    }
   ],
   "source": [
    "arr"
   ]
  },
  {
   "cell_type": "code",
   "execution_count": 151,
   "metadata": {},
   "outputs": [
    {
     "data": {
      "text/plain": [
       "array([[ 0.68828179, -1.15452958,  0.68828179, -1.15452958],\n",
       "       [ 0.65045239, -1.38835995,  0.65045239, -1.38835995],\n",
       "       [-0.90738246, -1.09542531, -0.90738246, -1.09542531],\n",
       "       [ 0.00714569,  0.5343599 ,  0.00714569,  0.5343599 ],\n",
       "       [ 0.68828179, -1.15452958,  0.68828179, -1.15452958],\n",
       "       [ 0.65045239, -1.38835995,  0.65045239, -1.38835995],\n",
       "       [-0.90738246, -1.09542531, -0.90738246, -1.09542531],\n",
       "       [ 0.00714569,  0.5343599 ,  0.00714569,  0.5343599 ],\n",
       "       [ 0.68828179, -1.15452958,  0.68828179, -1.15452958],\n",
       "       [ 0.65045239, -1.38835995,  0.65045239, -1.38835995],\n",
       "       [-0.90738246, -1.09542531, -0.90738246, -1.09542531],\n",
       "       [ 0.00714569,  0.5343599 ,  0.00714569,  0.5343599 ]])"
      ]
     },
     "execution_count": 151,
     "metadata": {},
     "output_type": "execute_result"
    }
   ],
   "source": [
    "np.tile(arr,(3,2))"
   ]
  },
  {
   "cell_type": "markdown",
   "metadata": {},
   "source": [
    "### Fancy indexing Equivalents: take and put\n",
    "Allows to get and set subsets or arrays"
   ]
  },
  {
   "cell_type": "code",
   "execution_count": 152,
   "metadata": {},
   "outputs": [],
   "source": [
    "arr = np.arange(10) * 100"
   ]
  },
  {
   "cell_type": "code",
   "execution_count": 154,
   "metadata": {},
   "outputs": [],
   "source": [
    "inds= [7,1,2,6]"
   ]
  },
  {
   "cell_type": "code",
   "execution_count": 155,
   "metadata": {},
   "outputs": [
    {
     "data": {
      "text/plain": [
       "array([700, 100, 200, 600])"
      ]
     },
     "execution_count": 155,
     "metadata": {},
     "output_type": "execute_result"
    }
   ],
   "source": [
    "arr[inds]"
   ]
  },
  {
   "cell_type": "code",
   "execution_count": 156,
   "metadata": {},
   "outputs": [
    {
     "data": {
      "text/plain": [
       "array([700, 100, 200, 600])"
      ]
     },
     "execution_count": 156,
     "metadata": {},
     "output_type": "execute_result"
    }
   ],
   "source": [
    "#We could use take\n",
    "arr.take(inds)"
   ]
  },
  {
   "cell_type": "code",
   "execution_count": 159,
   "metadata": {},
   "outputs": [
    {
     "data": {
      "text/plain": [
       "array([  0,  34,  34, 300, 400, 500,  34,  34, 800, 900])"
      ]
     },
     "execution_count": 159,
     "metadata": {},
     "output_type": "execute_result"
    }
   ],
   "source": [
    "arr.put(inds,34) # Changes the values of the given values\n",
    "arr"
   ]
  },
  {
   "cell_type": "code",
   "execution_count": 167,
   "metadata": {},
   "outputs": [
    {
     "data": {
      "text/plain": [
       "array([  0, 153, 299, 300, 400, 500, 698, 732, 800, 900])"
      ]
     },
     "execution_count": 167,
     "metadata": {},
     "output_type": "execute_result"
    }
   ],
   "source": [
    "arr.put(inds,[732,153,299,698]) # It changes the value according to the index\n",
    "arr"
   ]
  },
  {
   "cell_type": "code",
   "execution_count": null,
   "metadata": {},
   "outputs": [],
   "source": []
  }
 ],
 "metadata": {
  "kernelspec": {
   "display_name": "mlenv",
   "language": "python",
   "name": "python3"
  },
  "language_info": {
   "codemirror_mode": {
    "name": "ipython",
    "version": 3
   },
   "file_extension": ".py",
   "mimetype": "text/x-python",
   "name": "python",
   "nbconvert_exporter": "python",
   "pygments_lexer": "ipython3",
   "version": "3.11.5"
  }
 },
 "nbformat": 4,
 "nbformat_minor": 2
}
